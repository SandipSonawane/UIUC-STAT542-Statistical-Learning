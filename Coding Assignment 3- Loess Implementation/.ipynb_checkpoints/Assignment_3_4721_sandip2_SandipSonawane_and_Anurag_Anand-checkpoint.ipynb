{
 "cells": [
  {
   "cell_type": "markdown",
   "metadata": {},
   "source": [
    "## Part I : Select optimal span for loess\n",
    "\n",
    "\n",
    "#### [Part I 1. Prepare Loess Function](#part1_1)\n",
    "#### [Part I 2. Test Loess Function](#part1_2)\n",
    "#### [Part I 3. Results](#part1_3)\n",
    "\n",
    "#### [Part I 4. a](#part1_4)\n",
    "#### [Part I 5. a](#part1_5)\n",
    "#### [Part I 6. a](#part1_6)\n",
    "#### [Part I 7. a](#part1_7)"
   ]
  },
  {
   "cell_type": "markdown",
   "metadata": {},
   "source": [
    "### Abbrevations:\n",
    "- LOESS: Locally Estimated Scatterplot Smoothing\n",
    "- LOO-CV: Leave One Out- Cross Validation\n",
    "- GCV: Generalized Cross Validation\n",
    "\n",
    "### Terminologies:\n",
    "1. Smoother Matrix:\n",
    "\n",
    "    - Matrix that maps $y$ to $\\hat{y}$\n",
    "    \n",
    "    > $\\hat{y} = X\\hat{\\beta} = X_{n x p}(X^{t}X)^{-1}_{p x p}X^{t}_{p x n}y$\n",
    "    \n",
    "    > $\\hat{y}_{n x 1} = S_{n x n}y_{n x 1}$\n",
    "    \n",
    "    - Here, $S= X(X^{t}X)^{-1}X^{t}$ does not depend on y, it only depends on X.\n",
    "\n",
    "\n",
    "2. Leave One Out Cross Validation:\n",
    "> $LOO-CV(\\hat{f})=\\frac{1}{N}\\sum_{i=1}^{N}\\left[y_i - \\hat{f}^{[-i]}(x_i)\\right]^2\n",
    "= \\frac{1}{N}\\sum_{i=1}^{N}\\left[\\frac{y_i - \\hat{f}(x_i)}{1-S_{\\lambda}(i, i)}\\right]^2$\n",
    "\n",
    "    - Where $\\hat{f}^{[-i]}$ denotes the model learned based on n-1 samples meaning leaveing the i-th sample out.\n",
    "    - $S_{i,i}$ is the (i, i)-th entry of the smoothing matrix S.\n",
    "    - $\\hat{f}(x_i)$ is equivalent to $\\hat{y}_{i}$\n",
    "    - This makes LOO-VS faster than general m-fold CV.\n",
    "\n",
    "\n",
    "3. Generalized Cross Validation:\n",
    "> $GCV(\\hat{f})= \\frac{1}{N}\\sum_{i=1}^{N}\\left[\\frac{y_i - \\hat{f}(x_i)}{1-trace(S)/N}\\right]^2$\n",
    "\n",
    "4. Locally Estimated Scatterplot Smoothing:\n",
    "    - Here, the tuning parameter is the span\n",
    "    - Large value of span induces high bias and lower variance, and vice-versa\n",
    "\n",
    "    > <img src=\"https://rafalab.github.io/dsbook/ml/img/loess-multi-span-animation.gif\" style=\"height: 400px;\">\n",
    "\n",
    "\n",
    "\n",
    "References:\n",
    "1. https://liangfgithub.github.io/Notes/lec_W5_NonlinearRegression.pdf\n",
    "2. https://rafalab.github.io/dsbook/smoothing.html\n",
    "3. https://towardsdatascience.com/loess-373d43b03564"
   ]
  },
  {
   "cell_type": "markdown",
   "metadata": {},
   "source": [
    "### Loess Algorithm:\n",
    "\n",
    "Step 1: Choose neighborhood points\n",
    "> The $\\alpha n$ points, those with $|x_{i} - x|$ smallest, are called the neighborhood of $x_{0}: N(x_{0}$\n",
    "\n",
    "Step 2: Fit weighted least-squares linear regression\n",
    "> $\\hat{f}(x) = \\hat{\\beta}_{0} + \\hat{\\beta}_{1} (x - x_{0})$ is fit in $N(x_{0}$ points\n",
    "\n",
    "> Cost function $=\\sum_{x_{i} \\epsilon N(x_0)}w_{i}\\left[y_i - \\beta_{0} - \\beta_{1}(x_i - x_0)\\right]^2$\n",
    "\n",
    " where, $w_i = (1-u^{3}_{i})^3$\n",
    " with $u_i = \\frac{|x_i - x_0|}{max_{N(x_0)} |x_j - x_0|}$\n",
    " \n",
    " means $w_i = 0$ if $|u| \\geqslant 1$ and\n",
    " $(1-u^{3}_{i})^3$  if $|u| < 1$\n",
    " - Larger distances will have lower weights\n"
   ]
  },
  {
   "cell_type": "markdown",
   "metadata": {},
   "source": [
    "### Linear Regression in Loess\n",
    "\n",
    "The smoother matrix is of the below form:\n",
    "- Matrix that maps $y$ to $\\hat{y}$\n",
    "    \n",
    "    > $\\hat{y} = X\\hat{\\beta} = X_{n x p}(X^{t}WX)^{-1}_{p x p}X^{t}W_{p x n}y$\n",
    "    \n",
    "    > $\\hat{y}_{n x 1} = S_{n x n}y_{n x 1}$\n",
    "    \n",
    "    - Here, $S= X(X^{t}WX)^{-1}X^{t}W$ does not depend on y, it only depends on X.\n",
    "    - The weight matrix W has all the calculated weights in the diagonal with all other elements set to zero."
   ]
  },
  {
   "cell_type": "markdown",
   "metadata": {},
   "source": [
    "### <a id='part1_1'>Part I 1.Prepare Loess Function</a>"
   ]
  },
  {
   "cell_type": "code",
   "execution_count": 34,
   "metadata": {},
   "outputs": [],
   "source": [
    "import pandas as pd\n",
    "import numpy as np\n",
    "import plotly.express as px\n",
    "import matplotlib.pyplot as plt\n",
    "from loess.loess_1d import loess_1d"
   ]
  },
  {
   "cell_type": "code",
   "execution_count": 18,
   "metadata": {},
   "outputs": [
    {
     "data": {
      "text/html": [
       "<div>\n",
       "<style scoped>\n",
       "    .dataframe tbody tr th:only-of-type {\n",
       "        vertical-align: middle;\n",
       "    }\n",
       "\n",
       "    .dataframe tbody tr th {\n",
       "        vertical-align: top;\n",
       "    }\n",
       "\n",
       "    .dataframe thead th {\n",
       "        text-align: right;\n",
       "    }\n",
       "</style>\n",
       "<table border=\"1\" class=\"dataframe\">\n",
       "  <thead>\n",
       "    <tr style=\"text-align: right;\">\n",
       "      <th></th>\n",
       "      <th>x</th>\n",
       "      <th>y</th>\n",
       "    </tr>\n",
       "  </thead>\n",
       "  <tbody>\n",
       "    <tr>\n",
       "      <th>0</th>\n",
       "      <td>0.009496</td>\n",
       "      <td>2.692822</td>\n",
       "    </tr>\n",
       "    <tr>\n",
       "      <th>1</th>\n",
       "      <td>0.039996</td>\n",
       "      <td>0.566787</td>\n",
       "    </tr>\n",
       "  </tbody>\n",
       "</table>\n",
       "</div>"
      ],
      "text/plain": [
       "          x         y\n",
       "0  0.009496  2.692822\n",
       "1  0.039996  0.566787"
      ]
     },
     "execution_count": 18,
     "metadata": {},
     "output_type": "execute_result"
    }
   ],
   "source": [
    "df = pd.read_csv('Coding3_data.csv')\n",
    "df.head(2)"
   ]
  },
  {
   "cell_type": "code",
   "execution_count": 19,
   "metadata": {},
   "outputs": [
    {
     "data": {
      "text/plain": [
       "array([0.2 , 0.25, 0.3 , 0.35, 0.4 , 0.45, 0.5 , 0.55, 0.6 , 0.65, 0.7 ,\n",
       "       0.75, 0.8 , 0.85, 0.9 ])"
      ]
     },
     "execution_count": 19,
     "metadata": {},
     "output_type": "execute_result"
    }
   ],
   "source": [
    "span_range = np.arange(0.20, 0.91, 0.05)\n",
    "span_range"
   ]
  },
  {
   "cell_type": "code",
   "execution_count": 48,
   "metadata": {},
   "outputs": [],
   "source": [
    "def tricubic(u):\n",
    "    \"\"\"\n",
    "    u: normalized vector\n",
    "    1. output array w is created with dimensions equal to the input array\n",
    "    2. indexing array is created to remain in the function's domain\n",
    "    \"\"\"\n",
    "    w = np.zeros_like(u)\n",
    "    idx = (u >= -1) & (u <= 1)\n",
    "    w[idx] = np.power(1.0 - np.power(np.abs(u[idx]), 3), 3)\n",
    "    return w\n",
    "\n",
    "class Loess(object):\n",
    "    \n",
    "    \"\"\"\n",
    "    x1: n-by-1 feature vector\n",
    "    sp: a numerical value for 'span'\n",
    "    \n",
    "    \"\"\"\n",
    "    \n",
    "    @staticmethod\n",
    "    def normalize_array(array):\n",
    "        \"\"\"\n",
    "        function to normalize input array\n",
    "        \"\"\"\n",
    "        min_val = np.min(array)\n",
    "        max_val = np.max(array)\n",
    "        return (array - min_val) / (max_val - min_val), min_val, max_val\n",
    "    \n",
    "    def __init__(self, xx, yy, degree=1):\n",
    "        self.n_xx, self.min_xx, self.max_xx = self.normalize_array(xx)\n",
    "        self.n_yy, self.min_yy, self.max_yy = self.normalize_array(yy)\n",
    "        self.degree = degree\n",
    "        \n",
    "    @staticmethod\n",
    "    def get_min_range(distances, window):\n",
    "        min_idx = np.argmin(distances)\n",
    "        n = len(distances)\n",
    "        if min_idx == 0:\n",
    "            return np.arange(0, window)\n",
    "        if min_idx == n-1:\n",
    "            return np.arange(n - window, n)\n",
    "\n",
    "        min_range = [min_idx]\n",
    "        while len(min_range) < window:\n",
    "            i0 = min_range[0]\n",
    "            i1 = min_range[-1]\n",
    "            if i0 == 0:\n",
    "                min_range.append(i1 + 1)\n",
    "            elif i1 == n-1:\n",
    "                min_range.insert(0, i0 - 1)\n",
    "            elif distances[i0-1] < distances[i1+1]:\n",
    "                min_range.insert(0, i0 - 1)\n",
    "            else:\n",
    "                min_range.append(i1 + 1)\n",
    "        return np.array(min_range)\n",
    "    \n",
    "    @staticmethod\n",
    "    def calculate_weights(distances, span):\n",
    "        max_dist = np.max(distances[span])\n",
    "        weights = tricubic(distances[span] / max_dist)\n",
    "        return weights\n",
    "    \n",
    "    def normalize_x(self, value):\n",
    "        return (value - self.min_xx) / (self.max_xx - self.min_xx)\n",
    "    \n",
    "    def denormalize_y(self, value):\n",
    "        return value * (self.max_yy - self.min_yy) + self.min_yy\n",
    "\n",
    "    def estimate(self, x, window, use_matrix=False, degree=1):\n",
    "        n_x = self.normalize_x(x)\n",
    "        distances = np.abs(self.n_xx - n_x)\n",
    "        min_range = self.get_min_range(distances, window)\n",
    "        weights = self.calculate_weights(distances, min_range)\n",
    "\n",
    "        if use_matrix or degree > 1:\n",
    "            wm = np.multiply(np.eye(window), weights)\n",
    "            xm = np.ones((window, degree + 1))\n",
    "\n",
    "            xp = np.array([[math.pow(n_x, p)] for p in range(degree + 1)])\n",
    "            for i in range(1, degree + 1):\n",
    "                xm[:, i] = np.power(self.n_xx[min_range], i)\n",
    "\n",
    "            ym = self.n_yy[min_range]\n",
    "            xmt_wm = np.transpose(xm) @ wm\n",
    "            beta = np.linalg.pinv(xmt_wm @ xm) @ xmt_wm @ ym\n",
    "            y = (beta @ xp)[0]\n",
    "        else:\n",
    "            xx = self.n_xx[min_range]\n",
    "            yy = self.n_yy[min_range]\n",
    "            sum_weight = np.sum(weights)\n",
    "            sum_weight_x = np.dot(xx, weights)\n",
    "            sum_weight_y = np.dot(yy, weights)\n",
    "            sum_weight_x2 = np.dot(np.multiply(xx, xx), weights)\n",
    "            sum_weight_xy = np.dot(np.multiply(xx, yy), weights)\n",
    "\n",
    "            mean_x = sum_weight_x / sum_weight\n",
    "            mean_y = sum_weight_y / sum_weight\n",
    "\n",
    "            b = (sum_weight_xy - mean_x * mean_y * sum_weight) / \\\n",
    "                (sum_weight_x2 - mean_x * mean_x * sum_weight)\n",
    "            a = mean_y - b * mean_x\n",
    "            y = a + b * n_x\n",
    "        return self.denormalize_y(y)\n",
    "    \n",
    "    def smoother_matrix(self):\n",
    "        \"\"\"\n",
    "        Compute the diagonal entrie of the smoother matrix S and store it in a vector \"lev\"\n",
    "        \"\"\"\n",
    "        pass"
   ]
  },
  {
   "cell_type": "code",
   "execution_count": 51,
   "metadata": {},
   "outputs": [
    {
     "data": {
      "image/png": "[encoded data removed]",
      "text/plain": [
       "<Figure size 432x288 with 1 Axes>"
      ]
     },
     "metadata": {
      "needs_background": "light"
     },
     "output_type": "display_data"
    }
   ],
   "source": [
    "xx = df.x\n",
    "yy = df.y\n",
    "\n",
    "loess = Loess(xx, yy)\n",
    "\n",
    "y_pred = []\n",
    "\n",
    "for x in xx:\n",
    "    y = loess.estimate(x, window=7, use_matrix=False, degree=1)\n",
    "    y_pred.append(y)\n",
    "\n",
    "plt.plot(xx, y_pred)   \n",
    "plt.scatter(xx, yy, c='g')\n",
    "plt.show()"
   ]
  },
  {
   "cell_type": "code",
   "execution_count": 30,
   "metadata": {},
   "outputs": [
    {
     "data": {
      "text/plain": [
       "array([0., 0., 0., 0., 0., 0., 0., 0., 0., 0., 0., 0., 0., 0., 0., 0., 0.,\n",
       "       0., 0., 0., 0., 0., 0., 0., 0., 0., 0., 0., 0., 0.])"
      ]
     },
     "execution_count": 30,
     "metadata": {},
     "output_type": "execute_result"
    }
   ],
   "source": [
    "np.zeros_like(df.x)"
   ]
  },
  {
   "cell_type": "code",
   "execution_count": 26,
   "metadata": {},
   "outputs": [
    {
     "data": {
      "text/plain": [
       "array([0.99999743, 0.99980807, 0.99971237, 0.99559645, 0.98797899,\n",
       "       0.98059638, 0.96890408, 0.96289752, 0.96274369, 0.9440881 ,\n",
       "       0.93371719, 0.93129113, 0.92692222, 0.91908488, 0.90777502,\n",
       "       0.64498174, 0.62441103, 0.58878347, 0.46337515, 0.43726359,\n",
       "       0.43509484, 0.40108867, 0.34962819, 0.29585405, 0.10209639,\n",
       "       0.07699815, 0.07044612, 0.04740286, 0.01294433, 0.00960399])"
      ]
     },
     "execution_count": 26,
     "metadata": {},
     "output_type": "execute_result"
    }
   ],
   "source": [
    "a.tricubic(df.x)"
   ]
  },
  {
   "cell_type": "code",
   "execution_count": 36,
   "metadata": {},
   "outputs": [
    {
     "name": "stdout",
     "output_type": "stream",
     "text": [
      "0.08631753921508789\n"
     ]
    },
    {
     "data": {
      "image/png": "[encoded data removed]",
      "text/plain": [
       "<Figure size 432x288 with 1 Axes>"
      ]
     },
     "metadata": {
      "needs_background": "light"
     },
     "output_type": "display_data"
    }
   ],
   "source": [
    "import numpy as np\n",
    "import time\n",
    "import math\n",
    "\n",
    "\n",
    "def tricubic(x):\n",
    "    y = np.zeros_like(x)\n",
    "    idx = (x >= -1) & (x <= 1)\n",
    "    y[idx] = np.power(1.0 - np.power(np.abs(x[idx]), 3), 3)\n",
    "    return y\n",
    "\n",
    "\n",
    "class Loess(object):\n",
    "\n",
    "    @staticmethod\n",
    "    def normalize_array(array):\n",
    "        min_val = np.min(array)\n",
    "        max_val = np.max(array)\n",
    "        return (array - min_val) / (max_val - min_val), min_val, max_val\n",
    "\n",
    "    def __init__(self, xx, yy, degree=1):\n",
    "        self.n_xx, self.min_xx, self.max_xx = self.normalize_array(xx)\n",
    "        self.n_yy, self.min_yy, self.max_yy = self.normalize_array(yy)\n",
    "        self.degree = degree\n",
    "\n",
    "    @staticmethod\n",
    "    def get_min_range(distances, window):\n",
    "        min_idx = np.argmin(distances)\n",
    "        n = len(distances)\n",
    "        if min_idx == 0:\n",
    "            return np.arange(0, window)\n",
    "        if min_idx == n-1:\n",
    "            return np.arange(n - window, n)\n",
    "\n",
    "        min_range = [min_idx]\n",
    "        while len(min_range) < window:\n",
    "            i0 = min_range[0]\n",
    "            i1 = min_range[-1]\n",
    "            if i0 == 0:\n",
    "                min_range.append(i1 + 1)\n",
    "            elif i1 == n-1:\n",
    "                min_range.insert(0, i0 - 1)\n",
    "            elif distances[i0-1] < distances[i1+1]:\n",
    "                min_range.insert(0, i0 - 1)\n",
    "            else:\n",
    "                min_range.append(i1 + 1)\n",
    "        return np.array(min_range)\n",
    "\n",
    "    @staticmethod\n",
    "    def get_weights(distances, min_range):\n",
    "        max_distance = np.max(distances[min_range])\n",
    "        weights = tricubic(distances[min_range] / max_distance)\n",
    "        return weights\n",
    "\n",
    "    def normalize_x(self, value):\n",
    "        return (value - self.min_xx) / (self.max_xx - self.min_xx)\n",
    "\n",
    "    def denormalize_y(self, value):\n",
    "        return value * (self.max_yy - self.min_yy) + self.min_yy\n",
    "\n",
    "    def estimate(self, x, window, use_matrix=False, degree=1):\n",
    "        n_x = self.normalize_x(x)\n",
    "        distances = np.abs(self.n_xx - n_x)\n",
    "        min_range = self.get_min_range(distances, window)\n",
    "        weights = self.get_weights(distances, min_range)\n",
    "\n",
    "        if use_matrix or degree > 1:\n",
    "            wm = np.multiply(np.eye(window), weights)\n",
    "            xm = np.ones((window, degree + 1))\n",
    "\n",
    "            xp = np.array([[math.pow(n_x, p)] for p in range(degree + 1)])\n",
    "            for i in range(1, degree + 1):\n",
    "                xm[:, i] = np.power(self.n_xx[min_range], i)\n",
    "\n",
    "            ym = self.n_yy[min_range]\n",
    "            xmt_wm = np.transpose(xm) @ wm\n",
    "            beta = np.linalg.pinv(xmt_wm @ xm) @ xmt_wm @ ym\n",
    "            y = (beta @ xp)[0]\n",
    "        else:\n",
    "            xx = self.n_xx[min_range]\n",
    "            yy = self.n_yy[min_range]\n",
    "            sum_weight = np.sum(weights)\n",
    "            sum_weight_x = np.dot(xx, weights)\n",
    "            sum_weight_y = np.dot(yy, weights)\n",
    "            sum_weight_x2 = np.dot(np.multiply(xx, xx), weights)\n",
    "            sum_weight_xy = np.dot(np.multiply(xx, yy), weights)\n",
    "\n",
    "            mean_x = sum_weight_x / sum_weight\n",
    "            mean_y = sum_weight_y / sum_weight\n",
    "\n",
    "            b = (sum_weight_xy - mean_x * mean_y * sum_weight) / \\\n",
    "                (sum_weight_x2 - mean_x * mean_x * sum_weight)\n",
    "            a = mean_y - b * mean_x\n",
    "            y = a + b * n_x\n",
    "        return self.denormalize_y(y)\n",
    "\n",
    "\n",
    "def main():\n",
    "#     xx = np.array([0.5578196, 2.0217271, 2.5773252, 3.4140288, 4.3014084,\n",
    "#                    4.7448394, 5.1073781, 6.5411662, 6.7216176, 7.2600583,\n",
    "#                    8.1335874, 9.1224379, 11.9296663, 12.3797674, 13.2728619,\n",
    "#                    14.2767453, 15.3731026, 15.6476637, 18.5605355, 18.5866354,\n",
    "#                    18.7572812])\n",
    "#     yy = np.array([18.63654, 103.49646, 150.35391, 190.51031, 208.70115,\n",
    "#                    213.71135, 228.49353, 233.55387, 234.55054, 223.89225,\n",
    "#                    227.68339, 223.91982, 168.01999, 164.95750, 152.61107,\n",
    "#                    160.78742, 168.55567, 152.42658, 221.70702, 222.69040,\n",
    "#                    243.18828])\n",
    "\n",
    "    xx = df.x\n",
    "    yy = df.y\n",
    "\n",
    "    loess = Loess(xx, yy)\n",
    "    \n",
    "    y_pred = []\n",
    "    \n",
    "    for x in xx:\n",
    "        y = loess.estimate(x, window=7, use_matrix=False, degree=1)\n",
    "        y_pred.append(y)\n",
    "        # print(x, y)\n",
    "    plt.plot(xx, y_pred)\n",
    "    plt.scatter(xx, yy, c='g')\n",
    "\n",
    "if __name__ == \"__main__\":\n",
    "    start = time.time()\n",
    "\n",
    "    main()\n",
    "\n",
    "    end = time. time()\n",
    "    print(end - start)\n"
   ]
  },
  {
   "cell_type": "code",
   "execution_count": null,
   "metadata": {},
   "outputs": [],
   "source": []
  }
 ],
 "metadata": {
  "kernelspec": {
   "display_name": "Python 3",
   "language": "python",
   "name": "python3"
  },
  "language_info": {
   "codemirror_mode": {
    "name": "ipython",
    "version": 3
   },
   "file_extension": ".py",
   "mimetype": "text/x-python",
   "name": "python",
   "nbconvert_exporter": "python",
   "pygments_lexer": "ipython3",
   "version": "3.8.5"
  }
 },
 "nbformat": 4,
 "nbformat_minor": 4
}
