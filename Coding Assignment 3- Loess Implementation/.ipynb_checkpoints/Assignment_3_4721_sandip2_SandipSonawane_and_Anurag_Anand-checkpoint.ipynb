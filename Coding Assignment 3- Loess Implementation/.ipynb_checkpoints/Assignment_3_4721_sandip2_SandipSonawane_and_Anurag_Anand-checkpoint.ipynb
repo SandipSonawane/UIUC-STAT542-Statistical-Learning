{
 "cells": [
  {
   "cell_type": "markdown",
   "metadata": {},
   "source": [
    "Coding Assignemnt 3: https://liangfgithub.github.io/F21/coding3.pdf"
   ]
  },
  {
   "cell_type": "markdown",
   "metadata": {},
   "source": [
    "## Part I : Select optimal span for loess\n",
    "\n",
    "\n",
    "#### [Part I 1. Prepare Loess Function](#part1_1)\n",
    "#### [Part I 2. Test Loess Function](#part1_2)\n",
    "#### [Part I 3. Results](#part1_3)\n",
    "\n",
    "<!-- #### [Part I 4. a](#part1_4)\n",
    "#### [Part I 5. a](#part1_5)\n",
    "#### [Part I 6. a](#part1_6)\n",
    "#### [Part I 7. a](#part1_7) -->"
   ]
  },
  {
   "cell_type": "markdown",
   "metadata": {},
   "source": [
    "### Abbrevations:\n",
    "- LOESS: Locally Estimated Scatterplot Smoothing\n",
    "- LOO-CV: Leave One Out- Cross Validation\n",
    "- GCV: Generalized Cross Validation\n",
    "\n",
    "### Terminologies:\n",
    "1. Smoother Matrix:\n",
    "\n",
    "    - Matrix that maps $y$ to $\\hat{y}$\n",
    "    \n",
    "    > $\\hat{y} = X\\hat{\\beta} = X_{n x p}(X^{t}X)^{-1}_{p x p}X^{t}_{p x n}y$\n",
    "    \n",
    "    > $\\hat{y}_{n x 1} = S_{n x n}y_{n x 1}$\n",
    "    \n",
    "    - Here, $S= X(X^{t}X)^{-1}X^{t}$ does not depend on y, it only depends on X.\n",
    "\n",
    "\n",
    "2. Leave One Out Cross Validation:\n",
    "> $LOO-CV(\\hat{f})=\\frac{1}{N}\\sum_{i=1}^{N}\\left[y_i - \\hat{f}^{[-i]}(x_i)\\right]^2\n",
    "= \\frac{1}{N}\\sum_{i=1}^{N}\\left[\\frac{y_i - \\hat{f}(x_i)}{1-S_{\\lambda}(i, i)}\\right]^2$\n",
    "\n",
    "    - Where $\\hat{f}^{[-i]}$ denotes the model learned based on n-1 samples meaning leaveing the i-th sample out.\n",
    "    - $S_{i,i}$ is the (i, i)-th entry of the smoothing matrix S.\n",
    "    - $\\hat{f}(x_i)$ is equivalent to $\\hat{y}_{i}$\n",
    "    - This makes LOO-VS faster than general m-fold CV.\n",
    "\n",
    "\n",
    "3. Generalized Cross Validation:\n",
    "> $GCV(\\hat{f})= \\frac{1}{N}\\sum_{i=1}^{N}\\left[\\frac{y_i - \\hat{f}(x_i)}{1-trace(S)/N}\\right]^2$\n",
    "\n",
    "4. Locally Estimated Scatterplot Smoothing:\n",
    "    - Here, the tuning parameter is the span\n",
    "    - Large value of span induces high bias and lower variance, and vice-versa\n",
    "\n",
    "    > <img src=\"https://rafalab.github.io/dsbook/ml/img/loess-multi-span-animation.gif\" style=\"height: 400px;\">\n",
    "\n",
    "\n",
    "\n",
    "References:\n",
    "1. https://liangfgithub.github.io/Notes/lec_W5_NonlinearRegression.pdf\n",
    "2. https://rafalab.github.io/dsbook/smoothing.html\n",
    "3. https://towardsdatascience.com/loess-373d43b03564"
   ]
  },
  {
   "cell_type": "markdown",
   "metadata": {},
   "source": [
    "### Loess Algorithm:\n",
    "\n",
    "Step 1: Choose neighborhood points\n",
    "> The $\\alpha n$ points, those with $|x_{i} - x|$ smallest, are called the neighborhood of $x_{0}: N(x_{0})$\n",
    "\n",
    "Step 2: Fit weighted least-squares linear regression\n",
    "> $\\hat{f}(x) = \\hat{\\beta}_{0} + \\hat{\\beta}_{1} (x - x_{0})$ is fit in $N(x_{0}$ points\n",
    "\n",
    "> Cost function $=\\sum_{x_{i} \\epsilon N(x_0)}w_{i}\\left[y_i - \\beta_{0} - \\beta_{1}(x_i - x_0)\\right]^2$\n",
    "\n",
    "where, $w_i = (1-u^{3}_{i})^3$\n",
    "with $u_i = \\frac{|x_i - x_0|}{max_{N(x_0)} |x_j - x_0|}$\n",
    " \n",
    " means $w_i = 0$ if $|u| \\geqslant 1$ and\n",
    " $(1-u^{3}_{i})^3$  if $|u| < 1$\n",
    " - Larger distances will have lower weights\n"
   ]
  },
  {
   "cell_type": "markdown",
   "metadata": {},
   "source": [
    "### Linear Regression in Loess\n",
    "\n",
    "The smoother matrix is of the below form:\n",
    "- Matrix that maps $y$ to $\\hat{y}$\n",
    "    \n",
    "    > $\\hat{y} = X\\hat{\\beta} = X_{n x p}(X^{t}WX)^{-1}_{p x p}X^{t}W_{p x n}y$\n",
    "    \n",
    "    > $\\hat{y}_{n x 1} = S_{n x n}y_{n x 1}$\n",
    "    \n",
    "    - Here, $S= X(X^{t}WX)^{-1}X^{t}W$ does not depend on y, it only depends on X.\n",
    "    - The weight matrix W has all the calculated weights in the diagonal with all other elements set to zero."
   ]
  },
  {
   "cell_type": "markdown",
   "metadata": {},
   "source": [
    "### <a id='part1_1'>Part I 1.Prepare Loess Function</a>"
   ]
  },
  {
   "cell_type": "code",
   "execution_count": 244,
   "metadata": {},
   "outputs": [],
   "source": [
    "import pandas as pd\n",
    "import numpy as np\n",
    "import plotly.express as px\n",
    "import matplotlib.pyplot as plt\n",
    "from loess.loess_1d import loess_1d\n",
    "import csaps"
   ]
  },
  {
   "cell_type": "code",
   "execution_count": 18,
   "metadata": {},
   "outputs": [
    {
     "data": {
      "text/html": [
       "<div>\n",
       "<style scoped>\n",
       "    .dataframe tbody tr th:only-of-type {\n",
       "        vertical-align: middle;\n",
       "    }\n",
       "\n",
       "    .dataframe tbody tr th {\n",
       "        vertical-align: top;\n",
       "    }\n",
       "\n",
       "    .dataframe thead th {\n",
       "        text-align: right;\n",
       "    }\n",
       "</style>\n",
       "<table border=\"1\" class=\"dataframe\">\n",
       "  <thead>\n",
       "    <tr style=\"text-align: right;\">\n",
       "      <th></th>\n",
       "      <th>x</th>\n",
       "      <th>y</th>\n",
       "    </tr>\n",
       "  </thead>\n",
       "  <tbody>\n",
       "    <tr>\n",
       "      <th>0</th>\n",
       "      <td>0.009496</td>\n",
       "      <td>2.692822</td>\n",
       "    </tr>\n",
       "    <tr>\n",
       "      <th>1</th>\n",
       "      <td>0.039996</td>\n",
       "      <td>0.566787</td>\n",
       "    </tr>\n",
       "  </tbody>\n",
       "</table>\n",
       "</div>"
      ],
      "text/plain": [
       "          x         y\n",
       "0  0.009496  2.692822\n",
       "1  0.039996  0.566787"
      ]
     },
     "execution_count": 18,
     "metadata": {},
     "output_type": "execute_result"
    }
   ],
   "source": [
    "df = pd.read_csv('Coding3_data.csv')\n",
    "df.head(2)"
   ]
  },
  {
   "cell_type": "code",
   "execution_count": 241,
   "metadata": {},
   "outputs": [],
   "source": [
    "def tricubic(u):\n",
    "    \"\"\"\n",
    "    u: normalized vector\n",
    "    1. output array w is created with dimensions equal to the input array\n",
    "    2. indexing array is created to remain in the function's domain\n",
    "    \"\"\"\n",
    "    w = np.zeros_like(u)\n",
    "    idx = (u >= -1) & (u <= 1)\n",
    "    w[idx] = np.power(1.0 - np.power(np.abs(u[idx]), 3), 3)\n",
    "    return w\n",
    "\n",
    "class Loess(object):\n",
    "       \n",
    "    @staticmethod\n",
    "    def normalize_array(array):\n",
    "        \"\"\"\n",
    "        function to normalize input array\n",
    "        \"\"\"\n",
    "        min_val = np.min(array)\n",
    "        max_val = np.max(array)\n",
    "        return (array - min_val) / (max_val - min_val), min_val, max_val\n",
    "    \n",
    "    def __init__(self, xx, yy, degree=0):\n",
    "        self.n_xx, self.min_xx, self.max_xx = self.normalize_array(xx)\n",
    "        self.n_yy, self.min_yy, self.max_yy = self.normalize_array(yy)\n",
    "        self.degree = degree\n",
    "        \n",
    "    @staticmethod\n",
    "    def get_min_range(distances, window):\n",
    "        \"\"\"\n",
    "        distances: array of distances\n",
    "        window: minimal-distance window\n",
    "        \"\"\"\n",
    "        min_idx = np.argmin(distances)\n",
    "        n = len(distances)\n",
    "        if min_idx == 0:\n",
    "            return np.arange(0, window)\n",
    "        if min_idx == n-1:\n",
    "            return np.arange(n - window, n)\n",
    "\n",
    "        min_range = [min_idx]\n",
    "        while len(min_range) < window:\n",
    "            i0 = min_range[0]\n",
    "            i1 = min_range[-1]\n",
    "            if i0 == 0:\n",
    "                min_range.append(i1 + 1)\n",
    "            elif i1 == n-1:\n",
    "                min_range.insert(0, i0 - 1)\n",
    "            elif distances[i0-1] < distances[i1+1]:\n",
    "                min_range.insert(0, i0 - 1)\n",
    "            else:\n",
    "                min_range.append(i1 + 1)\n",
    "        return np.array(min_range)\n",
    "    \n",
    "    @staticmethod\n",
    "    def calculate_weights(distances, span):\n",
    "        \"\"\"\n",
    "        distances: array of distances\n",
    "        span: minimal-distance window\n",
    "        \"\"\"\n",
    "        max_dist = np.max(distances[span])\n",
    "        weights = tricubic(distances[span] / max_dist)\n",
    "        return weights\n",
    "    \n",
    "    def normalize_x(self, value):\n",
    "        return (value - self.min_xx) / (self.max_xx - self.min_xx)\n",
    "    \n",
    "    def denormalize_y(self, value):\n",
    "        return value * (self.max_yy - self.min_yy) + self.min_yy\n",
    "\n",
    "    def estimate(self, x, window, degree=0):\n",
    "        \"\"\"\n",
    "        x: new data point\n",
    "        window: number of nearest values\n",
    "        wm: weights matrix\n",
    "        \"\"\"\n",
    "        n_x = self.normalize_x(x)\n",
    "        distances = np.abs(self.n_xx - n_x)\n",
    "        min_range = self.get_min_range(distances, window)\n",
    "        weights = self.calculate_weights(distances, min_range)\n",
    "\n",
    "        wm = np.multiply(np.eye(window), weights)\n",
    "        # Perform polynomial regression if degree is greater than 1\n",
    "        xm = np.ones((window, degree + 1))\n",
    "\n",
    "        xp = np.array([[math.pow(n_x, p)] for p in range(degree + 1)])\n",
    "        for i in range(1, degree + 1):\n",
    "            xm[:, i] = np.power(self.n_xx[min_range], i)\n",
    "\n",
    "        ym = self.n_yy[min_range]\n",
    "        xmt_wm = np.transpose(xm) @ wm\n",
    "        beta = np.linalg.pinv(xmt_wm @ xm) @ xmt_wm @ ym\n",
    "        y = (beta @ xp)[0]\n",
    "\n",
    "            \n",
    "        return self.denormalize_y(y)\n",
    "    "
   ]
  },
  {
   "cell_type": "code",
   "execution_count": 540,
   "metadata": {},
   "outputs": [
    {
     "data": {
      "image/png": "[encoded data removed]",
      "text/plain": [
       "<Figure size 1296x720 with 15 Axes>"
      ]
     },
     "metadata": {
      "needs_background": "light"
     },
     "output_type": "display_data"
    }
   ],
   "source": [
    "span_range = np.arange(0.20, 0.95, 0.05)\n",
    "span_range = np.round(span_range,2)\n",
    "\n",
    "fig, ax = plt.subplots(3, 5, figsize=(18, 10))\n",
    "plt.suptitle('LOESS fit with different values of span')\n",
    "\n",
    "z = 0\n",
    "k = 0\n",
    "\n",
    "for span in span_range:\n",
    "    my_pred = {}\n",
    "    for i in df.x:\n",
    "        xx = df.x[(df.x >= i-(span/2)) & (df.x <= i+(span/2))]\n",
    "        yy = df.y[(df.x >= i-(span/2)) & (df.x <= i+(span/2))]\n",
    "        loess = Loess(xx.tolist(), yy.tolist())\n",
    "        y_pred = []\n",
    "        \n",
    "        y = loess.estimate(i, window=len(xx), degree=0)\n",
    "        my_pred.update({i:y})\n",
    "          \n",
    "    if z==5:\n",
    "        k+=1\n",
    "        z=0\n",
    "        \n",
    "    ax[k][z].plot(my_pred.keys(), my_pred.values())   \n",
    "    ax[k][z].scatter(df.x, df.y, c='orange')\n",
    "    ax[k][z].grid(False)\n",
    "    ax[k][z].set_title(f'Loess fit with span ={span}')\n",
    "    fig.tight_layout()\n",
    "    z+=1\n",
    "    \n",
    "plt.show()"
   ]
  },
  {
   "cell_type": "code",
   "execution_count": 257,
   "metadata": {},
   "outputs": [],
   "source": [
    "from patsy import cr"
   ]
  },
  {
   "cell_type": "code",
   "execution_count": 494,
   "metadata": {},
   "outputs": [],
   "source": [
    "def smoother_matrix(x1, sp, i):\n",
    "    \"\"\"\n",
    "    Compute the diagonal entrie of the smoother matrix S and store it in a vector 'lev'\n",
    "    x1: n-by-1 feature vector\n",
    "    sp: a numerical value for 'span'\n",
    "\n",
    "    \"\"\"\n",
    "    x = x1[(x1 >= i-(sp/2)) & (x1 <= i+(sp/2))]\n",
    "    y = np.zeros(len(x))\n",
    "    idx = x.tolist().index(i)\n",
    "    y[idx] = 1\n",
    "    sp = cr(x, df=len(x), constraints=\"center\")\n",
    "    trace_s = np.trace(sp)\n",
    "    s_i = np.sum(y.dot(sp))\n",
    "    return trace_s, s_i"
   ]
  },
  {
   "cell_type": "code",
   "execution_count": 495,
   "metadata": {},
   "outputs": [
    {
     "data": {
      "text/plain": [
       "(1.3462491183023149, 0.20644296465770373)"
      ]
     },
     "execution_count": 495,
     "metadata": {},
     "output_type": "execute_result"
    }
   ],
   "source": [
    "smoother_matrix(df.x, 0.20, df.x[2])"
   ]
  },
  {
   "cell_type": "markdown",
   "metadata": {},
   "source": [
    "### <a id='part1_2'>Part I 2. Test Loess Function</a>"
   ]
  },
  {
   "cell_type": "code",
   "execution_count": 496,
   "metadata": {},
   "outputs": [],
   "source": [
    "def onestep_CV(sp):\n",
    "    \n",
    "    #  1) Fit a loess model y1 ~ x1 with span = sp, and extract the corresponding residual vector\n",
    "    my_pred = {}\n",
    "    for i in df.x:\n",
    "        xx = df.x[(df.x >= i-(span/2)) & (df.x <= i+(span/2))]\n",
    "        yy = df.y[(df.x >= i-(span/2)) & (df.x <= i+(span/2))]\n",
    "        loess = Loess(xx.tolist(), yy.tolist())\n",
    "        y_pred = []\n",
    "        \n",
    "        y = loess.estimate(i, window=len(xx), degree=0)\n",
    "        my_pred.update({i:y})\n",
    "    \n",
    "    #  2) Call smoother_matrix to obtain the diagonal entries of S\n",
    "    #  3) Compute LOO-CV and GCV using formula from lecture notes\n",
    "    LOO_CV = []\n",
    "    GCV = []\n",
    "    for i in df.x:\n",
    "        trace_s, s_i = smoother_matrix(df.x, sp, i)\n",
    "#         print(s_i, sp, i)\n",
    "        LOO_CV_i = np.mean((np.subtract(list(my_pred.values()), df.y.tolist())/(1-s_i))**2)\n",
    "#         if not LOO_CV_i > 20:\n",
    "        LOO_CV.append(LOO_CV_i)\n",
    "        \n",
    "        GCV_i = np.mean((np.subtract(list(my_pred.values()), df.y.tolist())/(1-trace_s/len(df.x)))**2)\n",
    "        GCV.append(GCV_i)\n",
    "        \n",
    "    return np.mean(LOO_CV), np.mean(GCV)"
   ]
  },
  {
   "cell_type": "code",
   "execution_count": 497,
   "metadata": {},
   "outputs": [],
   "source": [
    "LOO_CV = [onestep_CV(sp)[0] for sp in span_range]\n",
    "GCV = [onestep_CV(sp)[1] for sp in span_range]"
   ]
  },
  {
   "cell_type": "code",
   "execution_count": 498,
   "metadata": {},
   "outputs": [],
   "source": [
    "data = {'LOO_CV':LOO_CV,\n",
    "        'GCV': GCV,\n",
    "        'span': span_range}\n",
    "result_df = pd.DataFrame(data)"
   ]
  },
  {
   "cell_type": "markdown",
   "metadata": {},
   "source": [
    "### <a id='part1_3'>Part I 3. Results</a>"
   ]
  },
  {
   "cell_type": "code",
   "execution_count": 504,
   "metadata": {},
   "outputs": [
    {
     "data": {
      "text/html": [
       "<div>\n",
       "<style scoped>\n",
       "    .dataframe tbody tr th:only-of-type {\n",
       "        vertical-align: middle;\n",
       "    }\n",
       "\n",
       "    .dataframe tbody tr th {\n",
       "        vertical-align: top;\n",
       "    }\n",
       "\n",
       "    .dataframe thead th {\n",
       "        text-align: right;\n",
       "    }\n",
       "</style>\n",
       "<table border=\"1\" class=\"dataframe\">\n",
       "  <thead>\n",
       "    <tr style=\"text-align: right;\">\n",
       "      <th></th>\n",
       "      <th>LOO_CV</th>\n",
       "      <th>GCV</th>\n",
       "      <th>span</th>\n",
       "    </tr>\n",
       "  </thead>\n",
       "  <tbody>\n",
       "    <tr>\n",
       "      <th>0</th>\n",
       "      <td>22.808799</td>\n",
       "      <td>2.365594</td>\n",
       "      <td>0.20</td>\n",
       "    </tr>\n",
       "    <tr>\n",
       "      <th>1</th>\n",
       "      <td>8.248848</td>\n",
       "      <td>2.495097</td>\n",
       "      <td>0.25</td>\n",
       "    </tr>\n",
       "    <tr>\n",
       "      <th>2</th>\n",
       "      <td>7.590359</td>\n",
       "      <td>2.621467</td>\n",
       "      <td>0.30</td>\n",
       "    </tr>\n",
       "    <tr>\n",
       "      <th>3</th>\n",
       "      <td>4.736462</td>\n",
       "      <td>2.716395</td>\n",
       "      <td>0.35</td>\n",
       "    </tr>\n",
       "    <tr>\n",
       "      <th>4</th>\n",
       "      <td>5.073215</td>\n",
       "      <td>2.841489</td>\n",
       "      <td>0.40</td>\n",
       "    </tr>\n",
       "    <tr>\n",
       "      <th>5</th>\n",
       "      <td>4.565437</td>\n",
       "      <td>2.982878</td>\n",
       "      <td>0.45</td>\n",
       "    </tr>\n",
       "    <tr>\n",
       "      <th>6</th>\n",
       "      <td>5.078600</td>\n",
       "      <td>3.150375</td>\n",
       "      <td>0.50</td>\n",
       "    </tr>\n",
       "    <tr>\n",
       "      <th>7</th>\n",
       "      <td>4.810738</td>\n",
       "      <td>3.305587</td>\n",
       "      <td>0.55</td>\n",
       "    </tr>\n",
       "    <tr>\n",
       "      <th>8</th>\n",
       "      <td>5.017686</td>\n",
       "      <td>3.534250</td>\n",
       "      <td>0.60</td>\n",
       "    </tr>\n",
       "    <tr>\n",
       "      <th>9</th>\n",
       "      <td>4.873002</td>\n",
       "      <td>3.857766</td>\n",
       "      <td>0.65</td>\n",
       "    </tr>\n",
       "    <tr>\n",
       "      <th>10</th>\n",
       "      <td>4.116490</td>\n",
       "      <td>4.119086</td>\n",
       "      <td>0.70</td>\n",
       "    </tr>\n",
       "    <tr>\n",
       "      <th>11</th>\n",
       "      <td>4.061012</td>\n",
       "      <td>4.305195</td>\n",
       "      <td>0.75</td>\n",
       "    </tr>\n",
       "    <tr>\n",
       "      <th>12</th>\n",
       "      <td>4.222229</td>\n",
       "      <td>4.650088</td>\n",
       "      <td>0.80</td>\n",
       "    </tr>\n",
       "    <tr>\n",
       "      <th>13</th>\n",
       "      <td>3.881633</td>\n",
       "      <td>4.939213</td>\n",
       "      <td>0.85</td>\n",
       "    </tr>\n",
       "    <tr>\n",
       "      <th>14</th>\n",
       "      <td>3.791642</td>\n",
       "      <td>5.130355</td>\n",
       "      <td>0.90</td>\n",
       "    </tr>\n",
       "  </tbody>\n",
       "</table>\n",
       "</div>"
      ],
      "text/plain": [
       "       LOO_CV       GCV  span\n",
       "0   22.808799  2.365594  0.20\n",
       "1    8.248848  2.495097  0.25\n",
       "2    7.590359  2.621467  0.30\n",
       "3    4.736462  2.716395  0.35\n",
       "4    5.073215  2.841489  0.40\n",
       "5    4.565437  2.982878  0.45\n",
       "6    5.078600  3.150375  0.50\n",
       "7    4.810738  3.305587  0.55\n",
       "8    5.017686  3.534250  0.60\n",
       "9    4.873002  3.857766  0.65\n",
       "10   4.116490  4.119086  0.70\n",
       "11   4.061012  4.305195  0.75\n",
       "12   4.222229  4.650088  0.80\n",
       "13   3.881633  4.939213  0.85\n",
       "14   3.791642  5.130355  0.90"
      ]
     },
     "execution_count": 504,
     "metadata": {},
     "output_type": "execute_result"
    }
   ],
   "source": [
    "result_df"
   ]
  },
  {
   "cell_type": "code",
   "execution_count": 505,
   "metadata": {},
   "outputs": [
    {
     "data": {
      "text/html": [
       "<div>\n",
       "<style scoped>\n",
       "    .dataframe tbody tr th:only-of-type {\n",
       "        vertical-align: middle;\n",
       "    }\n",
       "\n",
       "    .dataframe tbody tr th {\n",
       "        vertical-align: top;\n",
       "    }\n",
       "\n",
       "    .dataframe thead th {\n",
       "        text-align: right;\n",
       "    }\n",
       "</style>\n",
       "<table border=\"1\" class=\"dataframe\">\n",
       "  <thead>\n",
       "    <tr style=\"text-align: right;\">\n",
       "      <th></th>\n",
       "      <th>LOO_CV</th>\n",
       "      <th>GCV</th>\n",
       "      <th>span</th>\n",
       "    </tr>\n",
       "  </thead>\n",
       "  <tbody>\n",
       "    <tr>\n",
       "      <th>14</th>\n",
       "      <td>3.791642</td>\n",
       "      <td>5.130355</td>\n",
       "      <td>0.9</td>\n",
       "    </tr>\n",
       "  </tbody>\n",
       "</table>\n",
       "</div>"
      ],
      "text/plain": [
       "      LOO_CV       GCV  span\n",
       "14  3.791642  5.130355   0.9"
      ]
     },
     "execution_count": 505,
     "metadata": {},
     "output_type": "execute_result"
    }
   ],
   "source": [
    "result_df[result_df.LOO_CV == min(result_df.LOO_CV)]"
   ]
  },
  {
   "cell_type": "code",
   "execution_count": 506,
   "metadata": {},
   "outputs": [
    {
     "data": {
      "text/html": [
       "<div>\n",
       "<style scoped>\n",
       "    .dataframe tbody tr th:only-of-type {\n",
       "        vertical-align: middle;\n",
       "    }\n",
       "\n",
       "    .dataframe tbody tr th {\n",
       "        vertical-align: top;\n",
       "    }\n",
       "\n",
       "    .dataframe thead th {\n",
       "        text-align: right;\n",
       "    }\n",
       "</style>\n",
       "<table border=\"1\" class=\"dataframe\">\n",
       "  <thead>\n",
       "    <tr style=\"text-align: right;\">\n",
       "      <th></th>\n",
       "      <th>LOO_CV</th>\n",
       "      <th>GCV</th>\n",
       "      <th>span</th>\n",
       "    </tr>\n",
       "  </thead>\n",
       "  <tbody>\n",
       "    <tr>\n",
       "      <th>0</th>\n",
       "      <td>22.808799</td>\n",
       "      <td>2.365594</td>\n",
       "      <td>0.2</td>\n",
       "    </tr>\n",
       "  </tbody>\n",
       "</table>\n",
       "</div>"
      ],
      "text/plain": [
       "      LOO_CV       GCV  span\n",
       "0  22.808799  2.365594   0.2"
      ]
     },
     "execution_count": 506,
     "metadata": {},
     "output_type": "execute_result"
    }
   ],
   "source": [
    "result_df[result_df.GCV == min(result_df.GCV)]"
   ]
  },
  {
   "cell_type": "markdown",
   "metadata": {},
   "source": [
    "- We can see that at span 0.2, GCV error is minimum, hence we will use span as 0.2"
   ]
  },
  {
   "cell_type": "code",
   "execution_count": 507,
   "metadata": {},
   "outputs": [
    {
     "data": {
      "image/png": "[encoded data removed]",
      "text/plain": [
       "<Figure size 432x288 with 1 Axes>"
      ]
     },
     "metadata": {
      "needs_background": "light"
     },
     "output_type": "display_data"
    }
   ],
   "source": [
    "for span in [0.2]:\n",
    "    my_pred = {}\n",
    "    for i in df.x:\n",
    "        xx = df.x[(df.x >= i-(span/2)) & (df.x <= i+(span/2))]\n",
    "        yy = df.y[(df.x >= i-(span/2)) & (df.x <= i+(span/2))]\n",
    "        loess = Loess(xx.tolist(), yy.tolist())\n",
    "        y_pred = []\n",
    "        \n",
    "        y = loess.estimate(i, window=len(xx), degree=0)\n",
    "        my_pred.update({i:y})\n",
    "        \n",
    "    plt.plot(my_pred.keys(), my_pred.values())   \n",
    "    plt.scatter(df.x, df.y, c='orange')\n",
    "    plt.title(f'Loess fit with span ={span}')\n",
    "    plt.show()"
   ]
  },
  {
   "cell_type": "code",
   "execution_count": null,
   "metadata": {},
   "outputs": [],
   "source": []
  },
  {
   "cell_type": "code",
   "execution_count": 2,
   "metadata": {},
   "outputs": [],
   "source": [
    "import pandas as pd\n",
    "df = pd.read_excel(r\"C:\\Users\\Sandi\\PycharmProjects\\makeMeProductive\\Spring22_TA_list.xlsx\")"
   ]
  },
  {
   "cell_type": "code",
   "execution_count": 8,
   "metadata": {},
   "outputs": [
    {
     "name": "stdout",
     "output_type": "stream",
     "text": [
      "Application for Graduate Teaching Assistant in the course Data Analytics Foundations for Accountancy (ACCY 570)\n"
     ]
    }
   ],
   "source": [
    "for i in range(0,1):\n",
    "    MailSubject = f\"Application for Graduate Teaching Assistant in the course {df['Subject'][i]} ({df['Subject Code'][i]})\"\n",
    "    print(MailSubject)"
   ]
  },
  {
   "cell_type": "code",
   "execution_count": 9,
   "metadata": {},
   "outputs": [
    {
     "data": {
      "text/html": [
       "<div>\n",
       "<style scoped>\n",
       "    .dataframe tbody tr th:only-of-type {\n",
       "        vertical-align: middle;\n",
       "    }\n",
       "\n",
       "    .dataframe tbody tr th {\n",
       "        vertical-align: top;\n",
       "    }\n",
       "\n",
       "    .dataframe thead th {\n",
       "        text-align: right;\n",
       "    }\n",
       "</style>\n",
       "<table border=\"1\" class=\"dataframe\">\n",
       "  <thead>\n",
       "    <tr style=\"text-align: right;\">\n",
       "      <th></th>\n",
       "      <th>Unnamed: 0</th>\n",
       "      <th>Name</th>\n",
       "      <th>Title</th>\n",
       "      <th>Email</th>\n",
       "      <th>Department</th>\n",
       "      <th>Subject</th>\n",
       "      <th>Subject Code</th>\n",
       "      <th>Last</th>\n",
       "    </tr>\n",
       "  </thead>\n",
       "  <tbody>\n",
       "    <tr>\n",
       "      <th>0</th>\n",
       "      <td>1</td>\n",
       "      <td>Josh Herbold</td>\n",
       "      <td>NaN</td>\n",
       "      <td>herbo@illinois.edu</td>\n",
       "      <td>NaN</td>\n",
       "      <td>Data Analytics Foundations for Accountancy</td>\n",
       "      <td>ACCY 570</td>\n",
       "      <td>NaN</td>\n",
       "    </tr>\n",
       "    <tr>\n",
       "      <th>1</th>\n",
       "      <td>2</td>\n",
       "      <td>Ye Joo Park</td>\n",
       "      <td>NaN</td>\n",
       "      <td>ypark32@illinois.edu</td>\n",
       "      <td>NaN</td>\n",
       "      <td>Data Analytics Applications in Accountancy</td>\n",
       "      <td>ACCY 575</td>\n",
       "      <td>NaN</td>\n",
       "    </tr>\n",
       "  </tbody>\n",
       "</table>\n",
       "</div>"
      ],
      "text/plain": [
       "   Unnamed: 0          Name  Title                 Email  Department  \\\n",
       "0           1  Josh Herbold    NaN    herbo@illinois.edu         NaN   \n",
       "1           2   Ye Joo Park    NaN  ypark32@illinois.edu         NaN   \n",
       "\n",
       "                                      Subject Subject Code  Last  \n",
       "0  Data Analytics Foundations for Accountancy     ACCY 570   NaN  \n",
       "1  Data Analytics Applications in Accountancy     ACCY 575   NaN  "
      ]
     },
     "execution_count": 9,
     "metadata": {},
     "output_type": "execute_result"
    }
   ],
   "source": [
    "df.head(2)"
   ]
  }
 ],
 "metadata": {
  "kernelspec": {
   "display_name": "Python 3",
   "language": "python",
   "name": "python3"
  },
  "language_info": {
   "codemirror_mode": {
    "name": "ipython",
    "version": 3
   },
   "file_extension": ".py",
   "mimetype": "text/x-python",
   "name": "python",
   "nbconvert_exporter": "python",
   "pygments_lexer": "ipython3",
   "version": "3.8.5"
  }
 },
 "nbformat": 4,
 "nbformat_minor": 4
}
