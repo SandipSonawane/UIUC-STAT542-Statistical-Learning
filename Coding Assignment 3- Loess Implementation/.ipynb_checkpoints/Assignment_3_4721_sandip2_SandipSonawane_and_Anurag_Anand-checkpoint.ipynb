{
 "cells": [
  {
   "cell_type": "markdown",
   "metadata": {},
   "source": [
    "## Part I : Select optimal span for loess\n",
    "\n",
    "\n",
    "#### [Part I 1. Prepare Loess Function](#part1_1)\n",
    "#### [Part I 2. Test Loess Function](#part1_2)\n",
    "#### [Part I 3. Results](#part1_3)\n",
    "\n",
    "#### [Part I 4. Refit using Lasso $\\lambda_{1se}$](#part1_4)\n",
    "#### [Part I 5. Principle Component Regression with 10-fold cross validation](#part1_5)\n",
    "#### [Part I 6. Simulation on BostonData2.csv](#part1_6)\n",
    "#### [Part I 7. Simulation on BostonData3.csv](#part1_7)"
   ]
  },
  {
   "cell_type": "markdown",
   "metadata": {},
   "source": [
    "### Abbrevations:\n",
    "- LOESS: Locally Estimated Scatterplot Smoothing\n",
    "- LOO-CV: Leave One Out- Cross Validation\n",
    "- GCV: Generalized Cross Validation\n",
    "\n",
    "### Terminologies:\n",
    "1. Smoother Matrix:\n",
    "\n",
    "    - Matrix that maps $y$ to $\\hat{y}$\n",
    "    \n",
    "    > $\\hat{y} = Sy$\n",
    "\n",
    "2. Leave One Out Cross Validation:\n",
    "> $LOO-CV(\\hat{f})=\\frac{1}{N}\\sum_{i=1}^{N}\\left[y_i - \\hat{f}^{[-i]}(x_i)\\right]^2\n",
    "= \\frac{1}{N}\\sum_{i=1}^{N}\\left[\\frac{y_i - \\hat{f}(x_i)}{1-S_{\\lambda}(i, i)}\\right]^2$\n",
    "\n",
    "    - Where $\\hat{f}^{[-i]}$ denotes the model learned based on n-1 samples meaning leaveing the i-th sample out.\n",
    "\n",
    "\n",
    "3. Generalized Cross Validation:\n",
    "> $GCV(\\hat{f})= \\frac{1}{N}\\sum_{i=1}^{N}\\left[\\frac{y_i - \\hat{f}(x_i)}{1-trace(S)/N}\\right]^2$"
   ]
  },
  {
   "cell_type": "markdown",
   "metadata": {},
   "source": [
    "### <a id='part1_1'>Part I 1.Prepare Loess Function</a>"
   ]
  },
  {
   "cell_type": "code",
   "execution_count": 15,
   "metadata": {},
   "outputs": [],
   "source": [
    "import pandas as pd\n",
    "import numpy as np\n",
    "import plotly.express as px\n",
    "from loess.loess_1d import loess_1d"
   ]
  },
  {
   "cell_type": "code",
   "execution_count": 18,
   "metadata": {},
   "outputs": [
    {
     "data": {
      "text/html": [
       "<div>\n",
       "<style scoped>\n",
       "    .dataframe tbody tr th:only-of-type {\n",
       "        vertical-align: middle;\n",
       "    }\n",
       "\n",
       "    .dataframe tbody tr th {\n",
       "        vertical-align: top;\n",
       "    }\n",
       "\n",
       "    .dataframe thead th {\n",
       "        text-align: right;\n",
       "    }\n",
       "</style>\n",
       "<table border=\"1\" class=\"dataframe\">\n",
       "  <thead>\n",
       "    <tr style=\"text-align: right;\">\n",
       "      <th></th>\n",
       "      <th>x</th>\n",
       "      <th>y</th>\n",
       "    </tr>\n",
       "  </thead>\n",
       "  <tbody>\n",
       "    <tr>\n",
       "      <th>0</th>\n",
       "      <td>0.009496</td>\n",
       "      <td>2.692822</td>\n",
       "    </tr>\n",
       "    <tr>\n",
       "      <th>1</th>\n",
       "      <td>0.039996</td>\n",
       "      <td>0.566787</td>\n",
       "    </tr>\n",
       "  </tbody>\n",
       "</table>\n",
       "</div>"
      ],
      "text/plain": [
       "          x         y\n",
       "0  0.009496  2.692822\n",
       "1  0.039996  0.566787"
      ]
     },
     "execution_count": 18,
     "metadata": {},
     "output_type": "execute_result"
    }
   ],
   "source": [
    "df = pd.read_csv('Coding3_data.csv')\n",
    "df.head(2)"
   ]
  },
  {
   "cell_type": "code",
   "execution_count": 19,
   "metadata": {},
   "outputs": [
    {
     "data": {
      "text/plain": [
       "array([0.2 , 0.25, 0.3 , 0.35, 0.4 , 0.45, 0.5 , 0.55, 0.6 , 0.65, 0.7 ,\n",
       "       0.75, 0.8 , 0.85, 0.9 ])"
      ]
     },
     "execution_count": 19,
     "metadata": {},
     "output_type": "execute_result"
    }
   ],
   "source": [
    "span_range = np.arange(0.20, 0.91, 0.05)\n",
    "span_range"
   ]
  },
  {
   "cell_type": "code",
   "execution_count": 11,
   "metadata": {},
   "outputs": [],
   "source": [
    "class Loess:\n",
    "    \n",
    "    \"\"\"\n",
    "    x1: n-by-1 feature vector\n",
    "    sp: a numerical value for 'span'\n",
    "    \n",
    "    \"\"\"\n",
    "    \n",
    "    def __init__(self, x1, sp):\n",
    "        self.x1 = x1\n",
    "        self.sp = sp\n",
    "    \n",
    "    def print_(self):\n",
    "        print(self.x1)\n",
    "        print(self.sp)\n",
    "    \n",
    "    def smoother_matrix(self):\n",
    "        \"\"\"\n",
    "        Compute the diagonal entrie of the smoother matrix S and store it in a vector \"lev\"\n",
    "        \"\"\""
   ]
  },
  {
   "cell_type": "code",
   "execution_count": 12,
   "metadata": {},
   "outputs": [
    {
     "name": "stdout",
     "output_type": "stream",
     "text": [
      "12\n",
      "2\n"
     ]
    }
   ],
   "source": [
    "a = Loess(12, 2)\n",
    "a.print_()"
   ]
  },
  {
   "cell_type": "code",
   "execution_count": null,
   "metadata": {},
   "outputs": [],
   "source": [
    "\n"
   ]
  }
 ],
 "metadata": {
  "kernelspec": {
   "display_name": "Python 3",
   "language": "python",
   "name": "python3"
  },
  "language_info": {
   "codemirror_mode": {
    "name": "ipython",
    "version": 3
   },
   "file_extension": ".py",
   "mimetype": "text/x-python",
   "name": "python",
   "nbconvert_exporter": "python",
   "pygments_lexer": "ipython3",
   "version": "3.8.5"
  }
 },
 "nbformat": 4,
 "nbformat_minor": 4
}
