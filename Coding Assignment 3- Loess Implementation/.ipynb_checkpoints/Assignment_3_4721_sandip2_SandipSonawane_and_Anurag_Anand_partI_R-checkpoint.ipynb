{
 "cells": [
  {
   "cell_type": "markdown",
   "id": "bc76d015",
   "metadata": {},
   "source": [
    "Coding Assignemnt 3: https://liangfgithub.github.io/F21/coding3.pdf"
   ]
  },
  {
   "cell_type": "markdown",
   "id": "0220c348",
   "metadata": {},
   "source": [
    "## Part I : Select optimal span for loess\n",
    "\n",
    "\n",
    "#### [Part I 1. Prepare Loess Function](#part1_1)\n",
    "#### [Part I 2. Test Loess Function](#part1_2)\n",
    "#### [Part I 3. Results](#part1_3)\n",
    "\n",
    "<!-- #### [Part I 4. a](#part1_4)\n",
    "#### [Part I 5. a](#part1_5)\n",
    "#### [Part I 6. a](#part1_6)\n",
    "#### [Part I 7. a](#part1_7) -->"
   ]
  },
  {
   "cell_type": "markdown",
   "id": "a1f335ca",
   "metadata": {},
   "source": [
    "### Abbrevations:\n",
    "- LOESS: Locally Estimated Scatterplot Smoothing\n",
    "- LOO-CV: Leave One Out- Cross Validation\n",
    "- GCV: Generalized Cross Validation\n",
    "\n",
    "### Terminologies:\n",
    "1. Smoother Matrix:\n",
    "\n",
    "    - Matrix that maps $y$ to $\\hat{y}$\n",
    "    \n",
    "    > $\\hat{y} = X\\hat{\\beta} = X_{n x p}(X^{t}X)^{-1}_{p x p}X^{t}_{p x n}y$\n",
    "    \n",
    "    > $\\hat{y}_{n x 1} = S_{n x n}y_{n x 1}$\n",
    "    \n",
    "    - Here, $S= X(X^{t}X)^{-1}X^{t}$ does not depend on y, it only depends on X.\n",
    "\n",
    "\n",
    "2. Leave One Out Cross Validation:\n",
    "> $LOO-CV(\\hat{f})=\\frac{1}{N}\\sum_{i=1}^{N}\\left[y_i - \\hat{f}^{[-i]}(x_i)\\right]^2\n",
    "= \\frac{1}{N}\\sum_{i=1}^{N}\\left[\\frac{y_i - \\hat{f}(x_i)}{1-S_{\\lambda}(i, i)}\\right]^2$\n",
    "\n",
    "    - Where $\\hat{f}^{[-i]}$ denotes the model learned based on n-1 samples meaning leaveing the i-th sample out.\n",
    "    - $S_{i,i}$ is the (i, i)-th entry of the smoothing matrix S.\n",
    "    - $\\hat{f}(x_i)$ is equivalent to $\\hat{y}_{i}$\n",
    "    - This makes LOO-VS faster than general m-fold CV.\n",
    "\n",
    "\n",
    "3. Generalized Cross Validation:\n",
    "> $GCV(\\hat{f})= \\frac{1}{N}\\sum_{i=1}^{N}\\left[\\frac{y_i - \\hat{f}(x_i)}{1-trace(S)/N}\\right]^2$\n",
    "\n",
    "4. Locally Estimated Scatterplot Smoothing:\n",
    "    - Here, the tuning parameter is the span\n",
    "    - Large value of span induces high bias and lower variance, and vice-versa\n",
    "\n",
    "    > <img src=\"https://rafalab.github.io/dsbook/ml/img/loess-multi-span-animation.gif\" style=\"height: 400px;\">\n",
    "\n",
    "\n",
    "\n",
    "References:\n",
    "1. https://liangfgithub.github.io/Notes/lec_W5_NonlinearRegression.pdf\n",
    "2. https://rafalab.github.io/dsbook/smoothing.html\n",
    "3. https://towardsdatascience.com/loess-373d43b03564"
   ]
  },
  {
   "cell_type": "markdown",
   "id": "a5015a14",
   "metadata": {},
   "source": [
    "### Loess Algorithm:\n",
    "\n",
    "Step 1: Choose neighborhood points\n",
    "> The $\\alpha n$ points, those with $|x_{i} - x|$ smallest, are called the neighborhood of $x_{0}: N(x_{0})$\n",
    "\n",
    "Step 2: Fit weighted least-squares linear regression\n",
    "> $\\hat{f}(x) = \\hat{\\beta}_{0} + \\hat{\\beta}_{1} (x - x_{0})$ is fit in $N(x_{0}$ points\n",
    "\n",
    "> Cost function $=\\sum_{x_{i} \\epsilon N(x_0)}w_{i}\\left[y_i - \\beta_{0} - \\beta_{1}(x_i - x_0)\\right]^2$\n",
    "\n",
    "where, $w_i = (1-u^{3}_{i})^3$\n",
    "with $u_i = \\frac{|x_i - x_0|}{max_{N(x_0)} |x_j - x_0|}$\n",
    " \n",
    " means $w_i = 0$ if $|u| \\geqslant 1$ and\n",
    " $(1-u^{3}_{i})^3$  if $|u| < 1$\n",
    " - Larger distances will have lower weights\n"
   ]
  },
  {
   "cell_type": "markdown",
   "id": "5231d14c",
   "metadata": {},
   "source": [
    "### Linear Regression in Loess\n",
    "\n",
    "The smoother matrix is of the below form:\n",
    "- Matrix that maps $y$ to $\\hat{y}$\n",
    "    \n",
    "    > $\\hat{y} = X\\hat{\\beta} = X_{n x p}(X^{t}WX)^{-1}_{p x p}X^{t}W_{p x n}y$\n",
    "    \n",
    "    > $\\hat{y}_{n x 1} = S_{n x n}y_{n x 1}$\n",
    "    \n",
    "    - Here, $S= X(X^{t}WX)^{-1}X^{t}W$ does not depend on y, it only depends on X.\n",
    "    - The weight matrix W has all the calculated weights in the diagonal with all other elements set to zero."
   ]
  },
  {
   "cell_type": "markdown",
   "id": "435f28a3",
   "metadata": {},
   "source": [
    "### <a id='part1_1'>Part I 1.Prepare Loess Function</a>"
   ]
  },
  {
   "cell_type": "code",
   "execution_count": 172,
   "id": "9f7fe052",
   "metadata": {
    "scrolled": true
   },
   "outputs": [
    {
     "data": {
      "text/html": [
       "<table>\n",
       "<thead><tr><th scope=col>x</th><th scope=col>y</th></tr></thead>\n",
       "<tbody>\n",
       "\t<tr><td>0.009495756</td><td> 2.6928217 </td></tr>\n",
       "\t<tr><td>0.039995918</td><td> 0.5667866 </td></tr>\n",
       "\t<tr><td>0.045770263</td><td>-0.1333731 </td></tr>\n",
       "</tbody>\n",
       "</table>\n"
      ],
      "text/latex": [
       "\\begin{tabular}{r|ll}\n",
       " x & y\\\\\n",
       "\\hline\n",
       "\t 0.009495756 &  2.6928217 \\\\\n",
       "\t 0.039995918 &  0.5667866 \\\\\n",
       "\t 0.045770263 & -0.1333731 \\\\\n",
       "\\end{tabular}\n"
      ],
      "text/markdown": [
       "\n",
       "| x | y |\n",
       "|---|---|\n",
       "| 0.009495756 |  2.6928217  |\n",
       "| 0.039995918 |  0.5667866  |\n",
       "| 0.045770263 | -0.1333731  |\n",
       "\n"
      ],
      "text/plain": [
       "  x           y         \n",
       "1 0.009495756  2.6928217\n",
       "2 0.039995918  0.5667866\n",
       "3 0.045770263 -0.1333731"
      ]
     },
     "metadata": {},
     "output_type": "display_data"
    }
   ],
   "source": [
    "mydata = read.csv(file = \"Coding3_Data.csv\")\n",
    "head(mydata, 3)"
   ]
  },
  {
   "cell_type": "code",
   "execution_count": 173,
   "id": "276d4f53",
   "metadata": {},
   "outputs": [
    {
     "data": {
      "text/plain": [
       "Call:\n",
       "loess(formula = y ~ x, data = mydata, span = 0.2)\n",
       "\n",
       "Number of Observations: 30 \n",
       "Equivalent Number of Parameters: 17.6 \n",
       "Residual Standard Error: 0.9466 "
      ]
     },
     "metadata": {},
     "output_type": "display_data"
    }
   ],
   "source": [
    "m = loess(y ~ x, mydata, span=0.2)\n",
    "m"
   ]
  },
  {
   "cell_type": "code",
   "execution_count": 174,
   "id": "6fab33f2",
   "metadata": {},
   "outputs": [],
   "source": [
    "smoother_matrix_loess = function(x1, sp){\n",
    "    n = length(x1);\n",
    "    A = matrix(0, n, n);\n",
    "\n",
    "    for(i in 1:n){\n",
    "       y = rep(0, n); y[i]=1;\n",
    "       yi = loess(y ~ x1, span=sp)$fitted;\n",
    "       A[,i]= yi;\n",
    "       }\n",
    "    \n",
    "     return((A+t(A))/2)\n",
    "}"
   ]
  },
  {
   "cell_type": "code",
   "execution_count": 175,
   "id": "dee942b2",
   "metadata": {},
   "outputs": [],
   "source": [
    "lo.lev <- function(x1, sp){\n",
    "    # x1: n-by-1 feature vector\n",
    "    # sp: a numerical value for \"span\"\n",
    "\n",
    "    n = length(x1);\n",
    "    lev = rep(0, n)\n",
    "    \n",
    "    smotherMat = smoother_matrix_loess(x1, sp)\n",
    "    \n",
    "    lev = diag(smotherMat)\n",
    "    ##############################################\n",
    "    # YOUR CODE: Compute the diagonal entries of the \n",
    "    #            smoother matrix S and \n",
    "    #            store it in a vector \"lev\"\n",
    "    # Tip: check how we compute the smoother matrix\n",
    "    #      for smoothing spline models\n",
    "    ##############################################\n",
    "\n",
    "    return(lev)\n",
    "}\n",
    "\n",
    "onestep_CV <- function(x1, y1, sp){\n",
    "    \n",
    "    #  1) Fit a loess model y1 ~ x1 with span = sp, and extract \n",
    "    #     the corresponding residual vector\n",
    "    \n",
    "    m = loess(y1 ~ x1, span=sp)\n",
    "    residual_vector = m$residuals\n",
    "    \n",
    "    #  2) Call lo.lev to obtain the diagonal entries of S\n",
    "    diagonal_entries = lo.lev(x1, sp)\n",
    "#     print(diagonal_entries)\n",
    "\n",
    "    #  3) Compute LOO-CV and GCV using formula from lecture notes\n",
    "    #    [lec_W5_NonlinearRegression.pdf] page 33.\n",
    "    \n",
    "    n = length(x1)\n",
    "    \n",
    "    cv = rep(0, n)\n",
    "    gcv = rep(0, n)\n",
    "    \n",
    "    for (i in 1:n){\n",
    "        s_i = diagonal_entries[i]\n",
    "        LOO_CV_i = mean(((residual_vector)/(1-s_i))**2)\n",
    "        cv[i] = LOO_CV_i\n",
    "        GCV_i = mean(((residual_vector)/(1-(sum(diagonal_entries)/n)))**2)\n",
    "        gcv[i] = GCV_i\n",
    "    }\n",
    "    \n",
    "    ##############################################\n",
    "    #  YOUR CODE: \n",
    "    #  1) Fit a loess model y1 ~ x1 with span = sp, and extract \n",
    "    #     the corresponding residual vector\n",
    "    #  2) Call lo.lev to obtain the diagonal entries of S\n",
    "    #  3) Compute LOO-CV and GCV using formula from lecture notes\n",
    "    #    [lec_W5_NonlinearRegression.pdf] page 33. \n",
    "    ##############################################\n",
    "\n",
    "    return(list(cv = cv, gcv = gcv))\n",
    "}\n",
    "\n",
    "myCV <- function(x1, y1, span){\n",
    "    # x1: feature vector of length n\n",
    "    # y1: response vector of length n\n",
    "    # span: a sequence of values for \"span\"\n",
    "\n",
    "    m = length(span)\n",
    "    cv = rep(0, m)\n",
    "    gcv = rep(0, m)\n",
    "\n",
    "    for(i in 1:m){\n",
    "    tmp = onestep_CV(x1, y1, span[i])\n",
    "    cv[i] = tmp$cv\n",
    "    gcv[i] = tmp$gcv\n",
    "    }\n",
    "    return(list(cv = cv, gcv = gcv))\n",
    "}"
   ]
  },
  {
   "cell_type": "markdown",
   "id": "5041873e",
   "metadata": {},
   "source": [
    "### <a id='part1_2'>Part I 2. Test Loess Function</a>"
   ]
  },
  {
   "cell_type": "code",
   "execution_count": 176,
   "id": "a5c24736",
   "metadata": {
    "scrolled": false
   },
   "outputs": [
    {
     "name": "stderr",
     "output_type": "stream",
     "text": [
      "Warning message in cv[i] <- tmp$cv:\n",
      "\"number of items to replace is not a multiple of replacement length\"Warning message in gcv[i] <- tmp$gcv:\n",
      "\"number of items to replace is not a multiple of replacement length\"Warning message in cv[i] <- tmp$cv:\n",
      "\"number of items to replace is not a multiple of replacement length\"Warning message in gcv[i] <- tmp$gcv:\n",
      "\"number of items to replace is not a multiple of replacement length\"Warning message in cv[i] <- tmp$cv:\n",
      "\"number of items to replace is not a multiple of replacement length\"Warning message in gcv[i] <- tmp$gcv:\n",
      "\"number of items to replace is not a multiple of replacement length\"Warning message in cv[i] <- tmp$cv:\n",
      "\"number of items to replace is not a multiple of replacement length\"Warning message in gcv[i] <- tmp$gcv:\n",
      "\"number of items to replace is not a multiple of replacement length\"Warning message in cv[i] <- tmp$cv:\n",
      "\"number of items to replace is not a multiple of replacement length\"Warning message in gcv[i] <- tmp$gcv:\n",
      "\"number of items to replace is not a multiple of replacement length\"Warning message in cv[i] <- tmp$cv:\n",
      "\"number of items to replace is not a multiple of replacement length\"Warning message in gcv[i] <- tmp$gcv:\n",
      "\"number of items to replace is not a multiple of replacement length\"Warning message in cv[i] <- tmp$cv:\n",
      "\"number of items to replace is not a multiple of replacement length\"Warning message in gcv[i] <- tmp$gcv:\n",
      "\"number of items to replace is not a multiple of replacement length\"Warning message in cv[i] <- tmp$cv:\n",
      "\"number of items to replace is not a multiple of replacement length\"Warning message in gcv[i] <- tmp$gcv:\n",
      "\"number of items to replace is not a multiple of replacement length\"Warning message in cv[i] <- tmp$cv:\n",
      "\"number of items to replace is not a multiple of replacement length\"Warning message in gcv[i] <- tmp$gcv:\n",
      "\"number of items to replace is not a multiple of replacement length\"Warning message in cv[i] <- tmp$cv:\n",
      "\"number of items to replace is not a multiple of replacement length\"Warning message in gcv[i] <- tmp$gcv:\n",
      "\"number of items to replace is not a multiple of replacement length\"Warning message in cv[i] <- tmp$cv:\n",
      "\"number of items to replace is not a multiple of replacement length\"Warning message in gcv[i] <- tmp$gcv:\n",
      "\"number of items to replace is not a multiple of replacement length\"Warning message in cv[i] <- tmp$cv:\n",
      "\"number of items to replace is not a multiple of replacement length\"Warning message in gcv[i] <- tmp$gcv:\n",
      "\"number of items to replace is not a multiple of replacement length\"Warning message in cv[i] <- tmp$cv:\n",
      "\"number of items to replace is not a multiple of replacement length\"Warning message in gcv[i] <- tmp$gcv:\n",
      "\"number of items to replace is not a multiple of replacement length\"Warning message in cv[i] <- tmp$cv:\n",
      "\"number of items to replace is not a multiple of replacement length\"Warning message in gcv[i] <- tmp$gcv:\n",
      "\"number of items to replace is not a multiple of replacement length\"Warning message in cv[i] <- tmp$cv:\n",
      "\"number of items to replace is not a multiple of replacement length\"Warning message in gcv[i] <- tmp$gcv:\n",
      "\"number of items to replace is not a multiple of replacement length\""
     ]
    }
   ],
   "source": [
    "span1 = seq(from = 0.2, by = 0.05, length = 15 )\n",
    "cv.out = myCV(mydata$x, mydata$y, span1)"
   ]
  },
  {
   "cell_type": "markdown",
   "id": "6c538945",
   "metadata": {},
   "source": [
    "### <a id='part1_3'>Part I 3. Results</a>"
   ]
  },
  {
   "cell_type": "code",
   "execution_count": 177,
   "id": "82ab94f3",
   "metadata": {},
   "outputs": [
    {
     "data": {
      "text/html": [
       "<table>\n",
       "<thead><tr><th scope=col>CV</th><th scope=col>GCV</th><th scope=col>span</th></tr></thead>\n",
       "<tbody>\n",
       "\t<tr><td>46.832076</td><td>2.110162 </td><td>0.20     </td></tr>\n",
       "\t<tr><td>11.853033</td><td>1.489206 </td><td>0.25     </td></tr>\n",
       "\t<tr><td>10.696654</td><td>1.190110 </td><td>0.30     </td></tr>\n",
       "\t<tr><td> 5.617752</td><td>1.174423 </td><td>0.35     </td></tr>\n",
       "\t<tr><td> 5.088027</td><td>1.102540 </td><td>0.40     </td></tr>\n",
       "\t<tr><td> 4.967994</td><td>1.062503 </td><td>0.45     </td></tr>\n",
       "\t<tr><td> 4.127191</td><td>1.040422 </td><td>0.50     </td></tr>\n",
       "\t<tr><td> 3.048503</td><td>1.118841 </td><td>0.55     </td></tr>\n",
       "\t<tr><td> 2.950022</td><td>1.119269 </td><td>0.60     </td></tr>\n",
       "\t<tr><td> 2.415364</td><td>1.180585 </td><td>0.65     </td></tr>\n",
       "\t<tr><td> 3.156092</td><td>1.519091 </td><td>0.70     </td></tr>\n",
       "\t<tr><td> 3.379998</td><td>1.627429 </td><td>0.75     </td></tr>\n",
       "\t<tr><td> 3.464494</td><td>1.744549 </td><td>0.80     </td></tr>\n",
       "\t<tr><td> 3.647051</td><td>1.925696 </td><td>0.85     </td></tr>\n",
       "\t<tr><td> 3.748507</td><td>1.979820 </td><td>0.90     </td></tr>\n",
       "</tbody>\n",
       "</table>\n"
      ],
      "text/latex": [
       "\\begin{tabular}{r|lll}\n",
       " CV & GCV & span\\\\\n",
       "\\hline\n",
       "\t 46.832076 & 2.110162  & 0.20     \\\\\n",
       "\t 11.853033 & 1.489206  & 0.25     \\\\\n",
       "\t 10.696654 & 1.190110  & 0.30     \\\\\n",
       "\t  5.617752 & 1.174423  & 0.35     \\\\\n",
       "\t  5.088027 & 1.102540  & 0.40     \\\\\n",
       "\t  4.967994 & 1.062503  & 0.45     \\\\\n",
       "\t  4.127191 & 1.040422  & 0.50     \\\\\n",
       "\t  3.048503 & 1.118841  & 0.55     \\\\\n",
       "\t  2.950022 & 1.119269  & 0.60     \\\\\n",
       "\t  2.415364 & 1.180585  & 0.65     \\\\\n",
       "\t  3.156092 & 1.519091  & 0.70     \\\\\n",
       "\t  3.379998 & 1.627429  & 0.75     \\\\\n",
       "\t  3.464494 & 1.744549  & 0.80     \\\\\n",
       "\t  3.647051 & 1.925696  & 0.85     \\\\\n",
       "\t  3.748507 & 1.979820  & 0.90     \\\\\n",
       "\\end{tabular}\n"
      ],
      "text/markdown": [
       "\n",
       "| CV | GCV | span |\n",
       "|---|---|---|\n",
       "| 46.832076 | 2.110162  | 0.20      |\n",
       "| 11.853033 | 1.489206  | 0.25      |\n",
       "| 10.696654 | 1.190110  | 0.30      |\n",
       "|  5.617752 | 1.174423  | 0.35      |\n",
       "|  5.088027 | 1.102540  | 0.40      |\n",
       "|  4.967994 | 1.062503  | 0.45      |\n",
       "|  4.127191 | 1.040422  | 0.50      |\n",
       "|  3.048503 | 1.118841  | 0.55      |\n",
       "|  2.950022 | 1.119269  | 0.60      |\n",
       "|  2.415364 | 1.180585  | 0.65      |\n",
       "|  3.156092 | 1.519091  | 0.70      |\n",
       "|  3.379998 | 1.627429  | 0.75      |\n",
       "|  3.464494 | 1.744549  | 0.80      |\n",
       "|  3.647051 | 1.925696  | 0.85      |\n",
       "|  3.748507 | 1.979820  | 0.90      |\n",
       "\n"
      ],
      "text/plain": [
       "   CV        GCV      span\n",
       "1  46.832076 2.110162 0.20\n",
       "2  11.853033 1.489206 0.25\n",
       "3  10.696654 1.190110 0.30\n",
       "4   5.617752 1.174423 0.35\n",
       "5   5.088027 1.102540 0.40\n",
       "6   4.967994 1.062503 0.45\n",
       "7   4.127191 1.040422 0.50\n",
       "8   3.048503 1.118841 0.55\n",
       "9   2.950022 1.119269 0.60\n",
       "10  2.415364 1.180585 0.65\n",
       "11  3.156092 1.519091 0.70\n",
       "12  3.379998 1.627429 0.75\n",
       "13  3.464494 1.744549 0.80\n",
       "14  3.647051 1.925696 0.85\n",
       "15  3.748507 1.979820 0.90"
      ]
     },
     "metadata": {},
     "output_type": "display_data"
    }
   ],
   "source": [
    "myout = data.frame(CV = cv.out$cv, \n",
    "                   GCV = cv.out$gcv, \n",
    "                   span = span1)\n",
    "myout"
   ]
  },
  {
   "cell_type": "code",
   "execution_count": 178,
   "id": "1ddb774e",
   "metadata": {},
   "outputs": [
    {
     "data": {
      "text/html": [
       "0.5"
      ],
      "text/latex": [
       "0.5"
      ],
      "text/markdown": [
       "0.5"
      ],
      "text/plain": [
       "[1] 0.5"
      ]
     },
     "metadata": {},
     "output_type": "display_data"
    }
   ],
   "source": [
    "myout$span[myout$GCV == min(myout$GCV)]"
   ]
  },
  {
   "cell_type": "code",
   "execution_count": 179,
   "id": "3a5ec85f",
   "metadata": {},
   "outputs": [
    {
     "data": {
      "text/html": [
       "0.65"
      ],
      "text/latex": [
       "0.65"
      ],
      "text/markdown": [
       "0.65"
      ],
      "text/plain": [
       "[1] 0.65"
      ]
     },
     "metadata": {},
     "output_type": "display_data"
    }
   ],
   "source": [
    "myout$span[myout$CV == min(myout$CV)]"
   ]
  },
  {
   "cell_type": "markdown",
   "id": "89a85df1",
   "metadata": {},
   "source": [
    "### Plot the curve"
   ]
  },
  {
   "cell_type": "code",
   "execution_count": 192,
   "id": "7b5a67c3",
   "metadata": {},
   "outputs": [],
   "source": [
    "spangcv.min = 0.5\n",
    "# plot(mydata$x, mydata$y, xlab=\"\", ylab=\"\", col=\"gray\");\n",
    "fx = 1:30/30;\n",
    "fy = sin(12*(fx+0.2))/(fx+0.2)\n",
    "# lines(fx, fy, col=8, lwd=2);"
   ]
  },
  {
   "cell_type": "code",
   "execution_count": 193,
   "id": "783299ad",
   "metadata": {},
   "outputs": [],
   "source": [
    "f = loess(y ~ x, mydata, span = spangcv.min)\n",
    "# lines(fx, predict(f, data.frame(x = fx), surface = \"direct\"), \n",
    "#       lty=2, lwd=2, col=\"blue\")\n",
    "f_pred= predict(f, mydata$x)"
   ]
  },
  {
   "cell_type": "code",
   "execution_count": 204,
   "id": "6b1558ee",
   "metadata": {},
   "outputs": [
    {
     "data": {
      "image/png": "[encoded data removed]",
      "text/plain": [
       "plot without title"
      ]
     },
     "metadata": {},
     "output_type": "display_data"
    }
   ],
   "source": [
    "library('ggplot2')\n",
    "\n",
    "options(repr.plot.width=6, repr.plot.height=3)\n",
    "y = mydata$y\n",
    "x = mydata$x\n",
    "\n",
    "plot1 <- ggplot(data = data.frame(x, fx, fy, f_pred, y), aes(fx, y = fy))+\n",
    "    geom_line()+\n",
    "    geom_point(aes(x, y))+\n",
    "    geom_line(aes(x, f_pred), color = 'dodgerblue', size = 0.75)\n",
    "plot1"
   ]
  },
  {
   "cell_type": "markdown",
   "id": "e9e7ae55",
   "metadata": {},
   "source": [
    "- Blue line curve is the Loess function using span of 0.5"
   ]
  },
  {
   "cell_type": "code",
   "execution_count": null,
   "id": "d9a5cb07",
   "metadata": {},
   "outputs": [],
   "source": []
  }
 ],
 "metadata": {
  "kernelspec": {
   "display_name": "R",
   "language": "R",
   "name": "ir"
  },
  "language_info": {
   "codemirror_mode": "r",
   "file_extension": ".r",
   "mimetype": "text/x-r-source",
   "name": "R",
   "pygments_lexer": "r",
   "version": "3.6.1"
  }
 },
 "nbformat": 4,
 "nbformat_minor": 5
}
