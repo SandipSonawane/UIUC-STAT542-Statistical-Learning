{
 "cells": [
  {
   "cell_type": "markdown",
   "metadata": {},
   "source": [
    "## Imports"
   ]
  },
  {
   "cell_type": "code",
   "execution_count": 68,
   "metadata": {},
   "outputs": [],
   "source": [
    "# imports\n",
    "import numpy as np\n",
    "import pandas as pd\n",
    "np.set_printoptions(suppress=True)\n",
    "import matplotlib.pyplot as plt\n",
    "import seaborn as sns\n",
    "import xgboost as xgb\n",
    "import warnings\n",
    "warnings.filterwarnings(\"ignore\")\n",
    "from scipy import stats\n",
    "from scipy.stats import norm, skew\n",
    "from scipy.stats import shapiro\n",
    "import pylab\n",
    "plt.style.use('ggplot')\n",
    "from scipy.stats.mstats import winsorize\n",
    "import time"
   ]
  },
  {
   "cell_type": "code",
   "execution_count": 23,
   "metadata": {},
   "outputs": [],
   "source": [
    "# input data\n",
    "ames_data = pd.read_csv('Ames_data.csv')\n",
    "\n",
    "dat_file = 'project1_testIDs.dat'\n",
    "test_ids = np.loadtxt(dat_file).T"
   ]
  },
  {
   "cell_type": "markdown",
   "metadata": {},
   "source": [
    "## Preprocess data"
   ]
  },
  {
   "cell_type": "code",
   "execution_count": 63,
   "metadata": {},
   "outputs": [],
   "source": [
    "# helper functions\n",
    "def get_df_info(input_of):\n",
    "    df_info = pd.DataFrame(columns=['column', 'Null Count', 'Data Type'])\n",
    "    for col in input_of:\n",
    "        Null_count  = sum(pd.isnull(input_of[col]))\n",
    "        dtype = input_of[col].dtype\n",
    "        df_info = df_info.append({'column': col, 'Null Count': Null_count, 'Data Type': dtype},\n",
    "                                ignore_index = True)\n",
    "    \n",
    "    return df_info"
   ]
  },
  {
   "cell_type": "code",
   "execution_count": 64,
   "metadata": {},
   "outputs": [],
   "source": [
    "# pre-process train data\n",
    "\n",
    "def select_column_list(X, target):\n",
    "    dataframe = X\n",
    "    dataframe['Sale_Price'] = target\n",
    "    # Selected Categorical Variables: \n",
    "    selected_cat_col = ['Sale_Type', 'Fireplace_Qu', 'Kitchen_Qual', 'Central_Air', 'Heating_QC', 'Bsmt_Exposure', \n",
    "                         'Bsmt_Qual', 'Exter_Qual', 'Overall_Qual', 'Neighborhood', 'MS_Zoning', 'Garage_Type', 'Sale_Condition', \n",
    "                         'Paved_Drive', 'Garage_Finish', 'MS_SubClass', 'Electrical','Foundation', 'condition_1']\n",
    "    \n",
    "    # select numerical variables based on correlation\n",
    "    df_info = get_df_info(dataframe)\n",
    "    num_vars = df_info[df_info['Data Type'] != 'object']\n",
    "    ames_num_cols_df = dataframe.loc[:, dataframe.columns.isin(num_vars.column.tolist())]\n",
    "    corr_df = ames_num_cols_df.corr()\n",
    "    corr_df_shortlisted = corr_df.loc[(corr_df['Sale_Price'] > 0.3) | (corr_df['Sale_Price'] < -0.3),:]\n",
    "    corr_df_shortlisted = corr_df_shortlisted.loc[:, corr_df_shortlisted.columns.isin(corr_df_shortlisted.index)]\n",
    "    corr_df_shortlisted = corr_df_shortlisted.loc[~corr_df_shortlisted.index.isin(['Garage_Yr_Blt']), ~corr_df_shortlisted.columns.isin(['Garage_Yr_Blt'])]\n",
    "    corr_df_shortlisted = corr_df_shortlisted.loc[~corr_df_shortlisted.index.isin(['Garage_Area', 'First_Flr_SF']), ~corr_df_shortlisted.columns.isin(['Garage_Area', 'First_Flr_SF'])]\n",
    "    \n",
    "    # finalize columns selected\n",
    "    selected_cat_col.extend(corr_df_shortlisted.columns) \n",
    "    \n",
    "    return selected_cat_col\n",
    "\n",
    "def transform_xtrain(xtrn, ytrn):\n",
    "    \n",
    "    # winsorize outliers in Gr_Liv_Area\n",
    "    winsz_Gr_Liv_Area = winsorize(xtrn.Gr_Liv_Area, limits=[0.05, 0.05])\n",
    "    xtrn['Gr_Liv_Area'] = winsz_Gr_Liv_Area\n",
    "    \n",
    "    winsz_sale_price = winsorize(ytrn, limits=[0.05, 0.05])\n",
    "    ytrn = winsz_sale_price\n",
    "\n",
    "    # drop PID since this won't affect Sale_Price\n",
    "    xtrn.drop(['PID'], axis=1, inplace=True)\n",
    "    \n",
    "    # Convert Year values to age and drop unnecessary columns\n",
    "    xtrn.drop(['Year_Remod_Add', 'Mo_Sold', 'Year_Sold'], axis=1, inplace=True)\n",
    "    xtrn['Age_of_Property'] = 2010 - xtrn['Year_Built']\n",
    "    xtrn.drop(['Year_Built'], axis=1, inplace=True)                                            \n",
    "    \n",
    "    selected_cat_col = select_column_list(xtrn, ytrn)\n",
    "    df_final = xtrn.loc[:, xtrn.columns.isin(selected_cat_col)]\n",
    "    \n",
    "    return df_final\n",
    "\n",
    "def transform_ytrain(ytrn):\n",
    "    winsz_sale_price = winsorize(ytrn, limits=[0.05, 0.05])\n",
    "    ytrn = winsz_sale_price\n",
    "    \n",
    "    return ytrn\n",
    "\n",
    "\n",
    "def transform_xtest(xtrn, ytrn, xtst, ytst):\n",
    "    \n",
    "    # get winsorized limits in Gr_Liv_Area\n",
    "    winsz_Gr_Liv_Area = winsorize(xtrn.Gr_Liv_Area, limits=[0.05, 0.05])\n",
    "    a = np.array(xtst['Gr_Liv_Area'].values.tolist())\n",
    "    xtst['Gr_Liv_Area'] = np.where(a > max(winsz_Gr_Liv_Area), max(winsz_Gr_Liv_Area), a).tolist()\n",
    "    xtst['Gr_Liv_Area'] = np.where(a < min(winsz_Gr_Liv_Area), min(winsz_Gr_Liv_Area), a).tolist()\n",
    "    \n",
    "    # get winsorized limits in Sale_Price\n",
    "    winsz_sale_price = winsorize(ytrn, limits=[0.05, 0.05])\n",
    "    a = np.array(ytst.values.tolist())\n",
    "    ytst = np.where(a > max(winsz_sale_price), max(winsz_sale_price), a).tolist()\n",
    "    ytst = np.where(a < min(winsz_sale_price), min(winsz_sale_price), a).tolist()\n",
    "\n",
    "    # drop PID since this won't affect Sale_Price\n",
    "    xtst.drop(['PID'], axis=1, inplace=True)\n",
    "    \n",
    "    # Convert Year values to age and drop unnecessary columns\n",
    "    xtst.drop(['Year_Remod_Add', 'Mo_Sold', 'Year_Sold'], axis=1, inplace=True)\n",
    "    xtst['Age_of_Property'] = 2010 - xtst['Year_Built']\n",
    "    xtst.drop(['Year_Built'], axis=1, inplace=True)\n",
    "    \n",
    "    selected_cat_col = select_column_list(xtrn, ytrn)\n",
    "    xtst_final = xtst.loc[:, xtst.columns.isin(selected_cat_col)]\n",
    "    \n",
    "    return xtst_final\n",
    "\n",
    "def transform_ytest(ytst, ytrn):\n",
    "    # get winsorized limits in Sale_Price\n",
    "    winsz_sale_price = winsorize(ytrn, limits=[0.05, 0.05])\n",
    "    a = np.array(ytst.values.tolist())\n",
    "    ytst = np.where(a > max(winsz_sale_price), max(winsz_sale_price), a).tolist()\n",
    "    ytst = np.where(a < min(winsz_sale_price), min(winsz_sale_price), a).tolist()\n",
    "    \n",
    "    return ytst"
   ]
  },
  {
   "cell_type": "code",
   "execution_count": 66,
   "metadata": {
    "tags": []
   },
   "outputs": [],
   "source": [
    "from sklearn import preprocessing\n",
    "lbl = preprocessing.LabelEncoder()\n",
    "X = ames_data.loc[:, ~ames_data.columns.str.contains('Sale_Price')]\n",
    "\n",
    "j = 2\n",
    "X_train = X.iloc[~X.index.isin(test_ids[j]),:]\n",
    "X_test = X.iloc[X.index.isin(test_ids[j]),:]\n",
    "y_train = ames_data.iloc[~ames_data.index.isin(test_ids[j]),:]['Sale_Price']\n",
    "y_test = ames_data.iloc[ames_data.index.isin(test_ids[j]),:]['Sale_Price']"
   ]
  },
  {
   "cell_type": "code",
   "execution_count": 67,
   "metadata": {},
   "outputs": [],
   "source": [
    "xtrn_transformed = transform_xtest(X_train, y_train, X_test, y_test)\n",
    "xtst_transformed = transform_xtrain(X_train, y_train)\n",
    "ytrn_transformed = transform_ytrain(y_train)\n",
    "ytst_transformed = transform_ytest(y_test, y_train)"
   ]
  },
  {
   "cell_type": "markdown",
   "metadata": {},
   "source": [
    "## XgBoost Hyperparameter tuning"
   ]
  },
  {
   "cell_type": "code",
   "execution_count": null,
   "metadata": {},
   "outputs": [],
   "source": []
  },
  {
   "cell_type": "code",
   "execution_count": 74,
   "metadata": {},
   "outputs": [
    {
     "data": {
      "text/plain": [
       "1634594751.0137324"
      ]
     },
     "execution_count": 74,
     "metadata": {},
     "output_type": "execute_result"
    }
   ],
   "source": [
    "time.time()"
   ]
  }
 ],
 "metadata": {
  "kernelspec": {
   "display_name": "Python 3",
   "language": "python",
   "name": "python3"
  },
  "language_info": {
   "codemirror_mode": {
    "name": "ipython",
    "version": 3
   },
   "file_extension": ".py",
   "mimetype": "text/x-python",
   "name": "python",
   "nbconvert_exporter": "python",
   "pygments_lexer": "ipython3",
   "version": "3.8.5"
  }
 },
 "nbformat": 4,
 "nbformat_minor": 4
}
