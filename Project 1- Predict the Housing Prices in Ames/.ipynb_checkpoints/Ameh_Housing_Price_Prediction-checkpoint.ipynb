{
 "cells": [
  {
   "cell_type": "markdown",
   "metadata": {},
   "source": [
    "## Imports"
   ]
  },
  {
   "cell_type": "code",
   "execution_count": 19,
   "metadata": {},
   "outputs": [],
   "source": [
    "# imports\n",
    "import numpy as np\n",
    "import pandas as pd\n",
    "np.set_printoptions(suppress=True)\n",
    "import matplotlib.pyplot as plt\n",
    "import seaborn as sns\n",
    "import xgboost as xgb\n",
    "import warnings\n",
    "warnings.filterwarnings(\"ignore\")\n",
    "from scipy import stats\n",
    "from scipy.stats import norm, skew\n",
    "from scipy.stats import shapiro\n",
    "import pylab\n",
    "plt.style.use('ggplot')\n",
    "from scipy.stats.mstats import winsorize\n",
    "import time\n",
    "import os"
   ]
  },
  {
   "cell_type": "code",
   "execution_count": 20,
   "metadata": {},
   "outputs": [],
   "source": [
    "# input data\n",
    "ames_data = pd.read_csv('Ames_data.csv')\n",
    "\n",
    "dat_file = 'project1_testIDs.dat'\n",
    "test_ids = np.loadtxt(dat_file).T"
   ]
  },
  {
   "cell_type": "markdown",
   "metadata": {},
   "source": [
    "## Preprocess data"
   ]
  },
  {
   "cell_type": "code",
   "execution_count": 21,
   "metadata": {},
   "outputs": [],
   "source": [
    "# helper functions\n",
    "def get_df_info(input_of):\n",
    "    df_info = pd.DataFrame(columns=['column', 'Null Count', 'Data Type'])\n",
    "    for col in input_of:\n",
    "        Null_count  = sum(pd.isnull(input_of[col]))\n",
    "        dtype = input_of[col].dtype\n",
    "        df_info = df_info.append({'column': col, 'Null Count': Null_count, 'Data Type': dtype},\n",
    "                                ignore_index = True)\n",
    "    \n",
    "    return df_info\n",
    "\n",
    "def calc_rmsle(ypred, ytest):\n",
    "    return np.sqrt(np.mean((np.log(ypred) - np.log(ytest))**2))"
   ]
  },
  {
   "cell_type": "code",
   "execution_count": 22,
   "metadata": {},
   "outputs": [],
   "source": [
    "# pre-process train data\n",
    "\n",
    "def select_column_list(X, target):\n",
    "    dataframe = X\n",
    "    dataframe['Sale_Price'] = target\n",
    "    # Selected Categorical Variables: \n",
    "    selected_cat_col = ['Sale_Type', 'Fireplace_Qu', 'Kitchen_Qual', 'Central_Air', 'Heating_QC', 'Bsmt_Exposure', \n",
    "                         'Bsmt_Qual', 'Exter_Qual', 'Overall_Qual', 'Neighborhood', 'MS_Zoning', 'Garage_Type', 'Sale_Condition', \n",
    "                         'Paved_Drive', 'Garage_Finish', 'MS_SubClass', 'Electrical','Foundation', 'condition_1']\n",
    "    \n",
    "    # select numerical variables based on correlation\n",
    "    df_info = get_df_info(dataframe)\n",
    "    num_vars = df_info[df_info['Data Type'] != 'object']\n",
    "    ames_num_cols_df = dataframe.loc[:, dataframe.columns.isin(num_vars.column.tolist())]\n",
    "    corr_df = ames_num_cols_df.corr()\n",
    "    corr_df_shortlisted = corr_df.loc[(corr_df['Sale_Price'] > 0.3) | (corr_df['Sale_Price'] < -0.3),:]\n",
    "    corr_df_shortlisted = corr_df_shortlisted.loc[:, corr_df_shortlisted.columns.isin(corr_df_shortlisted.index)]\n",
    "    corr_df_shortlisted = corr_df_shortlisted.loc[~corr_df_shortlisted.index.isin(['Garage_Yr_Blt']), ~corr_df_shortlisted.columns.isin(['Garage_Yr_Blt'])]\n",
    "    corr_df_shortlisted = corr_df_shortlisted.loc[~corr_df_shortlisted.index.isin(['Garage_Area', 'First_Flr_SF']), ~corr_df_shortlisted.columns.isin(['Garage_Area', 'First_Flr_SF'])]\n",
    "    \n",
    "    # finalize columns selected\n",
    "    selected_cat_col.extend(corr_df_shortlisted.columns) \n",
    "    \n",
    "    return selected_cat_col\n",
    "\n",
    "def transform_xtrain(xtrn, ytrn):\n",
    "    \n",
    "    # winsorize outliers in Gr_Liv_Area\n",
    "    winsz_Gr_Liv_Area = winsorize(xtrn.Gr_Liv_Area, limits=[0.05, 0.05])\n",
    "    xtrn['Gr_Liv_Area'] = winsz_Gr_Liv_Area\n",
    "    \n",
    "    winsz_sale_price = winsorize(ytrn, limits=[0.05, 0.05])\n",
    "    ytrn = winsz_sale_price\n",
    "\n",
    "    # drop PID since this won't affect Sale_Price\n",
    "    xtrn.drop(['PID'], axis=1, inplace=True)\n",
    "    \n",
    "    # Convert Year values to age and drop unnecessary columns\n",
    "    xtrn.drop(['Year_Remod_Add', 'Mo_Sold', 'Year_Sold'], axis=1, inplace=True)\n",
    "    xtrn['Age_of_Property'] = 2010 - xtrn['Year_Built']\n",
    "    xtrn.drop(['Year_Built'], axis=1, inplace=True)                                            \n",
    "    \n",
    "    selected_cat_col = select_column_list(xtrn, ytrn)\n",
    "    df_final = xtrn.loc[:, xtrn.columns.isin(selected_cat_col)]\n",
    "    df_final.drop(['Sale_Price'], axis = 1, inplace = True)\n",
    "    \n",
    "    return df_final\n",
    "\n",
    "def transform_ytrain(ytrn):\n",
    "    winsz_sale_price = winsorize(ytrn, limits=[0.05, 0.05])\n",
    "    ytrn = winsz_sale_price\n",
    "    \n",
    "    return ytrn\n",
    "\n",
    "\n",
    "def transform_xtest(xtrn, ytrn, xtst, ytst):\n",
    "    \n",
    "    # get winsorized limits in Gr_Liv_Area\n",
    "    winsz_Gr_Liv_Area = winsorize(xtrn.Gr_Liv_Area, limits=[0.05, 0.05])\n",
    "    a = np.array(xtst['Gr_Liv_Area'].values.tolist())\n",
    "    xtst['Gr_Liv_Area'] = np.where(a > max(winsz_Gr_Liv_Area), max(winsz_Gr_Liv_Area), a).tolist()\n",
    "    xtst['Gr_Liv_Area'] = np.where(xtst['Gr_Liv_Area'] < min(winsz_Gr_Liv_Area), min(winsz_Gr_Liv_Area), xtst['Gr_Liv_Area']).tolist()\n",
    "    \n",
    "    # get winsorized limits in Sale_Price\n",
    "    winsz_sale_price = winsorize(ytrn, limits=[0.05, 0.05])\n",
    "    a = np.array(ytst.values.tolist())\n",
    "    ytst = np.where(a > max(winsz_sale_price), max(winsz_sale_price), a).tolist()\n",
    "    ytst = np.where(a < min(winsz_sale_price), min(winsz_sale_price), a).tolist()\n",
    "\n",
    "#     # drop PID since this won't affect Sale_Price\n",
    "#     xtst.drop(['PID'], axis=1, inplace=True)\n",
    "    \n",
    "    # Convert Year values to age and drop unnecessary columns\n",
    "    xtst.drop(['Year_Remod_Add', 'Mo_Sold', 'Year_Sold'], axis=1, inplace=True)\n",
    "    xtst['Age_of_Property'] = 2010 - xtst['Year_Built']\n",
    "    xtst.drop(['Year_Built'], axis=1, inplace=True)\n",
    "    \n",
    "#     selected_cat_col = select_column_list(xtrn, ytrn)\n",
    "    xtst_final = xtst.loc[:, xtst.columns.isin(xtrn.columns.tolist())]\n",
    "    \n",
    "    return xtst_final\n",
    "\n",
    "def transform_ytest(ytst, ytrn):\n",
    "    # get winsorized limits in Sale_Price\n",
    "    winsz_sale_price = winsorize(ytrn, limits=[0.05, 0.05])\n",
    "    a = np.array(ytst.values.tolist())\n",
    "    ytst = np.where(a > max(winsz_sale_price), max(winsz_sale_price), a).tolist()\n",
    "    ytst = np.where(ytst < min(winsz_sale_price), min(winsz_sale_price), ytst).tolist()\n",
    "    \n",
    "    return ytst"
   ]
  },
  {
   "cell_type": "code",
   "execution_count": 23,
   "metadata": {
    "tags": []
   },
   "outputs": [],
   "source": [
    "from sklearn import preprocessing\n",
    "lbl = preprocessing.LabelEncoder()\n",
    "X = ames_data.loc[:, ~ames_data.columns.str.contains('Sale_Price')]\n",
    "\n",
    "# label encode features\n",
    "for col in X.columns:\n",
    "    if X[col].dtype == 'object':\n",
    "        X[col] = lbl.fit_transform(X[col].astype(str))\n",
    "        \n",
    "j = 4\n",
    "X_train = X.iloc[~X.index.isin(test_ids[j]),:]\n",
    "X_test = X.iloc[X.index.isin(test_ids[j]),:]\n",
    "y_train = ames_data.iloc[~ames_data.index.isin(test_ids[j]),:]['Sale_Price']\n",
    "y_test = ames_data.iloc[ames_data.index.isin(test_ids[j]),:]['Sale_Price']"
   ]
  },
  {
   "cell_type": "code",
   "execution_count": 25,
   "metadata": {},
   "outputs": [],
   "source": [
    "# X_train['Sale_Price'] = y_train\n",
    "# X_train.to_csv('train.csv')"
   ]
  },
  {
   "cell_type": "code",
   "execution_count": 26,
   "metadata": {},
   "outputs": [],
   "source": [
    "# X_test.to_csv('test.csv')"
   ]
  },
  {
   "cell_type": "code",
   "execution_count": 27,
   "metadata": {},
   "outputs": [],
   "source": [
    "y_test.to_csv('test_y.txt')"
   ]
  },
  {
   "cell_type": "code",
   "execution_count": 9,
   "metadata": {},
   "outputs": [],
   "source": [
    "xtrn_transformed = transform_xtrain(X_train, y_train)\n",
    "xtst_transformed = transform_xtest(xtrn_transformed, y_train, X_test, y_test)\n",
    "ytrn_transformed = transform_ytrain(y_train)\n",
    "ytst_transformed = transform_ytest(y_test, y_train)"
   ]
  },
  {
   "cell_type": "code",
   "execution_count": 10,
   "metadata": {
    "tags": []
   },
   "outputs": [],
   "source": [
    "X_train = xtrn_transformed\n",
    "X_test = xtst_transformed\n",
    "y_train = ytrn_transformed\n",
    "y_test = ytst_transformed"
   ]
  },
  {
   "cell_type": "markdown",
   "metadata": {},
   "source": [
    "## XgBoost Model"
   ]
  },
  {
   "cell_type": "markdown",
   "metadata": {},
   "source": [
    "### Hyperparameters tuning"
   ]
  },
  {
   "cell_type": "code",
   "execution_count": 11,
   "metadata": {},
   "outputs": [],
   "source": [
    "# Create a list of hyperparameters\n",
    "# ref: https://stackoverflow.com/questions/12130883/r-expand-grid-function-in-python\n",
    "from itertools import product\n",
    "\n",
    "def expand_grid(dictionary):\n",
    "    return pd.DataFrame([row for row in product(*dictionary.values())], \n",
    "                       columns=dictionary.keys())\n",
    "\n",
    "params = {\n",
    "        'max_depth': [500],\n",
    "        'eta': [0.1, 0.15, 0.2, 0.25],\n",
    "        'min_child_weight': [5, 7],\n",
    "        'gamma': [200, 2000, 10000],\n",
    "        'subsample': [0.8],\n",
    "        'colsample_bytree': [0.6, 0.8, 1.0],\n",
    "        'objective': ['reg:squarederror'],\n",
    "        'reg_alpha':[50, 100]\n",
    "        }\n",
    "params_df = expand_grid(params)"
   ]
  },
  {
   "cell_type": "code",
   "execution_count": 12,
   "metadata": {},
   "outputs": [],
   "source": [
    "dtrain = xgb.DMatrix(X_train, label=y_train)\n",
    "dtest = xgb.DMatrix(X_test, label=y_test)"
   ]
  },
  {
   "cell_type": "code",
   "execution_count": 13,
   "metadata": {},
   "outputs": [],
   "source": [
    "# for quick testing\n",
    "# params = {'max_depth': 500,\n",
    "#  'eta': 0.1,\n",
    "#  'min_child_weight': 7,\n",
    "#  'gamma': 10000,\n",
    "#  'subsample': 0.8,\n",
    "#  'colsample_bytree': 0.6,\n",
    "#  'objective': 'reg:squarederror',\n",
    "#  'reg_alpha': 100}\n",
    "\n",
    "# num = 60\n",
    "# param = params\n",
    "# param['nthread'] = 4\n",
    "# param['eval_metric'] = 'rmsle'\n",
    "# evallist = [(dtest, 'eval'), (dtrain, 'train')]\n",
    "# num_round = num\n",
    "# bst = xgb.train(param, dtrain, num_round, evallist, verbose_eval=False)\n",
    "# ypred = bst.predict(dtest)\n",
    "# rmsle = calc_rmsle(ypred, y_test)\n",
    "# rmsle"
   ]
  },
  {
   "cell_type": "code",
   "execution_count": 14,
   "metadata": {
    "tags": []
   },
   "outputs": [
    {
     "name": "stdout",
     "output_type": "stream",
     "text": [
      "time for hyperparameter tuning: 49.46391534805298\n",
      "min rmsle achieved:  0.1118751335625276\n",
      "tuned parameters: \n",
      " {'max_depth': 500, 'eta': 0.1, 'min_child_weight': 5, 'gamma': 2000, 'subsample': 0.8, 'colsample_bytree': 0.8, 'objective': 'reg:squarederror', 'reg_alpha': 50, 'nthread': 4, 'eval_metric': 'rmsle'}\n"
     ]
    }
   ],
   "source": [
    "time_before_hyperparameter_tuning = time.time()\n",
    "rmsles = {}\n",
    "\n",
    "for num in [60]:\n",
    "    for idx in params_df.index:\n",
    "        param = params_df.iloc[idx,:].to_dict()\n",
    "        param['nthread'] = 4\n",
    "        param['eval_metric'] = 'rmsle'\n",
    "        evallist = [(dtest, 'eval'), (dtrain, 'train')]\n",
    "        num_round = num\n",
    "        bst = xgb.train(param, dtrain, num_round, evallist, verbose_eval=False)\n",
    "        ypred = bst.predict(dtest)\n",
    "        rmsle = calc_rmsle(ypred, y_test)\n",
    "        rmsles.update({rmsle:param})\n",
    "        \n",
    "time_after_hyperparameter_turing = time.time()\n",
    "print(f'time for hyperparameter tuning: {time_after_hyperparameter_turing - time_before_hyperparameter_tuning}')\n",
    "\n",
    "print('min rmsle achieved: ', min(rmsles.keys()))\n",
    "print('tuned parameters: \\n', rmsles[min(rmsles.keys())])"
   ]
  },
  {
   "cell_type": "markdown",
   "metadata": {},
   "source": [
    "### create directories"
   ]
  },
  {
   "cell_type": "code",
   "execution_count": 15,
   "metadata": {},
   "outputs": [],
   "source": [
    "current_directory = os.getcwd()\n",
    "\n",
    "# create directory for test\n",
    "final_directory = os.path.join(current_directory, r'test')\n",
    "if not os.path.exists(final_directory):\n",
    "    os.makedirs(final_directory)\n",
    "    \n",
    "# create directory for train\n",
    "final_directory = os.path.join(current_directory, r'train')\n",
    "if not os.path.exists(final_directory):\n",
    "    os.makedirs(final_directory)\n",
    "    \n",
    "# create directory for predicted_Sale_Price_for_test\n",
    "final_directory = os.path.join(current_directory, r'predicted_Sale_Price_for_test')\n",
    "if not os.path.exists(final_directory):\n",
    "    os.makedirs(final_directory)\n",
    "\n",
    "# create directory for test_y\n",
    "final_directory = os.path.join(current_directory, r'test_y')\n",
    "if not os.path.exists(final_directory):\n",
    "    os.makedirs(final_directory)"
   ]
  },
  {
   "cell_type": "code",
   "execution_count": 16,
   "metadata": {
    "tags": []
   },
   "outputs": [
    {
     "name": "stdout",
     "output_type": "stream",
     "text": [
      "xgboost RMSLE for testId 1 is: 0.11217019249748902\n",
      "xgboost RMSLE for testId 2 is: 0.1094991724424541\n",
      "xgboost RMSLE for testId 3 is: 0.11522804649404317\n",
      "xgboost RMSLE for testId 4 is: 0.11816450527830848\n",
      "xgboost RMSLE for testId 5 is: 0.1118751335625276\n",
      "xgboost RMSLE for testId 6 is: 0.11041730314322525\n",
      "xgboost RMSLE for testId 7 is: 0.10752956777667341\n",
      "xgboost RMSLE for testId 8 is: 0.1169342640734199\n",
      "xgboost RMSLE for testId 9 is: 0.11882235154518062\n",
      "xgboost RMSLE for testId 10 is: 0.11441385285938607\n"
     ]
    }
   ],
   "source": [
    "param = rmsles[min(rmsles.keys())]\n",
    "param['nthread'] = 4\n",
    "param['eval_metric'] = 'rmsle'\n",
    "\n",
    "num_round = num\n",
    "\n",
    "result_df = pd.DataFrame(columns=['test_id', 'RMSLE', 'Time for training [Sec]'])\n",
    "\n",
    "for idx in range(10):\n",
    "    time_before_hyperparameter_tuning = time.time()\n",
    "    X = ames_data.loc[:, ~ames_data.columns.str.contains('Sale_Price')]\n",
    "\n",
    "    # label encode features\n",
    "    for col in X.columns:\n",
    "        if X[col].dtype == 'object':\n",
    "            X[col] = lbl.fit_transform(X[col].astype(str))\n",
    "\n",
    "    X_train = X.iloc[~X.index.isin(test_ids[idx]),:]\n",
    "    X_test = X.iloc[X.index.isin(test_ids[idx]),:]\n",
    "    y_train = ames_data.iloc[~ames_data.index.isin(test_ids[idx]),:]['Sale_Price']\n",
    "    y_test = ames_data.iloc[ames_data.index.isin(test_ids[idx]),:]['Sale_Price']\n",
    "    \n",
    "    xtrn_transformed = transform_xtrain(X_train, y_train)\n",
    "    xtst_transformed = transform_xtest(xtrn_transformed, y_train, X_test, y_test)\n",
    "    ytrn_transformed = transform_ytrain(y_train)\n",
    "    ytst_transformed = transform_ytest(y_test, y_train)\n",
    "    \n",
    "    X_train = xtrn_transformed\n",
    "    X_test = xtst_transformed\n",
    "    y_train = ytrn_transformed\n",
    "    y_test = ytst_transformed\n",
    "\n",
    "    dtrain = xgb.DMatrix(X_train, label=y_train)\n",
    "    dtest = xgb.DMatrix(X_test, label=y_test)\n",
    "\n",
    "    evallist = [(dtest, 'eval'), (dtrain, 'train')]\n",
    "    bst = xgb.train(param, dtrain, num_round, evallist, verbose_eval=False)\n",
    "    dtest = xgb.DMatrix(X_test, label=y_test)\n",
    "    ypred = bst.predict(dtest)\n",
    "    rmsle = calc_rmsle(ypred, y_test)\n",
    "    \n",
    "    time_after_hyperparameter_turing = time.time()\n",
    "    time_for_runnig = time_after_hyperparameter_turing - time_before_hyperparameter_tuning\n",
    "    \n",
    "    print(f'xgboost RMSLE for testId {idx+1} is: {rmsle}')\n",
    "    \n",
    "    result_df = result_df.append({'test_id':idx+1, 'RMSLE':rmsle, 'Time for training [Sec]':\n",
    "                                 time_for_runnig}, ignore_index=True)\n",
    "    \n",
    "    # Save files to csv\n",
    "    data = {'PID': test_ids[idx], 'True Sale Price': y_test}\n",
    "    pd.DataFrame.from_dict(data).to_csv(f'./test_y/test_y_for_testID_{idx+1}.csv')\n",
    "    \n",
    "    X_test['PID'] = test_ids[idx]\n",
    "    X_test.to_csv(f'./test/test_for_testID_{idx+1}.csv')\n",
    "    \n",
    "    X_train['Sale_Price'] = y_train\n",
    "    X_train['PID'] = ames_data.iloc[~ames_data.index.isin(test_ids[idx]),:]['PID']\n",
    "    X_train.to_csv(f'./train/train_for_testID_{idx+1}.csv')\n",
    "    \n",
    "    data = {'PID': test_ids[idx], 'Predicted Sale Price': ypred}\n",
    "    pd.DataFrame.from_dict(data).to_csv(f'./predicted_Sale_Price_for_test/pred_y_for_testID_{idx+1}.csv')"
   ]
  },
  {
   "cell_type": "code",
   "execution_count": 17,
   "metadata": {},
   "outputs": [],
   "source": [
    "result_df.to_csv(\"result.csv\")"
   ]
  },
  {
   "cell_type": "code",
   "execution_count": 18,
   "metadata": {},
   "outputs": [
    {
     "data": {
      "text/html": [
       "<div>\n",
       "<style scoped>\n",
       "    .dataframe tbody tr th:only-of-type {\n",
       "        vertical-align: middle;\n",
       "    }\n",
       "\n",
       "    .dataframe tbody tr th {\n",
       "        vertical-align: top;\n",
       "    }\n",
       "\n",
       "    .dataframe thead th {\n",
       "        text-align: right;\n",
       "    }\n",
       "</style>\n",
       "<table border=\"1\" class=\"dataframe\">\n",
       "  <thead>\n",
       "    <tr style=\"text-align: right;\">\n",
       "      <th></th>\n",
       "      <th>test_id</th>\n",
       "      <th>RMSLE</th>\n",
       "      <th>Time for training [Sec]</th>\n",
       "    </tr>\n",
       "  </thead>\n",
       "  <tbody>\n",
       "    <tr>\n",
       "      <th>0</th>\n",
       "      <td>1.0</td>\n",
       "      <td>0.112170</td>\n",
       "      <td>0.574465</td>\n",
       "    </tr>\n",
       "    <tr>\n",
       "      <th>1</th>\n",
       "      <td>2.0</td>\n",
       "      <td>0.109499</td>\n",
       "      <td>0.609370</td>\n",
       "    </tr>\n",
       "    <tr>\n",
       "      <th>2</th>\n",
       "      <td>3.0</td>\n",
       "      <td>0.115228</td>\n",
       "      <td>0.570474</td>\n",
       "    </tr>\n",
       "    <tr>\n",
       "      <th>3</th>\n",
       "      <td>4.0</td>\n",
       "      <td>0.118165</td>\n",
       "      <td>0.584942</td>\n",
       "    </tr>\n",
       "    <tr>\n",
       "      <th>4</th>\n",
       "      <td>5.0</td>\n",
       "      <td>0.111875</td>\n",
       "      <td>0.586432</td>\n",
       "    </tr>\n",
       "    <tr>\n",
       "      <th>5</th>\n",
       "      <td>6.0</td>\n",
       "      <td>0.110417</td>\n",
       "      <td>0.577456</td>\n",
       "    </tr>\n",
       "    <tr>\n",
       "      <th>6</th>\n",
       "      <td>7.0</td>\n",
       "      <td>0.107530</td>\n",
       "      <td>0.594408</td>\n",
       "    </tr>\n",
       "    <tr>\n",
       "      <th>7</th>\n",
       "      <td>8.0</td>\n",
       "      <td>0.116934</td>\n",
       "      <td>0.575461</td>\n",
       "    </tr>\n",
       "    <tr>\n",
       "      <th>8</th>\n",
       "      <td>9.0</td>\n",
       "      <td>0.118822</td>\n",
       "      <td>0.558503</td>\n",
       "    </tr>\n",
       "    <tr>\n",
       "      <th>9</th>\n",
       "      <td>10.0</td>\n",
       "      <td>0.114414</td>\n",
       "      <td>0.581444</td>\n",
       "    </tr>\n",
       "  </tbody>\n",
       "</table>\n",
       "</div>"
      ],
      "text/plain": [
       "   test_id     RMSLE  Time for training [Sec]\n",
       "0      1.0  0.112170                 0.574465\n",
       "1      2.0  0.109499                 0.609370\n",
       "2      3.0  0.115228                 0.570474\n",
       "3      4.0  0.118165                 0.584942\n",
       "4      5.0  0.111875                 0.586432\n",
       "5      6.0  0.110417                 0.577456\n",
       "6      7.0  0.107530                 0.594408\n",
       "7      8.0  0.116934                 0.575461\n",
       "8      9.0  0.118822                 0.558503\n",
       "9     10.0  0.114414                 0.581444"
      ]
     },
     "execution_count": 18,
     "metadata": {},
     "output_type": "execute_result"
    }
   ],
   "source": [
    "result_df"
   ]
  }
 ],
 "metadata": {
  "kernelspec": {
   "display_name": "Python 3",
   "language": "python",
   "name": "python3"
  },
  "language_info": {
   "codemirror_mode": {
    "name": "ipython",
    "version": 3
   },
   "file_extension": ".py",
   "mimetype": "text/x-python",
   "name": "python",
   "nbconvert_exporter": "python",
   "pygments_lexer": "ipython3",
   "version": "3.8.5"
  }
 },
 "nbformat": 4,
 "nbformat_minor": 4
}
