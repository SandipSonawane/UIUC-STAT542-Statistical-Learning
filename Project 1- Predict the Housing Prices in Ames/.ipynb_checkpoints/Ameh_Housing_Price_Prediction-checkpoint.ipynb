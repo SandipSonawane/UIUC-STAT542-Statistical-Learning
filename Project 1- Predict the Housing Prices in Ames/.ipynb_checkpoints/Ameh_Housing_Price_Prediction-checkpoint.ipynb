{
 "cells": [
  {
   "cell_type": "markdown",
   "metadata": {},
   "source": [
    "## Imports"
   ]
  },
  {
   "cell_type": "code",
   "execution_count": 68,
   "metadata": {},
   "outputs": [],
   "source": [
    "# imports\n",
    "import numpy as np\n",
    "import pandas as pd\n",
    "np.set_printoptions(suppress=True)\n",
    "import matplotlib.pyplot as plt\n",
    "import seaborn as sns\n",
    "import xgboost as xgb\n",
    "import warnings\n",
    "warnings.filterwarnings(\"ignore\")\n",
    "from scipy import stats\n",
    "from scipy.stats import norm, skew\n",
    "from scipy.stats import shapiro\n",
    "import pylab\n",
    "plt.style.use('ggplot')\n",
    "from scipy.stats.mstats import winsorize\n",
    "import time"
   ]
  },
  {
   "cell_type": "code",
   "execution_count": 23,
   "metadata": {},
   "outputs": [],
   "source": [
    "# input data\n",
    "ames_data = pd.read_csv('Ames_data.csv')\n",
    "\n",
    "dat_file = 'project1_testIDs.dat'\n",
    "test_ids = np.loadtxt(dat_file).T"
   ]
  },
  {
   "cell_type": "markdown",
   "metadata": {},
   "source": [
    "## Preprocess data"
   ]
  },
  {
   "cell_type": "code",
   "execution_count": 77,
   "metadata": {},
   "outputs": [],
   "source": [
    "# helper functions\n",
    "def get_df_info(input_of):\n",
    "    df_info = pd.DataFrame(columns=['column', 'Null Count', 'Data Type'])\n",
    "    for col in input_of:\n",
    "        Null_count  = sum(pd.isnull(input_of[col]))\n",
    "        dtype = input_of[col].dtype\n",
    "        df_info = df_info.append({'column': col, 'Null Count': Null_count, 'Data Type': dtype},\n",
    "                                ignore_index = True)\n",
    "    \n",
    "    return df_info\n",
    "\n",
    "def calc_rmsle(ypred, ytest):\n",
    "    return np.sqrt(np.mean((np.log(ypred) - np.log(ytest))**2))"
   ]
  },
  {
   "cell_type": "code",
   "execution_count": 110,
   "metadata": {},
   "outputs": [],
   "source": [
    "# pre-process train data\n",
    "\n",
    "def select_column_list(X, target):\n",
    "    dataframe = X\n",
    "    dataframe['Sale_Price'] = target\n",
    "    # Selected Categorical Variables: \n",
    "    selected_cat_col = ['Sale_Type', 'Fireplace_Qu', 'Kitchen_Qual', 'Central_Air', 'Heating_QC', 'Bsmt_Exposure', \n",
    "                         'Bsmt_Qual', 'Exter_Qual', 'Overall_Qual', 'Neighborhood', 'MS_Zoning', 'Garage_Type', 'Sale_Condition', \n",
    "                         'Paved_Drive', 'Garage_Finish', 'MS_SubClass', 'Electrical','Foundation', 'condition_1']\n",
    "    \n",
    "    # select numerical variables based on correlation\n",
    "    df_info = get_df_info(dataframe)\n",
    "    num_vars = df_info[df_info['Data Type'] != 'object']\n",
    "    ames_num_cols_df = dataframe.loc[:, dataframe.columns.isin(num_vars.column.tolist())]\n",
    "    corr_df = ames_num_cols_df.corr()\n",
    "    corr_df_shortlisted = corr_df.loc[(corr_df['Sale_Price'] > 0.3) | (corr_df['Sale_Price'] < -0.3),:]\n",
    "    corr_df_shortlisted = corr_df_shortlisted.loc[:, corr_df_shortlisted.columns.isin(corr_df_shortlisted.index)]\n",
    "    corr_df_shortlisted = corr_df_shortlisted.loc[~corr_df_shortlisted.index.isin(['Garage_Yr_Blt']), ~corr_df_shortlisted.columns.isin(['Garage_Yr_Blt'])]\n",
    "    corr_df_shortlisted = corr_df_shortlisted.loc[~corr_df_shortlisted.index.isin(['Garage_Area', 'First_Flr_SF']), ~corr_df_shortlisted.columns.isin(['Garage_Area', 'First_Flr_SF'])]\n",
    "    \n",
    "    # finalize columns selected\n",
    "    selected_cat_col.extend(corr_df_shortlisted.columns) \n",
    "    \n",
    "    return selected_cat_col\n",
    "\n",
    "def transform_xtrain(xtrn, ytrn):\n",
    "    \n",
    "    # winsorize outliers in Gr_Liv_Area\n",
    "    winsz_Gr_Liv_Area = winsorize(xtrn.Gr_Liv_Area, limits=[0.05, 0.05])\n",
    "    xtrn['Gr_Liv_Area'] = winsz_Gr_Liv_Area\n",
    "    \n",
    "    winsz_sale_price = winsorize(ytrn, limits=[0.05, 0.05])\n",
    "    ytrn = winsz_sale_price\n",
    "\n",
    "    # drop PID since this won't affect Sale_Price\n",
    "    xtrn.drop(['PID'], axis=1, inplace=True)\n",
    "    \n",
    "    # Convert Year values to age and drop unnecessary columns\n",
    "    xtrn.drop(['Year_Remod_Add', 'Mo_Sold', 'Year_Sold'], axis=1, inplace=True)\n",
    "    xtrn['Age_of_Property'] = 2010 - xtrn['Year_Built']\n",
    "    xtrn.drop(['Year_Built'], axis=1, inplace=True)                                            \n",
    "    \n",
    "    selected_cat_col = select_column_list(xtrn, ytrn)\n",
    "    df_final = xtrn.loc[:, xtrn.columns.isin(selected_cat_col)]\n",
    "    df_final.drop(['Sale_Price'], axis = 1, inplace = True)\n",
    "    \n",
    "    return df_final\n",
    "\n",
    "def transform_ytrain(ytrn):\n",
    "    winsz_sale_price = winsorize(ytrn, limits=[0.05, 0.05])\n",
    "    ytrn = winsz_sale_price\n",
    "    \n",
    "    return ytrn\n",
    "\n",
    "\n",
    "def transform_xtest(xtrn, ytrn, xtst, ytst):\n",
    "    \n",
    "    # get winsorized limits in Gr_Liv_Area\n",
    "    winsz_Gr_Liv_Area = winsorize(xtrn.Gr_Liv_Area, limits=[0.05, 0.05])\n",
    "    a = np.array(xtst['Gr_Liv_Area'].values.tolist())\n",
    "    xtst['Gr_Liv_Area'] = np.where(a > max(winsz_Gr_Liv_Area), max(winsz_Gr_Liv_Area), a).tolist()\n",
    "    xtst['Gr_Liv_Area'] = np.where(a < min(winsz_Gr_Liv_Area), min(winsz_Gr_Liv_Area), a).tolist()\n",
    "    \n",
    "    # get winsorized limits in Sale_Price\n",
    "    winsz_sale_price = winsorize(ytrn, limits=[0.05, 0.05])\n",
    "    a = np.array(ytst.values.tolist())\n",
    "    ytst = np.where(a > max(winsz_sale_price), max(winsz_sale_price), a).tolist()\n",
    "    ytst = np.where(a < min(winsz_sale_price), min(winsz_sale_price), a).tolist()\n",
    "\n",
    "    # drop PID since this won't affect Sale_Price\n",
    "    xtst.drop(['PID'], axis=1, inplace=True)\n",
    "    \n",
    "    # Convert Year values to age and drop unnecessary columns\n",
    "    xtst.drop(['Year_Remod_Add', 'Mo_Sold', 'Year_Sold'], axis=1, inplace=True)\n",
    "    xtst['Age_of_Property'] = 2010 - xtst['Year_Built']\n",
    "    xtst.drop(['Year_Built'], axis=1, inplace=True)\n",
    "    \n",
    "    selected_cat_col = select_column_list(xtrn, ytrn)\n",
    "    xtst_final = xtst.loc[:, xtst.columns.isin(selected_cat_col)]\n",
    "    \n",
    "    return xtst_final\n",
    "\n",
    "def transform_ytest(ytst, ytrn):\n",
    "    # get winsorized limits in Sale_Price\n",
    "    winsz_sale_price = winsorize(ytrn, limits=[0.05, 0.05])\n",
    "    a = np.array(ytst.values.tolist())\n",
    "    ytst = np.where(a > max(winsz_sale_price), max(winsz_sale_price), a).tolist()\n",
    "    ytst = np.where(a < min(winsz_sale_price), min(winsz_sale_price), a).tolist()\n",
    "    \n",
    "    return ytst"
   ]
  },
  {
   "cell_type": "code",
   "execution_count": 111,
   "metadata": {
    "tags": []
   },
   "outputs": [],
   "source": [
    "from sklearn import preprocessing\n",
    "lbl = preprocessing.LabelEncoder()\n",
    "X = ames_data.loc[:, ~ames_data.columns.str.contains('Sale_Price')]\n",
    "\n",
    "# label encode features\n",
    "for col in X.columns:\n",
    "    if X[col].dtype == 'object':\n",
    "        X[col] = lbl.fit_transform(X[col].astype(str))\n",
    "        \n",
    "j = 2\n",
    "X_train = X.iloc[~X.index.isin(test_ids[j]),:]\n",
    "X_test = X.iloc[X.index.isin(test_ids[j]),:]\n",
    "y_train = ames_data.iloc[~ames_data.index.isin(test_ids[j]),:]['Sale_Price']\n",
    "y_test = ames_data.iloc[ames_data.index.isin(test_ids[j]),:]['Sale_Price']"
   ]
  },
  {
   "cell_type": "code",
   "execution_count": 112,
   "metadata": {},
   "outputs": [],
   "source": [
    "xtrn_transformed = transform_xtrain(X_train, y_train)\n",
    "xtst_transformed = transform_xtest(X_train, y_train, X_test, y_test)\n",
    "ytrn_transformed = transform_ytrain(y_train)\n",
    "ytst_transformed = transform_ytest(y_test, y_train)"
   ]
  },
  {
   "cell_type": "code",
   "execution_count": 113,
   "metadata": {},
   "outputs": [
    {
     "data": {
      "text/plain": [
       "(2051, 28)"
      ]
     },
     "execution_count": 113,
     "metadata": {},
     "output_type": "execute_result"
    }
   ],
   "source": [
    "xtrn_transformed.shape"
   ]
  },
  {
   "cell_type": "code",
   "execution_count": 118,
   "metadata": {},
   "outputs": [
    {
     "data": {
      "text/plain": [
       "(879, 28)"
      ]
     },
     "execution_count": 118,
     "metadata": {},
     "output_type": "execute_result"
    }
   ],
   "source": [
    "xtst_transformed.shape"
   ]
  },
  {
   "cell_type": "code",
   "execution_count": 119,
   "metadata": {},
   "outputs": [
    {
     "data": {
      "text/plain": [
       "(2051,)"
      ]
     },
     "execution_count": 119,
     "metadata": {},
     "output_type": "execute_result"
    }
   ],
   "source": [
    "ytrn_transformed.shape"
   ]
  },
  {
   "cell_type": "code",
   "execution_count": 120,
   "metadata": {},
   "outputs": [
    {
     "data": {
      "text/plain": [
       "(879,)"
      ]
     },
     "execution_count": 120,
     "metadata": {},
     "output_type": "execute_result"
    }
   ],
   "source": [
    "np.shape(ytst_transformed)"
   ]
  },
  {
   "cell_type": "markdown",
   "metadata": {},
   "source": [
    "## XgBoost Model"
   ]
  },
  {
   "cell_type": "markdown",
   "metadata": {},
   "source": [
    "### Hyperparameters tuning"
   ]
  },
  {
   "cell_type": "code",
   "execution_count": 121,
   "metadata": {},
   "outputs": [],
   "source": [
    "# Create a list of hyperparameters\n",
    "# ref: https://stackoverflow.com/questions/12130883/r-expand-grid-function-in-python\n",
    "from itertools import product\n",
    "\n",
    "def expand_grid(dictionary):\n",
    "    return pd.DataFrame([row for row in product(*dictionary.values())], \n",
    "                       columns=dictionary.keys())\n",
    "\n",
    "params = {\n",
    "        'max_depth': [500],\n",
    "        'eta': [0.1, 0.15, 0.2, 0.25],\n",
    "        'min_child_weight': [5, 7],\n",
    "        'gamma': [200, 2000, 10000],\n",
    "        'subsample': [0.8],\n",
    "        'colsample_bytree': [0.6, 0.8, 1.0],\n",
    "        'objective': ['reg:squarederror'],\n",
    "        'reg_alpha':[50, 100]\n",
    "        }\n",
    "params_df = expand_grid(params)"
   ]
  },
  {
   "cell_type": "code",
   "execution_count": 122,
   "metadata": {},
   "outputs": [],
   "source": [
    "dtrain = xgb.DMatrix(xtrn_transformed, label=ytrn_transformed)\n",
    "dtest = xgb.DMatrix(xtst_transformed, label=ytst_transformed)"
   ]
  },
  {
   "cell_type": "code",
   "execution_count": null,
   "metadata": {},
   "outputs": [],
   "source": [
    "time_before_hyperparameter_tuning = time.time()\n",
    "rmsles = {}\n",
    "for num in [60]:\n",
    "    for idx in params_df.index:\n",
    "        param = params_df.iloc[idx,:].to_dict()\n",
    "        param['nthread'] = 4\n",
    "        param['eval_metric'] = 'rmsle'\n",
    "        evallist = [(dtest, 'eval'), (dtrain, 'train')]\n",
    "        num_round = num\n",
    "        bst = xgb.train(param, dtrain, num_round, evallist, verbose_eval=False)\n",
    "        ypred = bst.predict(dtest)\n",
    "        rmsle = calc_rmsle(ypred, y_test)\n",
    "        rmsles.update({rmsle:param})\n",
    "        \n",
    "time_after_hyperparameter_turing = time.time()\n",
    "print(f'time for hyperparameter tuning: {time_after_hyperparameter_turing - time_before_hyperparameter_tuning}')\n",
    "\n",
    "print('min rmsle achieved: ', min(rmsles.keys()))\n",
    "print('tuned parameters: \\n', rmsles[min(rmsles.keys())])"
   ]
  },
  {
   "cell_type": "code",
   "execution_count": null,
   "metadata": {},
   "outputs": [],
   "source": []
  }
 ],
 "metadata": {
  "kernelspec": {
   "display_name": "Python 3",
   "language": "python",
   "name": "python3"
  },
  "language_info": {
   "codemirror_mode": {
    "name": "ipython",
    "version": 3
   },
   "file_extension": ".py",
   "mimetype": "text/x-python",
   "name": "python",
   "nbconvert_exporter": "python",
   "pygments_lexer": "ipython3",
   "version": "3.8.5"
  }
 },
 "nbformat": 4,
 "nbformat_minor": 4
}
