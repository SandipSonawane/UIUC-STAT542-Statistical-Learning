{
 "cells": [
  {
   "cell_type": "markdown",
   "metadata": {},
   "source": [
    "## Imports"
   ]
  },
  {
   "cell_type": "code",
   "execution_count": 277,
   "metadata": {},
   "outputs": [],
   "source": [
    "import pandas as pd\n",
    "import matplotlib.pyplot as plt\n",
    "import seaborn as sns\n",
    "plt.style.use('seaborn')\n",
    "import numpy as np\n",
    "import os\n",
    "import warnings\n",
    "warnings.filterwarnings('ignore')\n",
    "import time\n",
    "import datetime\n",
    "import xgboost as xgb\n",
    "from sklearn import preprocessing\n",
    "from sklearn.model_selection import train_test_split"
   ]
  },
  {
   "cell_type": "code",
   "execution_count": 236,
   "metadata": {},
   "outputs": [],
   "source": [
    "# data_path = os.path.join(os.getcwd(), 'F21_proj2_data')\n",
    "train_ini = pd.read_csv('train_ini.csv')"
   ]
  },
  {
   "cell_type": "code",
   "execution_count": 237,
   "metadata": {},
   "outputs": [
    {
     "data": {
      "text/html": [
       "<div>\n",
       "<style scoped>\n",
       "    .dataframe tbody tr th:only-of-type {\n",
       "        vertical-align: middle;\n",
       "    }\n",
       "\n",
       "    .dataframe tbody tr th {\n",
       "        vertical-align: top;\n",
       "    }\n",
       "\n",
       "    .dataframe thead th {\n",
       "        text-align: right;\n",
       "    }\n",
       "</style>\n",
       "<table border=\"1\" class=\"dataframe\">\n",
       "  <thead>\n",
       "    <tr style=\"text-align: right;\">\n",
       "      <th></th>\n",
       "      <th>Store</th>\n",
       "      <th>Dept</th>\n",
       "      <th>Date</th>\n",
       "      <th>Weekly_Sales</th>\n",
       "      <th>IsHoliday</th>\n",
       "    </tr>\n",
       "  </thead>\n",
       "  <tbody>\n",
       "    <tr>\n",
       "      <th>0</th>\n",
       "      <td>1</td>\n",
       "      <td>1</td>\n",
       "      <td>2/5/2010</td>\n",
       "      <td>24924.50</td>\n",
       "      <td>False</td>\n",
       "    </tr>\n",
       "    <tr>\n",
       "      <th>1</th>\n",
       "      <td>1</td>\n",
       "      <td>1</td>\n",
       "      <td>2/12/2010</td>\n",
       "      <td>46039.49</td>\n",
       "      <td>True</td>\n",
       "    </tr>\n",
       "  </tbody>\n",
       "</table>\n",
       "</div>"
      ],
      "text/plain": [
       "   Store  Dept       Date  Weekly_Sales  IsHoliday\n",
       "0      1     1   2/5/2010      24924.50      False\n",
       "1      1     1  2/12/2010      46039.49       True"
      ]
     },
     "execution_count": 237,
     "metadata": {},
     "output_type": "execute_result"
    }
   ],
   "source": [
    "train_ini.head(2)"
   ]
  },
  {
   "cell_type": "markdown",
   "metadata": {},
   "source": [
    "## feature preprocessing"
   ]
  },
  {
   "cell_type": "code",
   "execution_count": 264,
   "metadata": {},
   "outputs": [],
   "source": [
    "def feature_preprocessing_xtrain(train_ini):\n",
    "    train_ini['Date']= pd.to_datetime(train_ini['Date'])\n",
    "    train_ini['Date'] = pd.to_datetime(train_ini['Date'], format='%m%d%y')\n",
    "    train_ini['week'] = train_ini['Date'].dt.week\n",
    "    lbl = preprocessing.LabelEncoder()\n",
    "    train_ini['IsHoliday'] = lbl.fit_transform(train_ini['IsHoliday'].astype(str))\n",
    "    \n",
    "    return train_ini"
   ]
  },
  {
   "cell_type": "code",
   "execution_count": 254,
   "metadata": {},
   "outputs": [
    {
     "data": {
      "text/html": [
       "<div>\n",
       "<style scoped>\n",
       "    .dataframe tbody tr th:only-of-type {\n",
       "        vertical-align: middle;\n",
       "    }\n",
       "\n",
       "    .dataframe tbody tr th {\n",
       "        vertical-align: top;\n",
       "    }\n",
       "\n",
       "    .dataframe thead th {\n",
       "        text-align: right;\n",
       "    }\n",
       "</style>\n",
       "<table border=\"1\" class=\"dataframe\">\n",
       "  <thead>\n",
       "    <tr style=\"text-align: right;\">\n",
       "      <th></th>\n",
       "      <th>Store</th>\n",
       "      <th>Dept</th>\n",
       "      <th>Date</th>\n",
       "      <th>Weekly_Sales</th>\n",
       "      <th>IsHoliday</th>\n",
       "      <th>week</th>\n",
       "    </tr>\n",
       "  </thead>\n",
       "  <tbody>\n",
       "    <tr>\n",
       "      <th>0</th>\n",
       "      <td>1</td>\n",
       "      <td>1</td>\n",
       "      <td>2010-02-05</td>\n",
       "      <td>24924.50</td>\n",
       "      <td>0</td>\n",
       "      <td>5</td>\n",
       "    </tr>\n",
       "    <tr>\n",
       "      <th>1</th>\n",
       "      <td>1</td>\n",
       "      <td>1</td>\n",
       "      <td>2010-02-12</td>\n",
       "      <td>46039.49</td>\n",
       "      <td>1</td>\n",
       "      <td>6</td>\n",
       "    </tr>\n",
       "  </tbody>\n",
       "</table>\n",
       "</div>"
      ],
      "text/plain": [
       "   Store  Dept       Date  Weekly_Sales  IsHoliday  week\n",
       "0      1     1 2010-02-05      24924.50          0     5\n",
       "1      1     1 2010-02-12      46039.49          1     6"
      ]
     },
     "execution_count": 254,
     "metadata": {},
     "output_type": "execute_result"
    }
   ],
   "source": [
    "train_ini.head(2)"
   ]
  },
  {
   "cell_type": "code",
   "execution_count": 255,
   "metadata": {},
   "outputs": [
    {
     "data": {
      "text/html": [
       "<div>\n",
       "<style scoped>\n",
       "    .dataframe tbody tr th:only-of-type {\n",
       "        vertical-align: middle;\n",
       "    }\n",
       "\n",
       "    .dataframe tbody tr th {\n",
       "        vertical-align: top;\n",
       "    }\n",
       "\n",
       "    .dataframe thead th {\n",
       "        text-align: right;\n",
       "    }\n",
       "</style>\n",
       "<table border=\"1\" class=\"dataframe\">\n",
       "  <thead>\n",
       "    <tr style=\"text-align: right;\">\n",
       "      <th></th>\n",
       "      <th>Store</th>\n",
       "      <th>Dept</th>\n",
       "      <th>IsHoliday</th>\n",
       "      <th>week</th>\n",
       "    </tr>\n",
       "  </thead>\n",
       "  <tbody>\n",
       "    <tr>\n",
       "      <th>0</th>\n",
       "      <td>1</td>\n",
       "      <td>1</td>\n",
       "      <td>0</td>\n",
       "      <td>5</td>\n",
       "    </tr>\n",
       "    <tr>\n",
       "      <th>1</th>\n",
       "      <td>1</td>\n",
       "      <td>1</td>\n",
       "      <td>1</td>\n",
       "      <td>6</td>\n",
       "    </tr>\n",
       "  </tbody>\n",
       "</table>\n",
       "</div>"
      ],
      "text/plain": [
       "   Store  Dept  IsHoliday  week\n",
       "0      1     1          0     5\n",
       "1      1     1          1     6"
      ]
     },
     "execution_count": 255,
     "metadata": {},
     "output_type": "execute_result"
    }
   ],
   "source": [
    "X.head(2)"
   ]
  },
  {
   "cell_type": "code",
   "execution_count": 256,
   "metadata": {},
   "outputs": [
    {
     "data": {
      "image/png": "[encoded data removed]",
      "text/plain": [
       "<Figure size 576x396 with 1 Axes>"
      ]
     },
     "metadata": {},
     "output_type": "display_data"
    }
   ],
   "source": [
    "item = train_ini[train_ini['IsHoliday']==1].groupby(by='week').mean()['Weekly_Sales']\n",
    "plt.scatter(x=item.index, y=item.values, c='darkblue', label='Holiday')\n",
    "train_ini[train_ini['IsHoliday']==0].groupby(by='week').mean()['Weekly_Sales'].plot(label='No Holiday',\n",
    "                                                                                   c='maroon')\n",
    "train_ini.groupby(by='week').mean()['Weekly_Sales'].plot(label='Combined', alpha=.5)\n",
    "plt.legend()\n",
    "plt.show()"
   ]
  },
  {
   "cell_type": "code",
   "execution_count": 257,
   "metadata": {},
   "outputs": [
    {
     "data": {
      "image/png": "[encoded data removed]",
      "text/plain": [
       "<Figure size 576x396 with 1 Axes>"
      ]
     },
     "metadata": {},
     "output_type": "display_data"
    }
   ],
   "source": [
    "item = train_ini[train_ini['IsHoliday']==1].groupby(by='week').median()['Weekly_Sales']\n",
    "plt.scatter(x=item.index, y=item.values, c='darkblue', label='Holiday')\n",
    "train_ini[train_ini['IsHoliday']==0].groupby(by='week').median()['Weekly_Sales'].plot(label='No Holiday',\n",
    "                                                                                   c='maroon')\n",
    "train_ini.groupby(by='week').median()['Weekly_Sales'].plot(label='Combined', alpha=.5)\n",
    "plt.legend()\n",
    "plt.show()"
   ]
  },
  {
   "cell_type": "markdown",
   "metadata": {},
   "source": [
    "## Evaluation Function"
   ]
  },
  {
   "cell_type": "code",
   "execution_count": null,
   "metadata": {},
   "outputs": [],
   "source": [
    "import numpy as np\n",
    "import pandas as pd\n",
    "\n",
    "# from mymain import mypredict\n",
    "\n",
    "train = pd.read_csv('train_ini.csv', parse_dates=['Date'])\n",
    "test = pd.read_csv('test.csv', parse_dates=['Date'])\n",
    "\n",
    "# save weighed mean absolute error WMAE\n",
    "n_folds = 10\n",
    "next_fold = None\n",
    "wae = []\n",
    "\n",
    "# time-series prediction \n",
    "for t in range(1, n_folds+1):\n",
    "    # print(f'Fold{t}...')\n",
    "    # *** THIS IS YOUR PREDICTION FUNCTION ***\n",
    "    train, test_pred = mypredict(train, test, next_fold, t)\n",
    "    # Load fold file\n",
    "    # You should add this to your training data in the next call to mypredict()\n",
    "    fold_file = 'fold_{t}.csv'.format(t=t)\n",
    "    next_fold = pd.read_csv(fold_file, parse_dates=['Date'])\n",
    "\n",
    "    # extract predictions matching up to the current fold\n",
    "    scoring_df = next_fold.merge(test_pred, on=['Date', 'Store', 'Dept'], how='left')\n",
    "\n",
    "    # extract weights and convert to numpy arrays for wae calculation\n",
    "    weights = scoring_df['IsHoliday_x'].apply(lambda is_holiday:5 if is_holiday else 1).to_numpy()\n",
    "    actuals = scoring_df['Weekly_Sales'].to_numpy()\n",
    "    preds = scoring_df['Weekly_Pred'].fillna(0).to_numpy()\n",
    "\n",
    "    wae.append((np.sum(weights * np.abs(actuals - preds)) / np.sum(weights)).item())\n",
    "\n",
    "print(wae)\n",
    "print(sum(wae)/len(wae))"
   ]
  },
  {
   "cell_type": "code",
   "execution_count": null,
   "metadata": {},
   "outputs": [],
   "source": [
    "[7842.773835080328, 8276.67656489298, 8142.196970558118, 7987.359785391791, 10522.152161564818, 8404.686196797189, 8093.2138132779755, 8445.98773733721, 8173.810432185905, 8062.895157242394]\n",
    "8395.17526543287"
   ]
  },
  {
   "cell_type": "markdown",
   "metadata": {},
   "source": [
    "## Naive Model Predicting Mean Sales of a particular weeks"
   ]
  },
  {
   "cell_type": "code",
   "execution_count": 333,
   "metadata": {},
   "outputs": [],
   "source": [
    "def mypredict(train, test, next_fold, t):\n",
    "    \n",
    "    if not t==1:\n",
    "        train = train.append(next_fold)\n",
    "        X = feature_preprocessing_xtrain(train)\n",
    "    else:\n",
    "        X = feature_preprocessing_xtrain(train)\n",
    "       \n",
    "    X1 = feature_preprocessing_xtrain(test)\n",
    "    pred_model = X.groupby(by='week').mean()['Weekly_Sales']\n",
    "    prediction = X1.merge(pred_model, how='inner', left_on='week', right_on=pred_model.index)\n",
    "    Y1_Pred = prediction.Weekly_Sales.values\n",
    "    test['Weekly_Pred'] = Y1_Pred\n",
    "    \n",
    "    return train, test"
   ]
  },
  {
   "cell_type": "markdown",
   "metadata": {},
   "source": [
    "## XG boost model"
   ]
  },
  {
   "cell_type": "code",
   "execution_count": 343,
   "metadata": {},
   "outputs": [],
   "source": [
    "def mypredict(train, test, next_fold, t):\n",
    "    \n",
    "    if not t==1:\n",
    "        train = train.append(next_fold)\n",
    "        trn = feature_preprocessing_xtrain(train)\n",
    "    else:\n",
    "        trn = feature_preprocessing_xtrain(train)\n",
    "    \n",
    "    try: test = test.drop(columns=['Weekly_Pred'])\n",
    "    except: pass\n",
    "    \n",
    "    Xtest = feature_preprocessing_xtrain(test)\n",
    "        \n",
    "    trn = trn.drop(columns=['Date'])\n",
    "    X_train, X_test, y_train, y_test = train_test_split(trn.loc[:, ~trn.columns.str.contains('Weekly_Sales')],\n",
    "                                                        trn.Weekly_Sales,\n",
    "                                                        test_size=0.20, random_state=42)\n",
    "    dtrain = xgb.DMatrix(X_train, label=y_train)\n",
    "    dtest = xgb.DMatrix(X_test, label=y_test)\n",
    "    param = {'max_depth': 4, 'eta': 0.01, 'min_child_weight': 6, 'subsample': 0.5, 'reg_alpha':100,\n",
    "         'objective': 'reg:squarederror', 'min_child_weight':8}\n",
    "\n",
    "    param['nthread'] = 6\n",
    "    param['eval_metric'] = 'rmsle'\n",
    "\n",
    "    num_round = 1000\n",
    "    evallist = [(dtest, 'eval'), (dtrain, 'train')]\n",
    "    # final model with best parameters\n",
    "    bst = xgb.train(param, dtrain, num_round, evallist, verbose_eval=False)\n",
    "\n",
    "    testXgb = feature_preprocessing_xtrain(Xtest)\n",
    "    testXgb = testXgb.drop(columns=['Date'])\n",
    "\n",
    "    dtest = xgb.DMatrix(testXgb)\n",
    "    ypred = bst.predict(dtest)\n",
    "    ypred = np.array(ypred).flatten()\n",
    "\n",
    "    test['Weekly_Pred'] = ypred\n",
    "    \n",
    "    return train, test"
   ]
  },
  {
   "cell_type": "code",
   "execution_count": 293,
   "metadata": {},
   "outputs": [],
   "source": [
    "trn = feature_preprocessing_xtrain(train)\n",
    "trn = trn.drop(columns=['Date'])\n",
    "X_train, X_test, y_train, y_test = train_test_split(trn.loc[:, ~trn.columns.str.contains('Weekly_Sales')],\n",
    "                                                        trn.Weekly_Sales,\n",
    "                                                        test_size=0.20, random_state=42)"
   ]
  },
  {
   "cell_type": "code",
   "execution_count": 294,
   "metadata": {},
   "outputs": [],
   "source": [
    "dtrain = xgb.DMatrix(X_train, label=y_train)\n",
    "dtest = xgb.DMatrix(X_test, label=y_test)"
   ]
  },
  {
   "cell_type": "code",
   "execution_count": 299,
   "metadata": {},
   "outputs": [],
   "source": [
    "param = {'max_depth': 4, 'eta': 0.01, 'min_child_weight': 6, 'subsample': 0.5, 'reg_alpha':100,\n",
    "         'objective': 'reg:squarederror', 'min_child_weight':8}\n",
    "\n",
    "param['nthread'] = 6\n",
    "param['eval_metric'] = 'rmsle'\n",
    "\n",
    "num_round = 500\n",
    "evallist = [(dtest, 'eval'), (dtrain, 'train')]\n",
    "# final model with best parameters\n",
    "bst = xgb.train(param, dtrain, num_round, evallist, verbose_eval=False)\n",
    "\n",
    "test = feature_preprocessing_xtrain(test)\n",
    "test = test.drop(columns=['Date'])\n",
    "\n",
    "dtest = xgb.DMatrix(test)\n",
    "ypred = bst.predict(dtest)\n",
    "ypred = np.array(ypred).flatten()"
   ]
  },
  {
   "cell_type": "code",
   "execution_count": null,
   "metadata": {},
   "outputs": [],
   "source": []
  }
 ],
 "metadata": {
  "kernelspec": {
   "display_name": "Python 3",
   "language": "python",
   "name": "python3"
  },
  "language_info": {
   "codemirror_mode": {
    "name": "ipython",
    "version": 3
   },
   "file_extension": ".py",
   "mimetype": "text/x-python",
   "name": "python",
   "nbconvert_exporter": "python",
   "pygments_lexer": "ipython3",
   "version": "3.8.5"
  }
 },
 "nbformat": 4,
 "nbformat_minor": 4
}
