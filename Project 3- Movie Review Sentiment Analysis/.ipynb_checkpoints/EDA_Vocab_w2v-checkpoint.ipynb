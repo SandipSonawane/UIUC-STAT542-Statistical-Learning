{
 "cells": [
  {
   "cell_type": "code",
   "execution_count": 109,
   "metadata": {},
   "outputs": [],
   "source": [
    "import numpy as np\n",
    "import pandas as pd\n",
    "import matplotlib.pyplot as plt\n",
    "import seaborn as sns\n",
    "import nltk\n",
    "from nltk.corpus import stopwords\n",
    "from nltk.tokenize import word_tokenize\n",
    "from nltk import ngrams\n",
    "stpwords = stopwords.words('english')\n",
    "import re\n",
    "from gensim.models import phrases, word2vec"
   ]
  },
  {
   "cell_type": "code",
   "execution_count": 3,
   "metadata": {},
   "outputs": [],
   "source": [
    "all_data = pd.read_csv('alldata.tsv', sep='\\t')"
   ]
  },
  {
   "cell_type": "code",
   "execution_count": 4,
   "metadata": {},
   "outputs": [
    {
     "data": {
      "text/html": [
       "<div>\n",
       "<style scoped>\n",
       "    .dataframe tbody tr th:only-of-type {\n",
       "        vertical-align: middle;\n",
       "    }\n",
       "\n",
       "    .dataframe tbody tr th {\n",
       "        vertical-align: top;\n",
       "    }\n",
       "\n",
       "    .dataframe thead th {\n",
       "        text-align: right;\n",
       "    }\n",
       "</style>\n",
       "<table border=\"1\" class=\"dataframe\">\n",
       "  <thead>\n",
       "    <tr style=\"text-align: right;\">\n",
       "      <th></th>\n",
       "      <th>id</th>\n",
       "      <th>sentiment</th>\n",
       "      <th>score</th>\n",
       "      <th>review</th>\n",
       "    </tr>\n",
       "  </thead>\n",
       "  <tbody>\n",
       "    <tr>\n",
       "      <th>0</th>\n",
       "      <td>1</td>\n",
       "      <td>1</td>\n",
       "      <td>10</td>\n",
       "      <td>Naturally in a film who's main themes are of m...</td>\n",
       "    </tr>\n",
       "    <tr>\n",
       "      <th>1</th>\n",
       "      <td>2</td>\n",
       "      <td>0</td>\n",
       "      <td>2</td>\n",
       "      <td>This movie is a disaster within a disaster fil...</td>\n",
       "    </tr>\n",
       "    <tr>\n",
       "      <th>2</th>\n",
       "      <td>3</td>\n",
       "      <td>0</td>\n",
       "      <td>4</td>\n",
       "      <td>All in all, this is a movie for kids. We saw i...</td>\n",
       "    </tr>\n",
       "    <tr>\n",
       "      <th>3</th>\n",
       "      <td>4</td>\n",
       "      <td>0</td>\n",
       "      <td>2</td>\n",
       "      <td>Afraid of the Dark left me with the impression...</td>\n",
       "    </tr>\n",
       "    <tr>\n",
       "      <th>4</th>\n",
       "      <td>5</td>\n",
       "      <td>1</td>\n",
       "      <td>7</td>\n",
       "      <td>A very accurate depiction of small time mob li...</td>\n",
       "    </tr>\n",
       "    <tr>\n",
       "      <th>...</th>\n",
       "      <td>...</td>\n",
       "      <td>...</td>\n",
       "      <td>...</td>\n",
       "      <td>...</td>\n",
       "    </tr>\n",
       "    <tr>\n",
       "      <th>49995</th>\n",
       "      <td>49996</td>\n",
       "      <td>0</td>\n",
       "      <td>3</td>\n",
       "      <td>It seems like more consideration has gone into...</td>\n",
       "    </tr>\n",
       "    <tr>\n",
       "      <th>49996</th>\n",
       "      <td>49997</td>\n",
       "      <td>0</td>\n",
       "      <td>1</td>\n",
       "      <td>I don't believe they made this film. Completel...</td>\n",
       "    </tr>\n",
       "    <tr>\n",
       "      <th>49997</th>\n",
       "      <td>49998</td>\n",
       "      <td>0</td>\n",
       "      <td>3</td>\n",
       "      <td>Guy is a loser. Can't get girls, needs to buil...</td>\n",
       "    </tr>\n",
       "    <tr>\n",
       "      <th>49998</th>\n",
       "      <td>49999</td>\n",
       "      <td>0</td>\n",
       "      <td>3</td>\n",
       "      <td>This 30 minute documentary Buñuel made in the ...</td>\n",
       "    </tr>\n",
       "    <tr>\n",
       "      <th>49999</th>\n",
       "      <td>50000</td>\n",
       "      <td>1</td>\n",
       "      <td>8</td>\n",
       "      <td>I saw this movie as a child and it broke my he...</td>\n",
       "    </tr>\n",
       "  </tbody>\n",
       "</table>\n",
       "<p>50000 rows × 4 columns</p>\n",
       "</div>"
      ],
      "text/plain": [
       "          id  sentiment  score  \\\n",
       "0          1          1     10   \n",
       "1          2          0      2   \n",
       "2          3          0      4   \n",
       "3          4          0      2   \n",
       "4          5          1      7   \n",
       "...      ...        ...    ...   \n",
       "49995  49996          0      3   \n",
       "49996  49997          0      1   \n",
       "49997  49998          0      3   \n",
       "49998  49999          0      3   \n",
       "49999  50000          1      8   \n",
       "\n",
       "                                                  review  \n",
       "0      Naturally in a film who's main themes are of m...  \n",
       "1      This movie is a disaster within a disaster fil...  \n",
       "2      All in all, this is a movie for kids. We saw i...  \n",
       "3      Afraid of the Dark left me with the impression...  \n",
       "4      A very accurate depiction of small time mob li...  \n",
       "...                                                  ...  \n",
       "49995  It seems like more consideration has gone into...  \n",
       "49996  I don't believe they made this film. Completel...  \n",
       "49997  Guy is a loser. Can't get girls, needs to buil...  \n",
       "49998  This 30 minute documentary Buñuel made in the ...  \n",
       "49999  I saw this movie as a child and it broke my he...  \n",
       "\n",
       "[50000 rows x 4 columns]"
      ]
     },
     "execution_count": 4,
     "metadata": {},
     "output_type": "execute_result"
    }
   ],
   "source": [
    "all_data"
   ]
  },
  {
   "cell_type": "code",
   "execution_count": 114,
   "metadata": {},
   "outputs": [],
   "source": [
    "def clean_corpus(text):\n",
    "    '''\n",
    "    INPUT\n",
    "    text - string\n",
    "    OUTPUT\n",
    "    clean text\n",
    "    This function processes the input using the following steps :\n",
    "    1. Remove punctuation characters\n",
    "    2. Remove stop words\n",
    "    '''\n",
    "    # Remove punctuation characters and numbers\n",
    "    text = re.sub(r\"[^a-zA-Z]\", \" \", text)\n",
    "    \n",
    "    # Tokenize text\n",
    "    tokens = word_tokenize(text)\n",
    "        \n",
    "    clean_text = []\n",
    "    for word in tokens:\n",
    "        clean_tok = word.lower().strip()\n",
    "        if clean_tok not in stpwords:\n",
    "            clean_text.append(clean_tok)\n",
    "\n",
    "    return clean_text"
   ]
  },
  {
   "cell_type": "code",
   "execution_count": 115,
   "metadata": {},
   "outputs": [
    {
     "data": {
      "text/plain": [
       "['naturally',\n",
       " 'film',\n",
       " 'main',\n",
       " 'themes',\n",
       " 'mortality',\n",
       " 'nostalgia',\n",
       " 'loss',\n",
       " 'innocence',\n",
       " 'perhaps',\n",
       " 'surprising',\n",
       " 'rated',\n",
       " 'highly',\n",
       " 'older',\n",
       " 'viewers',\n",
       " 'younger',\n",
       " 'ones',\n",
       " 'however',\n",
       " 'craftsmanship',\n",
       " 'completeness',\n",
       " 'film',\n",
       " 'anyone',\n",
       " 'enjoy',\n",
       " 'pace',\n",
       " 'steady',\n",
       " 'constant',\n",
       " 'characters',\n",
       " 'full',\n",
       " 'engaging',\n",
       " 'relationships',\n",
       " 'interactions',\n",
       " 'natural',\n",
       " 'showing',\n",
       " 'need',\n",
       " 'floods',\n",
       " 'tears',\n",
       " 'show',\n",
       " 'emotion',\n",
       " 'screams',\n",
       " 'show',\n",
       " 'fear',\n",
       " 'shouting',\n",
       " 'show',\n",
       " 'dispute',\n",
       " 'violence',\n",
       " 'show',\n",
       " 'anger',\n",
       " 'naturally',\n",
       " 'joyce',\n",
       " 'short',\n",
       " 'story',\n",
       " 'lends',\n",
       " 'film',\n",
       " 'ready',\n",
       " 'made',\n",
       " 'structure',\n",
       " 'perfect',\n",
       " 'polished',\n",
       " 'diamond',\n",
       " 'small',\n",
       " 'changes',\n",
       " 'huston',\n",
       " 'makes',\n",
       " 'inclusion',\n",
       " 'poem',\n",
       " 'fit',\n",
       " 'neatly',\n",
       " 'truly',\n",
       " 'masterpiece',\n",
       " 'tact',\n",
       " 'subtlety',\n",
       " 'overwhelming',\n",
       " 'beauty']"
      ]
     },
     "execution_count": 115,
     "metadata": {},
     "output_type": "execute_result"
    }
   ],
   "source": [
    "clean_corpus(all_data['review'][0])"
   ]
  },
  {
   "cell_type": "code",
   "execution_count": 116,
   "metadata": {},
   "outputs": [],
   "source": [
    "cleaned_review = [clean_corpus(x) for x in all_data.review]"
   ]
  },
  {
   "cell_type": "code",
   "execution_count": 117,
   "metadata": {},
   "outputs": [
    {
     "data": {
      "text/plain": [
       "['naturally',\n",
       " 'film',\n",
       " 'main',\n",
       " 'themes',\n",
       " 'mortality',\n",
       " 'nostalgia',\n",
       " 'loss',\n",
       " 'innocence',\n",
       " 'perhaps',\n",
       " 'surprising',\n",
       " 'rated',\n",
       " 'highly',\n",
       " 'older',\n",
       " 'viewers',\n",
       " 'younger',\n",
       " 'ones',\n",
       " 'however',\n",
       " 'craftsmanship',\n",
       " 'completeness',\n",
       " 'film',\n",
       " 'anyone',\n",
       " 'enjoy',\n",
       " 'pace',\n",
       " 'steady',\n",
       " 'constant',\n",
       " 'characters',\n",
       " 'full',\n",
       " 'engaging',\n",
       " 'relationships',\n",
       " 'interactions',\n",
       " 'natural',\n",
       " 'showing',\n",
       " 'need',\n",
       " 'floods',\n",
       " 'tears',\n",
       " 'show',\n",
       " 'emotion',\n",
       " 'screams',\n",
       " 'show',\n",
       " 'fear',\n",
       " 'shouting',\n",
       " 'show',\n",
       " 'dispute',\n",
       " 'violence',\n",
       " 'show',\n",
       " 'anger',\n",
       " 'naturally',\n",
       " 'joyce',\n",
       " 'short',\n",
       " 'story',\n",
       " 'lends',\n",
       " 'film',\n",
       " 'ready',\n",
       " 'made',\n",
       " 'structure',\n",
       " 'perfect',\n",
       " 'polished',\n",
       " 'diamond',\n",
       " 'small',\n",
       " 'changes',\n",
       " 'huston',\n",
       " 'makes',\n",
       " 'inclusion',\n",
       " 'poem',\n",
       " 'fit',\n",
       " 'neatly',\n",
       " 'truly',\n",
       " 'masterpiece',\n",
       " 'tact',\n",
       " 'subtlety',\n",
       " 'overwhelming',\n",
       " 'beauty']"
      ]
     },
     "execution_count": 117,
     "metadata": {},
     "output_type": "execute_result"
    }
   ],
   "source": [
    "cleaned_review[0]"
   ]
  },
  {
   "cell_type": "code",
   "execution_count": 118,
   "metadata": {},
   "outputs": [],
   "source": [
    "all_data['cleaned_review'] = cleaned_review"
   ]
  },
  {
   "cell_type": "code",
   "execution_count": 36,
   "metadata": {},
   "outputs": [],
   "source": [
    "all_words = [nltk.word_tokenize(x) for x in cleaned_review]"
   ]
  },
  {
   "cell_type": "code",
   "execution_count": 98,
   "metadata": {},
   "outputs": [
    {
     "name": "stdout",
     "output_type": "stream",
     "text": [
      "('this', 'is', 'a', 'foo', 'bar', 'sentences')\n",
      "('is', 'a', 'foo', 'bar', 'sentences', 'and')\n",
      "('a', 'foo', 'bar', 'sentences', 'and', 'i')\n",
      "('foo', 'bar', 'sentences', 'and', 'i', 'want')\n",
      "('bar', 'sentences', 'and', 'i', 'want', 'to')\n",
      "('sentences', 'and', 'i', 'want', 'to', 'ngramize')\n",
      "('and', 'i', 'want', 'to', 'ngramize', 'it')\n"
     ]
    },
    {
     "data": {
      "text/plain": [
       "<generator object ngrams at 0x0000019DCEE4E270>"
      ]
     },
     "execution_count": 98,
     "metadata": {},
     "output_type": "execute_result"
    }
   ],
   "source": [
    "sentence = 'this is a foo bar sentences and i want to ngramize it'\n",
    "\n",
    "n = 6\n",
    "sixgrams = ngrams(sentence.split(), n)\n",
    "\n",
    "for grams in sixgrams:\n",
    "    print(grams)\n",
    "sixgrams"
   ]
  },
  {
   "cell_type": "code",
   "execution_count": 105,
   "metadata": {},
   "outputs": [
    {
     "name": "stdout",
     "output_type": "stream",
     "text": [
      "['naturally', 'film']\n",
      "['film', 'main']\n",
      "['main', 'themes']\n",
      "['themes', 'mortality']\n",
      "['mortality', 'nostalgia']\n",
      "['nostalgia', 'loss']\n",
      "['loss', 'innocence']\n",
      "['innocence', 'perhaps']\n",
      "['perhaps', 'surprising']\n"
     ]
    }
   ],
   "source": [
    "for grm in bigrm:\n",
    "    print(list(grm))"
   ]
  },
  {
   "cell_type": "code",
   "execution_count": 104,
   "metadata": {},
   "outputs": [
    {
     "data": {
      "text/plain": [
       "<generator object bigrams at 0x0000019DCEE4EDD0>"
      ]
     },
     "execution_count": 104,
     "metadata": {},
     "output_type": "execute_result"
    }
   ],
   "source": [
    "bigrm = nltk.bigrams(all_words[0][:10])\n",
    "bigrm"
   ]
  },
  {
   "cell_type": "code",
   "execution_count": 86,
   "metadata": {},
   "outputs": [
    {
     "name": "stdout",
     "output_type": "stream",
     "text": [
      "naturally film, film main, main themes, themes mortality, mortality nostalgia, nostalgia loss, loss innocence, innocence perhaps, perhaps surprising\n"
     ]
    }
   ],
   "source": [
    "print(*map(' '.join, bigrm), sep=', ')"
   ]
  },
  {
   "cell_type": "code",
   "execution_count": 71,
   "metadata": {},
   "outputs": [],
   "source": [
    "word2vec = Word2Vec(all_words, min_count=5)"
   ]
  },
  {
   "cell_type": "code",
   "execution_count": 39,
   "metadata": {},
   "outputs": [
    {
     "data": {
      "text/plain": [
       "<gensim.models.word2vec.Word2Vec at 0x19daed34dc0>"
      ]
     },
     "execution_count": 39,
     "metadata": {},
     "output_type": "execute_result"
    }
   ],
   "source": [
    "word2vec"
   ]
  },
  {
   "cell_type": "code",
   "execution_count": 68,
   "metadata": {},
   "outputs": [],
   "source": [
    "vocabulary = word2vec.wv.key_to_index"
   ]
  },
  {
   "cell_type": "code",
   "execution_count": 64,
   "metadata": {},
   "outputs": [
    {
     "data": {
      "text/plain": [
       "array([ 2.58842558e-01, -8.44656348e-01, -4.87949133e-01, -9.40350354e-01,\n",
       "        2.66864657e-01,  2.94531137e-02, -1.73610330e+00, -5.67825079e-01,\n",
       "        8.08339417e-01, -1.69808459e+00,  1.03057063e+00,  9.62835923e-03,\n",
       "       -2.43424967e-01, -4.38597918e-01, -6.84791803e-01,  1.76150572e+00,\n",
       "        8.65396798e-01,  1.86191440e+00, -1.70171249e+00,  2.79220670e-01,\n",
       "       -3.38357627e-01, -2.32526157e-02,  2.17913091e-01, -4.84722517e-02,\n",
       "        1.33072913e+00, -9.22531426e-01,  9.30391371e-01,  1.24785292e+00,\n",
       "        2.34947711e-01,  1.45575678e+00,  6.19320333e-01, -7.44338453e-01,\n",
       "       -2.53127009e-01, -1.18179643e+00, -2.42393002e-01,  4.00296271e-01,\n",
       "        1.19838119e+00,  7.86305845e-01,  1.48067081e+00,  2.49931979e+00,\n",
       "        1.02869177e+00, -1.41337092e-04, -1.42204297e+00, -5.92005849e-01,\n",
       "       -1.19590126e-01,  3.18989754e-01,  1.60031188e+00, -2.38928959e-01,\n",
       "        4.66436893e-01,  4.89191979e-01,  7.68740416e-01,  6.45394504e-01,\n",
       "        1.87487364e-01,  4.32365686e-01, -5.53805888e-01,  7.96083748e-01,\n",
       "        1.11906993e+00,  6.08766496e-01,  3.10447663e-01,  1.37458670e+00,\n",
       "       -1.69853902e+00, -8.70480537e-01, -5.69730960e-02, -1.19265854e+00,\n",
       "        8.82604361e-01,  9.96111333e-01,  8.45334649e-01, -4.08787392e-02,\n",
       "        2.84919068e-02,  1.55482590e-01,  6.49539709e-01,  2.55193245e-02,\n",
       "        7.67680585e-01,  1.06132376e+00,  1.09648442e+00, -3.56962860e-01,\n",
       "        9.48056757e-01,  4.28080738e-01,  1.32337320e+00, -8.66624832e-01,\n",
       "        9.72862840e-02, -7.80416191e-01, -8.69413987e-02, -6.65369153e-01,\n",
       "       -1.04461575e+00, -3.95922452e-01,  2.06669793e-02, -1.64902902e+00,\n",
       "       -1.75101042e-01, -6.57643676e-01,  8.06280851e-01, -2.99229771e-01,\n",
       "        9.91893634e-02, -2.08957195e+00, -8.72374415e-01, -6.12708151e-01,\n",
       "       -4.79826927e-01,  9.06530380e-01, -1.17541742e+00, -7.02109516e-01],\n",
       "      dtype=float32)"
      ]
     },
     "execution_count": 64,
     "metadata": {},
     "output_type": "execute_result"
    }
   ],
   "source": [
    "v1 = word2vec.wv['movie']\n",
    "v1"
   ]
  },
  {
   "cell_type": "code",
   "execution_count": 65,
   "metadata": {},
   "outputs": [
    {
     "data": {
      "text/plain": [
       "(100,)"
      ]
     },
     "execution_count": 65,
     "metadata": {},
     "output_type": "execute_result"
    }
   ],
   "source": [
    "v1.shape"
   ]
  },
  {
   "cell_type": "code",
   "execution_count": 69,
   "metadata": {},
   "outputs": [
    {
     "data": {
      "text/plain": [
       "3980"
      ]
     },
     "execution_count": 69,
     "metadata": {},
     "output_type": "execute_result"
    }
   ],
   "source": [
    "len(vocabulary)"
   ]
  },
  {
   "cell_type": "markdown",
   "metadata": {},
   "source": [
    "## Word2Vec with bigrams"
   ]
  },
  {
   "cell_type": "code",
   "execution_count": 119,
   "metadata": {},
   "outputs": [],
   "source": [
    "sentences = all_data.cleaned_review.values"
   ]
  },
  {
   "cell_type": "code",
   "execution_count": 120,
   "metadata": {},
   "outputs": [
    {
     "data": {
      "text/plain": [
       "<gensim.models.phrases.Phrases at 0x19daed0bfa0>"
      ]
     },
     "execution_count": 120,
     "metadata": {},
     "output_type": "execute_result"
    }
   ],
   "source": [
    "bigrams = phrases.Phrases(sentences)\n",
    "bigrams"
   ]
  },
  {
   "cell_type": "code",
   "execution_count": 129,
   "metadata": {},
   "outputs": [
    {
     "data": {
      "text/plain": [
       "['naturally',\n",
       " 'film',\n",
       " 'main',\n",
       " 'themes',\n",
       " 'mortality',\n",
       " 'nostalgia',\n",
       " 'loss_innocence',\n",
       " 'perhaps',\n",
       " 'surprising',\n",
       " 'rated',\n",
       " 'highly',\n",
       " 'older',\n",
       " 'viewers',\n",
       " 'younger',\n",
       " 'ones',\n",
       " 'however',\n",
       " 'craftsmanship',\n",
       " 'completeness',\n",
       " 'film',\n",
       " 'anyone',\n",
       " 'enjoy',\n",
       " 'pace',\n",
       " 'steady']"
      ]
     },
     "execution_count": 129,
     "metadata": {},
     "output_type": "execute_result"
    }
   ],
   "source": [
    "bigrams[['naturally', 'film', 'main', 'themes', 'mortality', 'nostalgia', 'loss', 'innocence', 'perhaps', 'surprising', 'rated', 'highly', 'older', 'viewers', 'younger', 'ones', 'however', 'craftsmanship', 'completeness', 'film', 'anyone', 'enjoy', 'pace', 'steady',]]"
   ]
  },
  {
   "cell_type": "code",
   "execution_count": 125,
   "metadata": {},
   "outputs": [
    {
     "data": {
      "text/plain": [
       "<gensim.interfaces.TransformedCorpus at 0x19db17a82b0>"
      ]
     },
     "execution_count": 125,
     "metadata": {},
     "output_type": "execute_result"
    }
   ],
   "source": [
    "bigrams[sentences]"
   ]
  },
  {
   "cell_type": "code",
   "execution_count": 132,
   "metadata": {},
   "outputs": [],
   "source": [
    "model = word2vec.Word2Vec(bigrams[sentences], vector_size=100, min_count=3, epochs=20)"
   ]
  },
  {
   "cell_type": "code",
   "execution_count": 135,
   "metadata": {},
   "outputs": [
    {
     "data": {
      "text/plain": [
       "array([ 5.37660159e-03, -8.57379511e-02,  6.35730252e-02,  1.62193105e-01,\n",
       "        3.37795392e-02, -6.01991825e-02,  1.23458862e-01,  3.47664893e-01,\n",
       "       -9.27663371e-02, -7.73753300e-02, -2.42833290e-02, -3.86093259e-01,\n",
       "       -7.90659413e-02,  1.62538126e-01,  2.34253898e-01, -1.92788355e-02,\n",
       "        1.72935933e-01, -1.56283662e-01,  2.18619213e-01, -1.04504645e-01,\n",
       "       -9.53197032e-02,  1.93334520e-01, -4.25904244e-02, -8.82215984e-03,\n",
       "       -1.24667129e-02,  1.01535149e-01, -1.56986743e-01,  7.17929751e-02,\n",
       "       -1.48863658e-01, -1.62518993e-02,  1.55176684e-01, -1.49309352e-01,\n",
       "       -8.78539868e-03,  1.57659844e-01, -7.51879141e-02,  1.35555938e-01,\n",
       "        1.68770030e-02, -1.20194942e-01, -4.70548496e-02, -2.23582044e-01,\n",
       "       -1.36638477e-01, -3.17560643e-01, -9.11593363e-02,  3.37484271e-05,\n",
       "       -3.69241178e-01, -9.99980420e-02, -1.96253359e-01,  2.30477914e-01,\n",
       "        3.34470309e-02,  2.45604709e-01, -1.20367922e-01,  1.44190669e-01,\n",
       "       -1.47528257e-02, -6.31921738e-02, -1.23862319e-01, -1.42228547e-02,\n",
       "        1.92606717e-01, -7.98744485e-02, -6.55789748e-02,  1.39631420e-01,\n",
       "       -3.12978745e-01,  5.17657660e-02, -3.30891490e-01, -9.11666602e-02,\n",
       "       -1.80701628e-01,  1.00592198e-02,  2.43822888e-01, -8.72434825e-02,\n",
       "       -1.24172561e-01,  3.36110204e-01,  4.28257808e-02,  3.83267254e-01,\n",
       "       -4.24038470e-02, -5.39221689e-02, -1.26256779e-01,  1.94254503e-01,\n",
       "        2.63390869e-01, -8.54336992e-02, -4.33944426e-02,  8.51353183e-02,\n",
       "       -3.46003234e-01,  4.57957573e-03, -1.30109964e-02,  1.45023286e-01,\n",
       "        9.81665477e-02, -1.29473759e-02, -2.06028596e-01, -1.17525317e-01,\n",
       "        4.34799820e-01,  2.77207404e-01, -6.95750937e-02,  8.49406347e-02,\n",
       "        2.80960128e-02,  2.89127082e-01,  3.49025398e-01,  8.47400911e-03,\n",
       "        1.22823671e-01,  2.19403401e-01,  1.33636236e-01,  9.29388776e-02],\n",
       "      dtype=float32)"
      ]
     },
     "execution_count": 135,
     "metadata": {},
     "output_type": "execute_result"
    }
   ],
   "source": [
    "model.wv['loss_innocence']"
   ]
  },
  {
   "cell_type": "code",
   "execution_count": 136,
   "metadata": {},
   "outputs": [
    {
     "data": {
      "text/plain": [
       "[('subconcious', 0.6709465980529785),\n",
       " ('deterministic', 0.6427459120750427),\n",
       " ('rapprochement', 0.6254874467849731),\n",
       " ('aparna', 0.623039960861206),\n",
       " ('reawakening', 0.6219013929367065),\n",
       " ('strange_mix', 0.6216766238212585),\n",
       " ('unflinchingly', 0.6196311116218567),\n",
       " ('exerts', 0.6152264475822449),\n",
       " ('existentially', 0.6143515110015869),\n",
       " ('soviet_system', 0.614152193069458)]"
      ]
     },
     "execution_count": 136,
     "metadata": {},
     "output_type": "execute_result"
    }
   ],
   "source": [
    "model.wv.most_similar('loss_innocence')"
   ]
  },
  {
   "cell_type": "code",
   "execution_count": 139,
   "metadata": {},
   "outputs": [],
   "source": [
    "vocab = list(model.wv.index_to_key)\n",
    "X = model.wv[vocab]"
   ]
  },
  {
   "cell_type": "code",
   "execution_count": 140,
   "metadata": {},
   "outputs": [
    {
     "data": {
      "text/plain": [
       "array([[ 0.34588757, -0.13784072,  0.3516177 , ..., -0.14984451,\n",
       "        -0.985363  ,  0.572493  ],\n",
       "       [ 0.88112056, -0.04749514,  0.82115066, ..., -0.13122466,\n",
       "        -0.6226288 ,  0.19617105],\n",
       "       [ 0.23205109, -0.17073591,  0.01956977, ...,  0.94357175,\n",
       "         0.08438815,  0.8226908 ],\n",
       "       ...,\n",
       "       [-0.10137186,  0.18437567,  0.08153899, ...,  0.05575505,\n",
       "         0.03798603,  0.05178391],\n",
       "       [-0.02015647,  0.13580744, -0.02591041, ..., -0.07198381,\n",
       "        -0.11067206,  0.0127128 ],\n",
       "       [ 0.09242156,  0.16810435,  0.17125428, ...,  0.0097965 ,\n",
       "        -0.11631382,  0.18879065]], dtype=float32)"
      ]
     },
     "execution_count": 140,
     "metadata": {},
     "output_type": "execute_result"
    }
   ],
   "source": [
    "X"
   ]
  },
  {
   "cell_type": "code",
   "execution_count": 151,
   "metadata": {},
   "outputs": [],
   "source": [
    "df_w2v = pd.DataFrame(X.T, columns=model.wv.key_to_index.keys())"
   ]
  },
  {
   "cell_type": "code",
   "execution_count": 154,
   "metadata": {},
   "outputs": [
    {
     "data": {
      "text/html": [
       "<div>\n",
       "<style scoped>\n",
       "    .dataframe tbody tr th:only-of-type {\n",
       "        vertical-align: middle;\n",
       "    }\n",
       "\n",
       "    .dataframe tbody tr th {\n",
       "        vertical-align: top;\n",
       "    }\n",
       "\n",
       "    .dataframe thead th {\n",
       "        text-align: right;\n",
       "    }\n",
       "</style>\n",
       "<table border=\"1\" class=\"dataframe\">\n",
       "  <thead>\n",
       "    <tr style=\"text-align: right;\">\n",
       "      <th></th>\n",
       "      <th>br</th>\n",
       "      <th>movie</th>\n",
       "      <th>film</th>\n",
       "      <th>one</th>\n",
       "      <th>like</th>\n",
       "      <th>good</th>\n",
       "      <th>would</th>\n",
       "      <th>really</th>\n",
       "      <th>even</th>\n",
       "      <th>story</th>\n",
       "      <th>...</th>\n",
       "      <th>queda</th>\n",
       "      <th>rublev</th>\n",
       "      <th>makeout</th>\n",
       "      <th>relaying</th>\n",
       "      <th>inferences</th>\n",
       "      <th>tinkers</th>\n",
       "      <th>illuminator</th>\n",
       "      <th>reordered</th>\n",
       "      <th>tomita</th>\n",
       "      <th>traucki</th>\n",
       "    </tr>\n",
       "  </thead>\n",
       "  <tbody>\n",
       "    <tr>\n",
       "      <th>0</th>\n",
       "      <td>0.345888</td>\n",
       "      <td>0.881121</td>\n",
       "      <td>0.232051</td>\n",
       "      <td>0.072272</td>\n",
       "      <td>-0.618730</td>\n",
       "      <td>1.894272</td>\n",
       "      <td>1.160177</td>\n",
       "      <td>-0.078930</td>\n",
       "      <td>-0.008755</td>\n",
       "      <td>-2.239979</td>\n",
       "      <td>...</td>\n",
       "      <td>0.049745</td>\n",
       "      <td>-0.152769</td>\n",
       "      <td>0.107440</td>\n",
       "      <td>-0.185487</td>\n",
       "      <td>-0.068092</td>\n",
       "      <td>-0.044934</td>\n",
       "      <td>-0.347761</td>\n",
       "      <td>-0.101372</td>\n",
       "      <td>-0.020156</td>\n",
       "      <td>0.092422</td>\n",
       "    </tr>\n",
       "    <tr>\n",
       "      <th>1</th>\n",
       "      <td>-0.137841</td>\n",
       "      <td>-0.047495</td>\n",
       "      <td>-0.170736</td>\n",
       "      <td>-1.229624</td>\n",
       "      <td>0.000480</td>\n",
       "      <td>-0.179907</td>\n",
       "      <td>0.280765</td>\n",
       "      <td>-1.468865</td>\n",
       "      <td>0.316579</td>\n",
       "      <td>-0.813594</td>\n",
       "      <td>...</td>\n",
       "      <td>0.013332</td>\n",
       "      <td>-0.003325</td>\n",
       "      <td>-0.062973</td>\n",
       "      <td>0.363580</td>\n",
       "      <td>0.309466</td>\n",
       "      <td>0.163270</td>\n",
       "      <td>0.314801</td>\n",
       "      <td>0.184376</td>\n",
       "      <td>0.135807</td>\n",
       "      <td>0.168104</td>\n",
       "    </tr>\n",
       "    <tr>\n",
       "      <th>2</th>\n",
       "      <td>0.351618</td>\n",
       "      <td>0.821151</td>\n",
       "      <td>0.019570</td>\n",
       "      <td>1.020501</td>\n",
       "      <td>0.309054</td>\n",
       "      <td>1.049431</td>\n",
       "      <td>-1.320499</td>\n",
       "      <td>-0.546082</td>\n",
       "      <td>2.069016</td>\n",
       "      <td>-0.257063</td>\n",
       "      <td>...</td>\n",
       "      <td>0.016581</td>\n",
       "      <td>-0.091434</td>\n",
       "      <td>0.003126</td>\n",
       "      <td>0.110773</td>\n",
       "      <td>0.139314</td>\n",
       "      <td>-0.009184</td>\n",
       "      <td>0.048474</td>\n",
       "      <td>0.081539</td>\n",
       "      <td>-0.025910</td>\n",
       "      <td>0.171254</td>\n",
       "    </tr>\n",
       "    <tr>\n",
       "      <th>3</th>\n",
       "      <td>0.748901</td>\n",
       "      <td>0.932653</td>\n",
       "      <td>1.746379</td>\n",
       "      <td>1.116530</td>\n",
       "      <td>-0.374804</td>\n",
       "      <td>-1.063346</td>\n",
       "      <td>-0.135112</td>\n",
       "      <td>1.897010</td>\n",
       "      <td>1.014469</td>\n",
       "      <td>0.582943</td>\n",
       "      <td>...</td>\n",
       "      <td>-0.207589</td>\n",
       "      <td>-0.005667</td>\n",
       "      <td>-0.008189</td>\n",
       "      <td>-0.023161</td>\n",
       "      <td>0.011037</td>\n",
       "      <td>-0.082577</td>\n",
       "      <td>-0.072124</td>\n",
       "      <td>-0.002459</td>\n",
       "      <td>0.021552</td>\n",
       "      <td>0.021528</td>\n",
       "    </tr>\n",
       "    <tr>\n",
       "      <th>4</th>\n",
       "      <td>-1.424866</td>\n",
       "      <td>-1.942473</td>\n",
       "      <td>-0.669128</td>\n",
       "      <td>-0.462013</td>\n",
       "      <td>-0.579122</td>\n",
       "      <td>-1.413390</td>\n",
       "      <td>-0.914526</td>\n",
       "      <td>-2.027225</td>\n",
       "      <td>-0.490768</td>\n",
       "      <td>0.593418</td>\n",
       "      <td>...</td>\n",
       "      <td>0.155161</td>\n",
       "      <td>0.160144</td>\n",
       "      <td>0.021075</td>\n",
       "      <td>-0.028800</td>\n",
       "      <td>0.071013</td>\n",
       "      <td>0.035417</td>\n",
       "      <td>0.174935</td>\n",
       "      <td>0.040814</td>\n",
       "      <td>-0.040118</td>\n",
       "      <td>0.191040</td>\n",
       "    </tr>\n",
       "    <tr>\n",
       "      <th>...</th>\n",
       "      <td>...</td>\n",
       "      <td>...</td>\n",
       "      <td>...</td>\n",
       "      <td>...</td>\n",
       "      <td>...</td>\n",
       "      <td>...</td>\n",
       "      <td>...</td>\n",
       "      <td>...</td>\n",
       "      <td>...</td>\n",
       "      <td>...</td>\n",
       "      <td>...</td>\n",
       "      <td>...</td>\n",
       "      <td>...</td>\n",
       "      <td>...</td>\n",
       "      <td>...</td>\n",
       "      <td>...</td>\n",
       "      <td>...</td>\n",
       "      <td>...</td>\n",
       "      <td>...</td>\n",
       "      <td>...</td>\n",
       "      <td>...</td>\n",
       "    </tr>\n",
       "    <tr>\n",
       "      <th>95</th>\n",
       "      <td>0.756467</td>\n",
       "      <td>2.386793</td>\n",
       "      <td>2.001266</td>\n",
       "      <td>0.407688</td>\n",
       "      <td>-0.217027</td>\n",
       "      <td>0.298984</td>\n",
       "      <td>-0.706981</td>\n",
       "      <td>0.891169</td>\n",
       "      <td>0.679566</td>\n",
       "      <td>0.115251</td>\n",
       "      <td>...</td>\n",
       "      <td>-0.022692</td>\n",
       "      <td>-0.021079</td>\n",
       "      <td>0.345664</td>\n",
       "      <td>0.098786</td>\n",
       "      <td>0.319348</td>\n",
       "      <td>-0.016899</td>\n",
       "      <td>0.117044</td>\n",
       "      <td>0.083105</td>\n",
       "      <td>0.098318</td>\n",
       "      <td>0.107077</td>\n",
       "    </tr>\n",
       "    <tr>\n",
       "      <th>96</th>\n",
       "      <td>-1.557095</td>\n",
       "      <td>0.182611</td>\n",
       "      <td>0.296508</td>\n",
       "      <td>-0.020327</td>\n",
       "      <td>0.277769</td>\n",
       "      <td>-1.333994</td>\n",
       "      <td>-0.433009</td>\n",
       "      <td>-1.227534</td>\n",
       "      <td>-2.411454</td>\n",
       "      <td>-3.313325</td>\n",
       "      <td>...</td>\n",
       "      <td>0.206739</td>\n",
       "      <td>0.063443</td>\n",
       "      <td>0.138058</td>\n",
       "      <td>0.107660</td>\n",
       "      <td>0.107969</td>\n",
       "      <td>0.199314</td>\n",
       "      <td>0.248007</td>\n",
       "      <td>0.096689</td>\n",
       "      <td>-0.029855</td>\n",
       "      <td>-0.222777</td>\n",
       "    </tr>\n",
       "    <tr>\n",
       "      <th>97</th>\n",
       "      <td>-0.149845</td>\n",
       "      <td>-0.131225</td>\n",
       "      <td>0.943572</td>\n",
       "      <td>-0.095375</td>\n",
       "      <td>-0.173398</td>\n",
       "      <td>-0.143985</td>\n",
       "      <td>1.269788</td>\n",
       "      <td>-1.264884</td>\n",
       "      <td>1.062550</td>\n",
       "      <td>2.766558</td>\n",
       "      <td>...</td>\n",
       "      <td>0.003777</td>\n",
       "      <td>-0.081415</td>\n",
       "      <td>-0.027233</td>\n",
       "      <td>-0.154641</td>\n",
       "      <td>-0.046565</td>\n",
       "      <td>0.067991</td>\n",
       "      <td>-0.135598</td>\n",
       "      <td>0.055755</td>\n",
       "      <td>-0.071984</td>\n",
       "      <td>0.009797</td>\n",
       "    </tr>\n",
       "    <tr>\n",
       "      <th>98</th>\n",
       "      <td>-0.985363</td>\n",
       "      <td>-0.622629</td>\n",
       "      <td>0.084388</td>\n",
       "      <td>-1.199188</td>\n",
       "      <td>-1.698345</td>\n",
       "      <td>-0.915986</td>\n",
       "      <td>-0.666674</td>\n",
       "      <td>1.206713</td>\n",
       "      <td>0.592227</td>\n",
       "      <td>1.158394</td>\n",
       "      <td>...</td>\n",
       "      <td>-0.194797</td>\n",
       "      <td>0.040775</td>\n",
       "      <td>-0.055360</td>\n",
       "      <td>-0.114466</td>\n",
       "      <td>0.095046</td>\n",
       "      <td>-0.114042</td>\n",
       "      <td>0.134349</td>\n",
       "      <td>0.037986</td>\n",
       "      <td>-0.110672</td>\n",
       "      <td>-0.116314</td>\n",
       "    </tr>\n",
       "    <tr>\n",
       "      <th>99</th>\n",
       "      <td>0.572493</td>\n",
       "      <td>0.196171</td>\n",
       "      <td>0.822691</td>\n",
       "      <td>-0.363929</td>\n",
       "      <td>-0.050594</td>\n",
       "      <td>1.131723</td>\n",
       "      <td>0.913899</td>\n",
       "      <td>1.569261</td>\n",
       "      <td>-1.723198</td>\n",
       "      <td>-0.127318</td>\n",
       "      <td>...</td>\n",
       "      <td>0.051514</td>\n",
       "      <td>0.043274</td>\n",
       "      <td>-0.111141</td>\n",
       "      <td>0.035053</td>\n",
       "      <td>0.206390</td>\n",
       "      <td>0.096347</td>\n",
       "      <td>0.082898</td>\n",
       "      <td>0.051784</td>\n",
       "      <td>0.012713</td>\n",
       "      <td>0.188791</td>\n",
       "    </tr>\n",
       "  </tbody>\n",
       "</table>\n",
       "<p>100 rows × 71864 columns</p>\n",
       "</div>"
      ],
      "text/plain": [
       "          br     movie      film       one      like      good     would  \\\n",
       "0   0.345888  0.881121  0.232051  0.072272 -0.618730  1.894272  1.160177   \n",
       "1  -0.137841 -0.047495 -0.170736 -1.229624  0.000480 -0.179907  0.280765   \n",
       "2   0.351618  0.821151  0.019570  1.020501  0.309054  1.049431 -1.320499   \n",
       "3   0.748901  0.932653  1.746379  1.116530 -0.374804 -1.063346 -0.135112   \n",
       "4  -1.424866 -1.942473 -0.669128 -0.462013 -0.579122 -1.413390 -0.914526   \n",
       "..       ...       ...       ...       ...       ...       ...       ...   \n",
       "95  0.756467  2.386793  2.001266  0.407688 -0.217027  0.298984 -0.706981   \n",
       "96 -1.557095  0.182611  0.296508 -0.020327  0.277769 -1.333994 -0.433009   \n",
       "97 -0.149845 -0.131225  0.943572 -0.095375 -0.173398 -0.143985  1.269788   \n",
       "98 -0.985363 -0.622629  0.084388 -1.199188 -1.698345 -0.915986 -0.666674   \n",
       "99  0.572493  0.196171  0.822691 -0.363929 -0.050594  1.131723  0.913899   \n",
       "\n",
       "      really      even     story  ...     queda    rublev   makeout  relaying  \\\n",
       "0  -0.078930 -0.008755 -2.239979  ...  0.049745 -0.152769  0.107440 -0.185487   \n",
       "1  -1.468865  0.316579 -0.813594  ...  0.013332 -0.003325 -0.062973  0.363580   \n",
       "2  -0.546082  2.069016 -0.257063  ...  0.016581 -0.091434  0.003126  0.110773   \n",
       "3   1.897010  1.014469  0.582943  ... -0.207589 -0.005667 -0.008189 -0.023161   \n",
       "4  -2.027225 -0.490768  0.593418  ...  0.155161  0.160144  0.021075 -0.028800   \n",
       "..       ...       ...       ...  ...       ...       ...       ...       ...   \n",
       "95  0.891169  0.679566  0.115251  ... -0.022692 -0.021079  0.345664  0.098786   \n",
       "96 -1.227534 -2.411454 -3.313325  ...  0.206739  0.063443  0.138058  0.107660   \n",
       "97 -1.264884  1.062550  2.766558  ...  0.003777 -0.081415 -0.027233 -0.154641   \n",
       "98  1.206713  0.592227  1.158394  ... -0.194797  0.040775 -0.055360 -0.114466   \n",
       "99  1.569261 -1.723198 -0.127318  ...  0.051514  0.043274 -0.111141  0.035053   \n",
       "\n",
       "    inferences   tinkers  illuminator  reordered    tomita   traucki  \n",
       "0    -0.068092 -0.044934    -0.347761  -0.101372 -0.020156  0.092422  \n",
       "1     0.309466  0.163270     0.314801   0.184376  0.135807  0.168104  \n",
       "2     0.139314 -0.009184     0.048474   0.081539 -0.025910  0.171254  \n",
       "3     0.011037 -0.082577    -0.072124  -0.002459  0.021552  0.021528  \n",
       "4     0.071013  0.035417     0.174935   0.040814 -0.040118  0.191040  \n",
       "..         ...       ...          ...        ...       ...       ...  \n",
       "95    0.319348 -0.016899     0.117044   0.083105  0.098318  0.107077  \n",
       "96    0.107969  0.199314     0.248007   0.096689 -0.029855 -0.222777  \n",
       "97   -0.046565  0.067991    -0.135598   0.055755 -0.071984  0.009797  \n",
       "98    0.095046 -0.114042     0.134349   0.037986 -0.110672 -0.116314  \n",
       "99    0.206390  0.096347     0.082898   0.051784  0.012713  0.188791  \n",
       "\n",
       "[100 rows x 71864 columns]"
      ]
     },
     "execution_count": 154,
     "metadata": {},
     "output_type": "execute_result"
    }
   ],
   "source": [
    "df_w2v"
   ]
  },
  {
   "cell_type": "code",
   "execution_count": 150,
   "metadata": {},
   "outputs": [
    {
     "data": {
      "text/plain": [
       "(100, 71864)"
      ]
     },
     "execution_count": 150,
     "metadata": {},
     "output_type": "execute_result"
    }
   ],
   "source": [
    "X.T.shape"
   ]
  }
 ],
 "metadata": {
  "kernelspec": {
   "display_name": "Python 3",
   "language": "python",
   "name": "python3"
  },
  "language_info": {
   "codemirror_mode": {
    "name": "ipython",
    "version": 3
   },
   "file_extension": ".py",
   "mimetype": "text/x-python",
   "name": "python",
   "nbconvert_exporter": "python",
   "pygments_lexer": "ipython3",
   "version": "3.8.5"
  }
 },
 "nbformat": 4,
 "nbformat_minor": 4
}
