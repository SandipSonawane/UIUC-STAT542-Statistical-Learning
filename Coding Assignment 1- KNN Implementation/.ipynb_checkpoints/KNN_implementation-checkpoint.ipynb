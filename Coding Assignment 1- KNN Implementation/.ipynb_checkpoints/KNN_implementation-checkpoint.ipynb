{
 "cells": [
  {
   "cell_type": "markdown",
   "metadata": {},
   "source": [
    "## Data Generation\n",
    "\n",
    "This assignment is related to the simulation study described in Section 2.3.1 (the so-called Scenario 2) of \"Elements of Statistical Learning\" (ESL).\n",
    "\n",
    "**Scenario 2**: the two-dimensional data $X \\in R^2$ in each class is generated from a mixture of 10 different bivariate Gaussian distributions with uncorrelated components and different means, i.e.,\n",
    "$ X \\ | \\ Y = k, Z = j \\quad \\sim \\mathcal{N}(\\mathbf{m}_{kj}, s^2 I_2) $"
   ]
  },
  {
   "cell_type": "markdown",
   "metadata": {},
   "source": [
    "where $k = 0$ or $1$, and $j=1, 2, \\dots, 10$. Set\n",
    "$P(Y=k) = 1/2, \\quad P(Z=j) = 1/10, \\quad s^2 = 1/5.\n",
    "$"
   ]
  },
  {
   "cell_type": "markdown",
   "metadata": {},
   "source": [
    "In other words, given $Y=k$, $X$ follows a mixture distribution with density function\n",
    "\n",
    "$\\frac{1}{10}  \\sum_{j=1}^{10} \\left ( \\frac{1}{\\sqrt{2 \\pi s^2}} \\right )^2  e^{ -\\|\\mathbf{x} - \\mathbf{m}_{kj} \\|^2/(2 s^2)}.\n",
    "$"
   ]
  },
  {
   "cell_type": "markdown",
   "metadata": {},
   "source": [
    "#### Generate Centers\n",
    "\n",
    "Generate the 10 centers associated with class 1 from one normal distribution and the 10 centers associated with class 0 from another normal distribution as follows:\n",
    "$\\mathbf{m}_{1j} \\sim \\mathcal{N} \\Big ( \\left ( \\begin{array}{c} 1 \\\\ 0 \\end{array} \\right ), \\mathbf{I}_2 \\Big ), \\quad \\mathbf{m}_{0j} \\sim \\mathcal{N} \\Big ( \\left ( \\begin{array}{c} 0 \\\\ 1 \\end{array} \\right ), \\mathbf{I}_2 \\Big ).\n",
    "$"
   ]
  },
  {
   "cell_type": "code",
   "execution_count": null,
   "metadata": {},
   "outputs": [],
   "source": []
  },
  {
   "cell_type": "code",
   "execution_count": null,
   "metadata": {},
   "outputs": [],
   "source": []
  },
  {
   "cell_type": "code",
   "execution_count": null,
   "metadata": {},
   "outputs": [],
   "source": []
  },
  {
   "cell_type": "code",
   "execution_count": null,
   "metadata": {},
   "outputs": [],
   "source": []
  },
  {
   "cell_type": "code",
   "execution_count": null,
   "metadata": {},
   "outputs": [],
   "source": []
  },
  {
   "cell_type": "code",
   "execution_count": null,
   "metadata": {},
   "outputs": [],
   "source": []
  },
  {
   "cell_type": "code",
   "execution_count": null,
   "metadata": {},
   "outputs": [],
   "source": []
  },
  {
   "cell_type": "code",
   "execution_count": null,
   "metadata": {},
   "outputs": [],
   "source": []
  },
  {
   "cell_type": "code",
   "execution_count": null,
   "metadata": {},
   "outputs": [],
   "source": []
  },
  {
   "cell_type": "code",
   "execution_count": null,
   "metadata": {},
   "outputs": [],
   "source": []
  },
  {
   "cell_type": "code",
   "execution_count": null,
   "metadata": {},
   "outputs": [],
   "source": []
  },
  {
   "cell_type": "code",
   "execution_count": null,
   "metadata": {},
   "outputs": [],
   "source": []
  }
 ],
 "metadata": {
  "kernelspec": {
   "display_name": "Python 3",
   "language": "python",
   "name": "python3"
  },
  "language_info": {
   "codemirror_mode": {
    "name": "ipython",
    "version": 3
   },
   "file_extension": ".py",
   "mimetype": "text/x-python",
   "name": "python",
   "nbconvert_exporter": "python",
   "pygments_lexer": "ipython3",
   "version": "3.8.5"
  }
 },
 "nbformat": 4,
 "nbformat_minor": 4
}
