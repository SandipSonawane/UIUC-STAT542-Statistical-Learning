{
 "cells": [
  {
   "cell_type": "markdown",
   "metadata": {},
   "source": [
    "## Part II Simulation Study\n",
    "\n",
    "\n",
    "#### [Part II 1. Linear Regression Full Model](#part2_1)\n",
    "#### [Part II 2. Ridge Regression with $\\lambda_{min}$ and $\\lambda_{1se}$](#part2_2)\n",
    "#### [Part II 3. Lasso Regression with $\\lambda_{min}$ and $\\lambda_{1se}$](#part2_3)\n",
    "#### [Part II 4. Refit using Lasso $\\lambda_{1se}$](#part2_4)\n",
    "#### [Part II 5. Principle Component Regression with 10-fold cross validation](#part2_5)\n",
    "#### [Part II 6. Simulation on BostonData2.csv](#part2_6)\n",
    "#### [Part II 7. Simulation on BostonData3.csv](#part2_7)"
   ]
  },
  {
   "cell_type": "code",
   "execution_count": 7,
   "metadata": {},
   "outputs": [],
   "source": [
    "#### [Part II 1. Linear Regression Full Model](#part2_1)\n",
    "#### [Part II 2. Ridge Regression with $\\lambda_{min}$ and $\\lambda_{1se}$](#part2_2)\n",
    "#### [Part II 3. Lasso Regression with $\\lambda_{min}$ and $\\lambda_{1se}$](#part2_3)\n",
    "#### [Part II 4. Refit using Lasso $\\lambda_{1se}$](#part2_4)\n",
    "#### [Part II 5. Principle Component Regression with 10-fold cross validation](#part2_5)\n",
    "#### [Part II 6. Simulation on BostonData2.csv](#part2_6)\n",
    "#### [Part II 7. Simulation on BostonData3.csv](#part2_7)"
   ]
  },
  {
   "cell_type": "markdown",
   "metadata": {},
   "source": [
    "### Install glmnet for python"
   ]
  },
  {
   "cell_type": "code",
   "execution_count": 1,
   "metadata": {},
   "outputs": [
    {
     "name": "stdout",
     "output_type": "stream",
     "text": [
      "Collecting glmnet_py\n",
      "  Downloading glmnet_py-0.1.0b2-py2.py3-none-any.whl (378 kB)\n",
      "Requirement already satisfied: joblib>=0.10.3 in c:\\users\\sandi\\anaconda3\\lib\\site-packages (from glmnet_py) (0.17.0)\n",
      "Installing collected packages: glmnet-py\n",
      "Successfully installed glmnet-py-0.1.0b2\n"
     ]
    }
   ],
   "source": [
    "!pip install glmnet_py"
   ]
  },
  {
   "cell_type": "markdown",
   "metadata": {},
   "source": [
    "### Load Data"
   ]
  },
  {
   "cell_type": "code",
   "execution_count": 33,
   "metadata": {},
   "outputs": [],
   "source": [
    "import glmnet_python\n",
    "from glmnet import glmnet\n",
    "import pandas as pd\n",
    "import numpy as np\n",
    "from sklearn import linear_model as lm\n",
    "from sklearn.linear_model import LinearRegression\n",
    "\n",
    "\n",
    "import sys\n",
    "sys.path.append('../test')\n",
    "sys.path.append('../lib')\n",
    "import scipy, importlib, pprint, matplotlib.pyplot as plt, warnings\n",
    "from glmnet import glmnet; from glmnetPlot import glmnetPlot\n",
    "from glmnetPrint import glmnetPrint; from glmnetCoef import glmnetCoef; from glmnetPredict import glmnetPredict\n",
    "from cvglmnet import cvglmnet; from cvglmnetCoef import cvglmnetCoef\n",
    "from cvglmnetPlot import cvglmnetPlot; from cvglmnetPredict import cvglmnetPredict"
   ]
  },
  {
   "cell_type": "code",
   "execution_count": 14,
   "metadata": {},
   "outputs": [
    {
     "data": {
      "text/html": [
       "<div>\n",
       "<style scoped>\n",
       "    .dataframe tbody tr th:only-of-type {\n",
       "        vertical-align: middle;\n",
       "    }\n",
       "\n",
       "    .dataframe tbody tr th {\n",
       "        vertical-align: top;\n",
       "    }\n",
       "\n",
       "    .dataframe thead th {\n",
       "        text-align: right;\n",
       "    }\n",
       "</style>\n",
       "<table border=\"1\" class=\"dataframe\">\n",
       "  <thead>\n",
       "    <tr style=\"text-align: right;\">\n",
       "      <th></th>\n",
       "      <th>Y</th>\n",
       "      <th>crim</th>\n",
       "      <th>zn</th>\n",
       "      <th>indus</th>\n",
       "      <th>chas</th>\n",
       "      <th>nox</th>\n",
       "      <th>rm</th>\n",
       "      <th>age</th>\n",
       "      <th>dis</th>\n",
       "      <th>rad</th>\n",
       "      <th>...</th>\n",
       "      <th>rad:tax</th>\n",
       "      <th>rad:ptratio</th>\n",
       "      <th>rad:black</th>\n",
       "      <th>rad:lstat</th>\n",
       "      <th>tax:ptratio</th>\n",
       "      <th>tax:black</th>\n",
       "      <th>tax:lstat</th>\n",
       "      <th>ptratio:black</th>\n",
       "      <th>ptratio:lstat</th>\n",
       "      <th>black:lstat</th>\n",
       "    </tr>\n",
       "  </thead>\n",
       "  <tbody>\n",
       "    <tr>\n",
       "      <th>0</th>\n",
       "      <td>3.178054</td>\n",
       "      <td>-5.064036</td>\n",
       "      <td>1.8</td>\n",
       "      <td>0.837248</td>\n",
       "      <td>0</td>\n",
       "      <td>-0.619897</td>\n",
       "      <td>1.883275</td>\n",
       "      <td>3.432567</td>\n",
       "      <td>1.408545</td>\n",
       "      <td>0.000000</td>\n",
       "      <td>...</td>\n",
       "      <td>0.000000</td>\n",
       "      <td>0.000000</td>\n",
       "      <td>0.000000</td>\n",
       "      <td>0.000000</td>\n",
       "      <td>2.588344</td>\n",
       "      <td>22.585037</td>\n",
       "      <td>12.698557</td>\n",
       "      <td>1.805358</td>\n",
       "      <td>1.015072</td>\n",
       "      <td>8.857186</td>\n",
       "    </tr>\n",
       "    <tr>\n",
       "      <th>1</th>\n",
       "      <td>3.072693</td>\n",
       "      <td>-3.600502</td>\n",
       "      <td>0.0</td>\n",
       "      <td>1.955860</td>\n",
       "      <td>0</td>\n",
       "      <td>-0.757153</td>\n",
       "      <td>1.859574</td>\n",
       "      <td>5.529585</td>\n",
       "      <td>1.602836</td>\n",
       "      <td>0.693147</td>\n",
       "      <td>...</td>\n",
       "      <td>3.804642</td>\n",
       "      <td>0.857042</td>\n",
       "      <td>2.751101</td>\n",
       "      <td>2.095553</td>\n",
       "      <td>6.786799</td>\n",
       "      <td>21.785594</td>\n",
       "      <td>16.594394</td>\n",
       "      <td>4.907472</td>\n",
       "      <td>3.738090</td>\n",
       "      <td>11.999253</td>\n",
       "    </tr>\n",
       "  </tbody>\n",
       "</table>\n",
       "<p>2 rows × 92 columns</p>\n",
       "</div>"
      ],
      "text/plain": [
       "          Y      crim   zn     indus  chas       nox        rm       age  \\\n",
       "0  3.178054 -5.064036  1.8  0.837248     0 -0.619897  1.883275  3.432567   \n",
       "1  3.072693 -3.600502  0.0  1.955860     0 -0.757153  1.859574  5.529585   \n",
       "\n",
       "        dis       rad  ...   rad:tax  rad:ptratio  rad:black  rad:lstat  \\\n",
       "0  1.408545  0.000000  ...  0.000000     0.000000   0.000000   0.000000   \n",
       "1  1.602836  0.693147  ...  3.804642     0.857042   2.751101   2.095553   \n",
       "\n",
       "   tax:ptratio  tax:black  tax:lstat  ptratio:black  ptratio:lstat  \\\n",
       "0     2.588344  22.585037  12.698557       1.805358       1.015072   \n",
       "1     6.786799  21.785594  16.594394       4.907472       3.738090   \n",
       "\n",
       "   black:lstat  \n",
       "0     8.857186  \n",
       "1    11.999253  \n",
       "\n",
       "[2 rows x 92 columns]"
      ]
     },
     "execution_count": 14,
     "metadata": {},
     "output_type": "execute_result"
    }
   ],
   "source": [
    "df_bsd2 = pd.read_csv('BostonData2.csv')\n",
    "df_bsd2 = df_bsd2.loc[:, ~df_bsd2.columns.str.contains('^Unnamed')]\n",
    "df_bsd2.head(2)"
   ]
  },
  {
   "cell_type": "code",
   "execution_count": 15,
   "metadata": {
    "tags": []
   },
   "outputs": [
    {
     "data": {
      "text/html": [
       "<div>\n",
       "<style scoped>\n",
       "    .dataframe tbody tr th:only-of-type {\n",
       "        vertical-align: middle;\n",
       "    }\n",
       "\n",
       "    .dataframe tbody tr th {\n",
       "        vertical-align: top;\n",
       "    }\n",
       "\n",
       "    .dataframe thead th {\n",
       "        text-align: right;\n",
       "    }\n",
       "</style>\n",
       "<table border=\"1\" class=\"dataframe\">\n",
       "  <thead>\n",
       "    <tr style=\"text-align: right;\">\n",
       "      <th></th>\n",
       "      <th>Y</th>\n",
       "      <th>crim</th>\n",
       "      <th>zn</th>\n",
       "      <th>indus</th>\n",
       "      <th>chas</th>\n",
       "      <th>nox</th>\n",
       "      <th>rm</th>\n",
       "      <th>age</th>\n",
       "      <th>dis</th>\n",
       "      <th>rad</th>\n",
       "      <th>...</th>\n",
       "      <th>V491</th>\n",
       "      <th>V492</th>\n",
       "      <th>V493</th>\n",
       "      <th>V494</th>\n",
       "      <th>V495</th>\n",
       "      <th>V496</th>\n",
       "      <th>V497</th>\n",
       "      <th>V498</th>\n",
       "      <th>V499</th>\n",
       "      <th>V500</th>\n",
       "    </tr>\n",
       "  </thead>\n",
       "  <tbody>\n",
       "    <tr>\n",
       "      <th>0</th>\n",
       "      <td>3.178054</td>\n",
       "      <td>-5.064036</td>\n",
       "      <td>1.8</td>\n",
       "      <td>0.837248</td>\n",
       "      <td>0</td>\n",
       "      <td>-0.619897</td>\n",
       "      <td>1.883275</td>\n",
       "      <td>3.432567</td>\n",
       "      <td>1.408545</td>\n",
       "      <td>0.000000</td>\n",
       "      <td>...</td>\n",
       "      <td>9.311734</td>\n",
       "      <td>42.340409</td>\n",
       "      <td>-98.237024</td>\n",
       "      <td>-0.218876</td>\n",
       "      <td>242.378197</td>\n",
       "      <td>22.914414</td>\n",
       "      <td>2.833203</td>\n",
       "      <td>-0.731567</td>\n",
       "      <td>188.338755</td>\n",
       "      <td>5.603043</td>\n",
       "    </tr>\n",
       "    <tr>\n",
       "      <th>1</th>\n",
       "      <td>3.072693</td>\n",
       "      <td>-3.600502</td>\n",
       "      <td>0.0</td>\n",
       "      <td>1.955860</td>\n",
       "      <td>0</td>\n",
       "      <td>-0.757153</td>\n",
       "      <td>1.859574</td>\n",
       "      <td>5.529585</td>\n",
       "      <td>1.602836</td>\n",
       "      <td>0.693147</td>\n",
       "      <td>...</td>\n",
       "      <td>2.483401</td>\n",
       "      <td>42.541682</td>\n",
       "      <td>-78.161235</td>\n",
       "      <td>0.006359</td>\n",
       "      <td>230.500638</td>\n",
       "      <td>21.378003</td>\n",
       "      <td>7.343570</td>\n",
       "      <td>-0.772128</td>\n",
       "      <td>54.120184</td>\n",
       "      <td>12.177419</td>\n",
       "    </tr>\n",
       "  </tbody>\n",
       "</table>\n",
       "<p>2 rows × 592 columns</p>\n",
       "</div>"
      ],
      "text/plain": [
       "          Y      crim   zn     indus  chas       nox        rm       age  \\\n",
       "0  3.178054 -5.064036  1.8  0.837248     0 -0.619897  1.883275  3.432567   \n",
       "1  3.072693 -3.600502  0.0  1.955860     0 -0.757153  1.859574  5.529585   \n",
       "\n",
       "        dis       rad  ...      V491       V492       V493      V494  \\\n",
       "0  1.408545  0.000000  ...  9.311734  42.340409 -98.237024 -0.218876   \n",
       "1  1.602836  0.693147  ...  2.483401  42.541682 -78.161235  0.006359   \n",
       "\n",
       "         V495       V496      V497      V498        V499       V500  \n",
       "0  242.378197  22.914414  2.833203 -0.731567  188.338755   5.603043  \n",
       "1  230.500638  21.378003  7.343570 -0.772128   54.120184  12.177419  \n",
       "\n",
       "[2 rows x 592 columns]"
      ]
     },
     "execution_count": 15,
     "metadata": {},
     "output_type": "execute_result"
    }
   ],
   "source": [
    "df_bsd3 = pd.read_csv('BostonData3.csv')\n",
    "df_bsd3 = df_bsd3.loc[:, ~df_bsd3.columns.str.contains('^Unnamed')]\n",
    "df_bsd3.head(2)"
   ]
  },
  {
   "cell_type": "markdown",
   "metadata": {},
   "source": [
    "### <a id='part2_1'>Part II 1. Linear Regression Full Model</a>"
   ]
  },
  {
   "cell_type": "code",
   "execution_count": null,
   "metadata": {},
   "outputs": [],
   "source": [
    "### <a id='part2_1'>Part II 1. Linear Regression Full Model</a>"
   ]
  },
  {
   "cell_type": "code",
   "execution_count": 31,
   "metadata": {},
   "outputs": [],
   "source": [
    "def linear_model_full(traindata, Ytrain, testdata, Ytest):\n",
    "    ## Step 1: Creating a Linear Regression Model Object\n",
    "    lin_mod = lm.LinearRegression()\n",
    "\n",
    "    ## Step 2: Fitting linear model to the data\n",
    "    lin_mod.fit(traindata, Ytrain)\n",
    "\n",
    "    ## Step 3: Generating predictions\n",
    "    lin_train_pred = lin_mod.predict(traindata)\n",
    "    lin_test_pred = lin_mod.predict(testdata)\n",
    "\n",
    "    # Step 4: Calculating mean squared prediction error for the linear model\n",
    "    train_err_ls = np.mean((lin_train_pred-Ytrain)**2)\n",
    "    test_err_ls = np.mean((lin_test_pred-Ytest)**2)\n",
    "\n",
    "    return train_err_ls, test_err_ls"
   ]
  },
  {
   "cell_type": "code",
   "execution_count": 32,
   "metadata": {},
   "outputs": [
    {
     "data": {
      "text/plain": [
       "(0.014508030079488476, 0.014508030079488476)"
      ]
     },
     "execution_count": 32,
     "metadata": {},
     "output_type": "execute_result"
    }
   ],
   "source": [
    "linear_model_full(df_bsd2.loc[:, ~df_bsd2.columns.str.contains('Y')], df_bsd2.Y, df_bsd2.loc[:, ~df_bsd2.columns.str.contains('Y')], df_bsd2.Y,)"
   ]
  },
  {
   "cell_type": "markdown",
   "metadata": {},
   "source": [
    "### <a id='part2_2'>Part II 2. Ridge Regression with $\\lambda_{min}$ and $\\lambda_{1se}$</a>"
   ]
  },
  {
   "cell_type": "code",
   "execution_count": 35,
   "metadata": {},
   "outputs": [],
   "source": [
    "x = np.matrix(df_bsd2.loc[:, ~df_bsd2.columns.str.contains('Y')])\n",
    "y = np.array(df_bsd2.Y)"
   ]
  },
  {
   "cell_type": "code",
   "execution_count": 37,
   "metadata": {},
   "outputs": [
    {
     "ename": "ValueError",
     "evalue": "loadGlmlib does not currently work for windows",
     "output_type": "error",
     "traceback": [
      "\u001b[1;31m---------------------------------------------------------------------------\u001b[0m",
      "\u001b[1;31mValueError\u001b[0m                                Traceback (most recent call last)",
      "\u001b[1;32m<ipython-input-37-291d1d1f1f8a>\u001b[0m in \u001b[0;36m<module>\u001b[1;34m\u001b[0m\n\u001b[1;32m----> 1\u001b[1;33m fit = glmnet(x = x.copy(), y = y.copy(), family = 'gaussian', \\\n\u001b[0m\u001b[0;32m      2\u001b[0m                     \u001b[0malpha\u001b[0m \u001b[1;33m=\u001b[0m \u001b[1;36m0.2\u001b[0m\u001b[1;33m,\u001b[0m \u001b[0mnlambda\u001b[0m \u001b[1;33m=\u001b[0m \u001b[1;36m20\u001b[0m\u001b[1;33m\u001b[0m\u001b[1;33m\u001b[0m\u001b[0m\n\u001b[0;32m      3\u001b[0m                     )\n",
      "\u001b[1;32m~\\anaconda3\\lib\\site-packages\\glmnet_python\\glmnet.py\u001b[0m in \u001b[0;36mglmnet\u001b[1;34m(x, y, family, **options)\u001b[0m\n\u001b[0;32m    446\u001b[0m     \u001b[1;32mif\u001b[0m \u001b[0mfamily\u001b[0m \u001b[1;33m==\u001b[0m \u001b[1;34m'gaussian'\u001b[0m\u001b[1;33m:\u001b[0m\u001b[1;33m\u001b[0m\u001b[1;33m\u001b[0m\u001b[0m\n\u001b[0;32m    447\u001b[0m         \u001b[1;31m# call elnet\u001b[0m\u001b[1;33m\u001b[0m\u001b[1;33m\u001b[0m\u001b[1;33m\u001b[0m\u001b[0m\n\u001b[1;32m--> 448\u001b[1;33m         fit = elnet(x, is_sparse, irs, pcs, y, weights, offset, gtype, parm, \n\u001b[0m\u001b[0;32m    449\u001b[0m                     \u001b[0mlempty\u001b[0m\u001b[1;33m,\u001b[0m \u001b[0mnvars\u001b[0m\u001b[1;33m,\u001b[0m \u001b[0mjd\u001b[0m\u001b[1;33m,\u001b[0m \u001b[0mvp\u001b[0m\u001b[1;33m,\u001b[0m \u001b[0mcl\u001b[0m\u001b[1;33m,\u001b[0m \u001b[0mne\u001b[0m\u001b[1;33m,\u001b[0m \u001b[0mnx\u001b[0m\u001b[1;33m,\u001b[0m \u001b[0mnlam\u001b[0m\u001b[1;33m,\u001b[0m \u001b[0mflmin\u001b[0m\u001b[1;33m,\u001b[0m \u001b[0mulam\u001b[0m\u001b[1;33m,\u001b[0m\u001b[1;33m\u001b[0m\u001b[1;33m\u001b[0m\u001b[0m\n\u001b[0;32m    450\u001b[0m                     thresh, isd, intr, maxit, family)\n",
      "\u001b[1;32m~\\anaconda3\\lib\\site-packages\\glmnet_python\\elnet.py\u001b[0m in \u001b[0;36melnet\u001b[1;34m(x, is_sparse, irs, pcs, y, weights, offset, gtype, parm, lempty, nvars, jd, vp, cl, ne, nx, nlam, flmin, ulam, thresh, isd, intr, maxit, family)\u001b[0m\n\u001b[0;32m     15\u001b[0m \u001b[1;33m\u001b[0m\u001b[0m\n\u001b[0;32m     16\u001b[0m     \u001b[1;31m# load shared fortran library\u001b[0m\u001b[1;33m\u001b[0m\u001b[1;33m\u001b[0m\u001b[1;33m\u001b[0m\u001b[0m\n\u001b[1;32m---> 17\u001b[1;33m     \u001b[0mglmlib\u001b[0m \u001b[1;33m=\u001b[0m \u001b[0mloadGlmLib\u001b[0m\u001b[1;33m(\u001b[0m\u001b[1;33m)\u001b[0m\u001b[1;33m\u001b[0m\u001b[1;33m\u001b[0m\u001b[0m\n\u001b[0m\u001b[0;32m     18\u001b[0m \u001b[1;33m\u001b[0m\u001b[0m\n\u001b[0;32m     19\u001b[0m     \u001b[1;31m# pre-process data\u001b[0m\u001b[1;33m\u001b[0m\u001b[1;33m\u001b[0m\u001b[1;33m\u001b[0m\u001b[0m\n",
      "\u001b[1;32m~\\anaconda3\\lib\\site-packages\\glmnet_python\\loadGlmLib.py\u001b[0m in \u001b[0;36mloadGlmLib\u001b[1;34m()\u001b[0m\n\u001b[0;32m     26\u001b[0m     \u001b[1;32melif\u001b[0m \u001b[0mos\u001b[0m\u001b[1;33m.\u001b[0m\u001b[0mname\u001b[0m \u001b[1;33m==\u001b[0m \u001b[1;34m'nt'\u001b[0m\u001b[1;33m:\u001b[0m\u001b[1;33m\u001b[0m\u001b[1;33m\u001b[0m\u001b[0m\n\u001b[0;32m     27\u001b[0m         \u001b[1;31m# this does not currently work\u001b[0m\u001b[1;33m\u001b[0m\u001b[1;33m\u001b[0m\u001b[1;33m\u001b[0m\u001b[0m\n\u001b[1;32m---> 28\u001b[1;33m         \u001b[1;32mraise\u001b[0m \u001b[0mValueError\u001b[0m\u001b[1;33m(\u001b[0m\u001b[1;34m'loadGlmlib does not currently work for windows'\u001b[0m\u001b[1;33m)\u001b[0m\u001b[1;33m\u001b[0m\u001b[1;33m\u001b[0m\u001b[0m\n\u001b[0m\u001b[0;32m     29\u001b[0m         \u001b[1;31m# glmlib = ctypes.windll.LoadLibrary(glmnet_dll)\u001b[0m\u001b[1;33m\u001b[0m\u001b[1;33m\u001b[0m\u001b[1;33m\u001b[0m\u001b[0m\n\u001b[0;32m     30\u001b[0m     \u001b[1;32melse\u001b[0m\u001b[1;33m:\u001b[0m\u001b[1;33m\u001b[0m\u001b[1;33m\u001b[0m\u001b[0m\n",
      "\u001b[1;31mValueError\u001b[0m: loadGlmlib does not currently work for windows"
     ]
    }
   ],
   "source": [
    "fit = glmnet(x = x.copy(), y = y.copy(), family = 'gaussian', \\\n",
    "                    alpha = 0.2, nlambda = 20\n",
    "                    )"
   ]
  },
  {
   "cell_type": "code",
   "execution_count": null,
   "metadata": {},
   "outputs": [],
   "source": []
  }
 ],
 "metadata": {
  "kernelspec": {
   "display_name": "Python 3",
   "language": "python",
   "name": "python3"
  },
  "language_info": {
   "codemirror_mode": {
    "name": "ipython",
    "version": 3
   },
   "file_extension": ".py",
   "mimetype": "text/x-python",
   "name": "python",
   "nbconvert_exporter": "python",
   "pygments_lexer": "ipython3",
   "version": "3.8.5"
  }
 },
 "nbformat": 4,
 "nbformat_minor": 4
}
