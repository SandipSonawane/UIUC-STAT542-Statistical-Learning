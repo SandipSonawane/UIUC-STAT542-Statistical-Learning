{
 "cells": [
  {
   "cell_type": "markdown",
   "id": "a3aed678",
   "metadata": {},
   "source": [
    "Assignment Problem Statement available here: https://liangfgithub.github.io/F21/coding2.pdf"
   ]
  },
  {
   "cell_type": "markdown",
   "id": "058ec283",
   "metadata": {},
   "source": [
    "## Part II Simulation Study\n",
    "\n",
    "\n",
    "#### [Part II 1. Linear Regression Full Model](#part2_1)\n",
    "#### [Part II 2. Ridge Regression with $\\lambda_{min}$ and $\\lambda_{1se}$](#part2_2)\n",
    "#### [Part II 3. Lasso Regression with $\\lambda_{min}$ and $\\lambda_{1se}$](#part2_3)\n",
    "#### [Part II 4. Refit using Lasso $\\lambda_{1se}$](#part2_4)\n",
    "#### [Part II 5. Principle Component Regression with 10-fold cross validation](#part2_5)\n",
    "#### [Part II 6. Simulation on BostonData2.csv](#part2_6)\n",
    "#### [Part II 7. Simulation on BostonData3.csv](#part2_7)"
   ]
  },
  {
   "cell_type": "code",
   "execution_count": null,
   "id": "fb8e8b7a",
   "metadata": {},
   "outputs": [],
   "source": [
    "options(warn=-1)\n",
    "library(glmnet)\n",
    "library(pls)\n",
    "set.seed(4721)"
   ]
  },
  {
   "cell_type": "markdown",
   "id": "c50aff6a",
   "metadata": {},
   "source": [
    "### Load Data"
   ]
  },
  {
   "cell_type": "code",
   "execution_count": 2,
   "id": "ebba7e2a",
   "metadata": {},
   "outputs": [
    {
     "data": {
      "text/html": [
       "<ol class=list-inline>\n",
       "\t<li>506</li>\n",
       "\t<li>92</li>\n",
       "</ol>\n"
      ],
      "text/latex": [
       "\\begin{enumerate*}\n",
       "\\item 506\n",
       "\\item 92\n",
       "\\end{enumerate*}\n"
      ],
      "text/markdown": [
       "1. 506\n",
       "2. 92\n",
       "\n",
       "\n"
      ],
      "text/plain": [
       "[1] 506  92"
      ]
     },
     "metadata": {},
     "output_type": "display_data"
    }
   ],
   "source": [
    "df_bsd2 = read.csv(\"BostonData2.csv\")\n",
    "df_bsd2 = df_bsd2[, -1]\n",
    "dim(df_bsd2)"
   ]
  },
  {
   "cell_type": "code",
   "execution_count": 3,
   "id": "44bfa024",
   "metadata": {},
   "outputs": [
    {
     "data": {
      "text/html": [
       "<table>\n",
       "<thead><tr><th scope=col>Y</th><th scope=col>crim</th><th scope=col>zn</th><th scope=col>indus</th><th scope=col>chas</th><th scope=col>nox</th><th scope=col>rm</th><th scope=col>age</th><th scope=col>dis</th><th scope=col>rad</th><th scope=col>...</th><th scope=col>rad.tax</th><th scope=col>rad.ptratio</th><th scope=col>rad.black</th><th scope=col>rad.lstat</th><th scope=col>tax.ptratio</th><th scope=col>tax.black</th><th scope=col>tax.lstat</th><th scope=col>ptratio.black</th><th scope=col>ptratio.lstat</th><th scope=col>black.lstat</th></tr></thead>\n",
       "<tbody>\n",
       "\t<tr><td>3.178054  </td><td>-5.064036 </td><td>1.8       </td><td>0.8372475 </td><td>0         </td><td>-0.6198967</td><td>1.883275  </td><td>3.432567  </td><td>1.408545  </td><td>0.0000000 </td><td>...       </td><td>0.000000  </td><td>0.0000000 </td><td>0.000000  </td><td>0.000000  </td><td>2.588344  </td><td>22.58504  </td><td>12.69856  </td><td>1.805358  </td><td>1.015072  </td><td> 8.857186 </td></tr>\n",
       "\t<tr><td>3.072693  </td><td>-3.600502 </td><td>0.0       </td><td>1.9558605 </td><td>0         </td><td>-0.7571525</td><td>1.859574  </td><td>5.529585  </td><td>1.602836  </td><td>0.6931472 </td><td>...       </td><td>3.804642  </td><td>0.8570421 </td><td>2.751101  </td><td>2.095553  </td><td>6.786799  </td><td>21.78559  </td><td>16.59439  </td><td>4.907472  </td><td>3.738090  </td><td>11.999253 </td></tr>\n",
       "</tbody>\n",
       "</table>\n"
      ],
      "text/latex": [
       "\\begin{tabular}{r|llllllllllllllllllllllllllllllllllllllllllllllllllllllllllllllllllllllllllllllllllllllllllll}\n",
       " Y & crim & zn & indus & chas & nox & rm & age & dis & rad & ... & rad.tax & rad.ptratio & rad.black & rad.lstat & tax.ptratio & tax.black & tax.lstat & ptratio.black & ptratio.lstat & black.lstat\\\\\n",
       "\\hline\n",
       "\t 3.178054   & -5.064036  & 1.8        & 0.8372475  & 0          & -0.6198967 & 1.883275   & 3.432567   & 1.408545   & 0.0000000  & ...        & 0.000000   & 0.0000000  & 0.000000   & 0.000000   & 2.588344   & 22.58504   & 12.69856   & 1.805358   & 1.015072   &  8.857186 \\\\\n",
       "\t 3.072693   & -3.600502  & 0.0        & 1.9558605  & 0          & -0.7571525 & 1.859574   & 5.529585   & 1.602836   & 0.6931472  & ...        & 3.804642   & 0.8570421  & 2.751101   & 2.095553   & 6.786799   & 21.78559   & 16.59439   & 4.907472   & 3.738090   & 11.999253 \\\\\n",
       "\\end{tabular}\n"
      ],
      "text/markdown": [
       "\n",
       "| Y | crim | zn | indus | chas | nox | rm | age | dis | rad | ... | rad.tax | rad.ptratio | rad.black | rad.lstat | tax.ptratio | tax.black | tax.lstat | ptratio.black | ptratio.lstat | black.lstat |\n",
       "|---|---|---|---|---|---|---|---|---|---|---|---|---|---|---|---|---|---|---|---|---|\n",
       "| 3.178054   | -5.064036  | 1.8        | 0.8372475  | 0          | -0.6198967 | 1.883275   | 3.432567   | 1.408545   | 0.0000000  | ...        | 0.000000   | 0.0000000  | 0.000000   | 0.000000   | 2.588344   | 22.58504   | 12.69856   | 1.805358   | 1.015072   |  8.857186  |\n",
       "| 3.072693   | -3.600502  | 0.0        | 1.9558605  | 0          | -0.7571525 | 1.859574   | 5.529585   | 1.602836   | 0.6931472  | ...        | 3.804642   | 0.8570421  | 2.751101   | 2.095553   | 6.786799   | 21.78559   | 16.59439   | 4.907472   | 3.738090   | 11.999253  |\n",
       "\n"
      ],
      "text/plain": [
       "  Y        crim      zn  indus     chas nox        rm       age      dis     \n",
       "1 3.178054 -5.064036 1.8 0.8372475 0    -0.6198967 1.883275 3.432567 1.408545\n",
       "2 3.072693 -3.600502 0.0 1.9558605 0    -0.7571525 1.859574 5.529585 1.602836\n",
       "  rad       ... rad.tax  rad.ptratio rad.black rad.lstat tax.ptratio tax.black\n",
       "1 0.0000000 ... 0.000000 0.0000000   0.000000  0.000000  2.588344    22.58504 \n",
       "2 0.6931472 ... 3.804642 0.8570421   2.751101  2.095553  6.786799    21.78559 \n",
       "  tax.lstat ptratio.black ptratio.lstat black.lstat\n",
       "1 12.69856  1.805358      1.015072       8.857186  \n",
       "2 16.59439  4.907472      3.738090      11.999253  "
      ]
     },
     "metadata": {},
     "output_type": "display_data"
    }
   ],
   "source": [
    "head(df_bsd2, 2)"
   ]
  },
  {
   "cell_type": "code",
   "execution_count": 4,
   "id": "313fbca3",
   "metadata": {},
   "outputs": [],
   "source": [
    "X_bsd2 = data.matrix(df_bsd2[,-1])  \n",
    "Y_bsd2 = data.matrix(df_bsd2[,1])"
   ]
  },
  {
   "cell_type": "markdown",
   "id": "461f69ba",
   "metadata": {},
   "source": [
    "#### Create id list for 50 iterations"
   ]
  },
  {
   "cell_type": "code",
   "execution_count": 5,
   "id": "5e63b379",
   "metadata": {},
   "outputs": [],
   "source": [
    "T = 50\n",
    "n = length(Y_bsd2)\n",
    "ntest = round(n * 0.25)  # test set size\n",
    "ntrain = n - ntest  # training set size\n",
    "all.test.id = matrix(0, ntest, T)  # \n",
    "for(t in 1:T){\n",
    "  all.test.id[, t] = sample(1:n, ntest)\n",
    "}"
   ]
  },
  {
   "cell_type": "code",
   "execution_count": 6,
   "id": "35029476",
   "metadata": {
    "scrolled": false
   },
   "outputs": [
    {
     "data": {
      "text/html": [
       "<ol class=list-inline>\n",
       "\t<li>453</li>\n",
       "\t<li>210</li>\n",
       "\t<li>429</li>\n",
       "\t<li>424</li>\n",
       "\t<li>87</li>\n",
       "\t<li>394</li>\n",
       "\t<li>351</li>\n",
       "\t<li>407</li>\n",
       "\t<li>449</li>\n",
       "\t<li>126</li>\n",
       "\t<li>91</li>\n",
       "\t<li>194</li>\n",
       "\t<li>408</li>\n",
       "\t<li>401</li>\n",
       "\t<li>280</li>\n",
       "\t<li>266</li>\n",
       "\t<li>495</li>\n",
       "\t<li>107</li>\n",
       "\t<li>489</li>\n",
       "\t<li>153</li>\n",
       "\t<li>10</li>\n",
       "\t<li>315</li>\n",
       "\t<li>17</li>\n",
       "\t<li>375</li>\n",
       "\t<li>322</li>\n",
       "\t<li>155</li>\n",
       "\t<li>305</li>\n",
       "\t<li>463</li>\n",
       "\t<li>364</li>\n",
       "\t<li>268</li>\n",
       "\t<li>81</li>\n",
       "\t<li>444</li>\n",
       "\t<li>300</li>\n",
       "\t<li>333</li>\n",
       "\t<li>66</li>\n",
       "\t<li>183</li>\n",
       "\t<li>292</li>\n",
       "\t<li>403</li>\n",
       "\t<li>264</li>\n",
       "\t<li>436</li>\n",
       "\t<li>211</li>\n",
       "\t<li>250</li>\n",
       "\t<li>252</li>\n",
       "\t<li>448</li>\n",
       "\t<li>298</li>\n",
       "\t<li>44</li>\n",
       "\t<li>412</li>\n",
       "\t<li>214</li>\n",
       "\t<li>209</li>\n",
       "\t<li>454</li>\n",
       "\t<li>291</li>\n",
       "\t<li>19</li>\n",
       "\t<li>8</li>\n",
       "\t<li>485</li>\n",
       "\t<li>445</li>\n",
       "\t<li>154</li>\n",
       "\t<li>152</li>\n",
       "\t<li>498</li>\n",
       "\t<li>371</li>\n",
       "\t<li>22</li>\n",
       "\t<li>386</li>\n",
       "\t<li>201</li>\n",
       "\t<li>263</li>\n",
       "\t<li>492</li>\n",
       "\t<li>2</li>\n",
       "\t<li>193</li>\n",
       "\t<li>359</li>\n",
       "\t<li>212</li>\n",
       "\t<li>90</li>\n",
       "\t<li>396</li>\n",
       "\t<li>21</li>\n",
       "\t<li>295</li>\n",
       "\t<li>23</li>\n",
       "\t<li>377</li>\n",
       "\t<li>33</li>\n",
       "\t<li>171</li>\n",
       "\t<li>235</li>\n",
       "\t<li>272</li>\n",
       "\t<li>347</li>\n",
       "\t<li>502</li>\n",
       "\t<li>481</li>\n",
       "\t<li>317</li>\n",
       "\t<li>110</li>\n",
       "\t<li>490</li>\n",
       "\t<li>440</li>\n",
       "\t<li>12</li>\n",
       "\t<li>142</li>\n",
       "\t<li>427</li>\n",
       "\t<li>230</li>\n",
       "\t<li>71</li>\n",
       "\t<li>328</li>\n",
       "\t<li>220</li>\n",
       "\t<li>330</li>\n",
       "\t<li>415</li>\n",
       "\t<li>179</li>\n",
       "\t<li>28</li>\n",
       "\t<li>58</li>\n",
       "\t<li>397</li>\n",
       "\t<li>114</li>\n",
       "\t<li>97</li>\n",
       "\t<li>290</li>\n",
       "\t<li>20</li>\n",
       "\t<li>354</li>\n",
       "\t<li>202</li>\n",
       "\t<li>163</li>\n",
       "\t<li>284</li>\n",
       "\t<li>418</li>\n",
       "\t<li>68</li>\n",
       "\t<li>182</li>\n",
       "\t<li>311</li>\n",
       "\t<li>132</li>\n",
       "\t<li>13</li>\n",
       "\t<li>120</li>\n",
       "\t<li>447</li>\n",
       "\t<li>18</li>\n",
       "\t<li>257</li>\n",
       "\t<li>228</li>\n",
       "\t<li>269</li>\n",
       "\t<li>410</li>\n",
       "\t<li>416</li>\n",
       "\t<li>398</li>\n",
       "\t<li>186</li>\n",
       "\t<li>122</li>\n",
       "\t<li>491</li>\n",
       "\t<li>1</li>\n",
       "\t<li>24</li>\n",
       "</ol>\n"
      ],
      "text/latex": [
       "\\begin{enumerate*}\n",
       "\\item 453\n",
       "\\item 210\n",
       "\\item 429\n",
       "\\item 424\n",
       "\\item 87\n",
       "\\item 394\n",
       "\\item 351\n",
       "\\item 407\n",
       "\\item 449\n",
       "\\item 126\n",
       "\\item 91\n",
       "\\item 194\n",
       "\\item 408\n",
       "\\item 401\n",
       "\\item 280\n",
       "\\item 266\n",
       "\\item 495\n",
       "\\item 107\n",
       "\\item 489\n",
       "\\item 153\n",
       "\\item 10\n",
       "\\item 315\n",
       "\\item 17\n",
       "\\item 375\n",
       "\\item 322\n",
       "\\item 155\n",
       "\\item 305\n",
       "\\item 463\n",
       "\\item 364\n",
       "\\item 268\n",
       "\\item 81\n",
       "\\item 444\n",
       "\\item 300\n",
       "\\item 333\n",
       "\\item 66\n",
       "\\item 183\n",
       "\\item 292\n",
       "\\item 403\n",
       "\\item 264\n",
       "\\item 436\n",
       "\\item 211\n",
       "\\item 250\n",
       "\\item 252\n",
       "\\item 448\n",
       "\\item 298\n",
       "\\item 44\n",
       "\\item 412\n",
       "\\item 214\n",
       "\\item 209\n",
       "\\item 454\n",
       "\\item 291\n",
       "\\item 19\n",
       "\\item 8\n",
       "\\item 485\n",
       "\\item 445\n",
       "\\item 154\n",
       "\\item 152\n",
       "\\item 498\n",
       "\\item 371\n",
       "\\item 22\n",
       "\\item 386\n",
       "\\item 201\n",
       "\\item 263\n",
       "\\item 492\n",
       "\\item 2\n",
       "\\item 193\n",
       "\\item 359\n",
       "\\item 212\n",
       "\\item 90\n",
       "\\item 396\n",
       "\\item 21\n",
       "\\item 295\n",
       "\\item 23\n",
       "\\item 377\n",
       "\\item 33\n",
       "\\item 171\n",
       "\\item 235\n",
       "\\item 272\n",
       "\\item 347\n",
       "\\item 502\n",
       "\\item 481\n",
       "\\item 317\n",
       "\\item 110\n",
       "\\item 490\n",
       "\\item 440\n",
       "\\item 12\n",
       "\\item 142\n",
       "\\item 427\n",
       "\\item 230\n",
       "\\item 71\n",
       "\\item 328\n",
       "\\item 220\n",
       "\\item 330\n",
       "\\item 415\n",
       "\\item 179\n",
       "\\item 28\n",
       "\\item 58\n",
       "\\item 397\n",
       "\\item 114\n",
       "\\item 97\n",
       "\\item 290\n",
       "\\item 20\n",
       "\\item 354\n",
       "\\item 202\n",
       "\\item 163\n",
       "\\item 284\n",
       "\\item 418\n",
       "\\item 68\n",
       "\\item 182\n",
       "\\item 311\n",
       "\\item 132\n",
       "\\item 13\n",
       "\\item 120\n",
       "\\item 447\n",
       "\\item 18\n",
       "\\item 257\n",
       "\\item 228\n",
       "\\item 269\n",
       "\\item 410\n",
       "\\item 416\n",
       "\\item 398\n",
       "\\item 186\n",
       "\\item 122\n",
       "\\item 491\n",
       "\\item 1\n",
       "\\item 24\n",
       "\\end{enumerate*}\n"
      ],
      "text/markdown": [
       "1. 453\n",
       "2. 210\n",
       "3. 429\n",
       "4. 424\n",
       "5. 87\n",
       "6. 394\n",
       "7. 351\n",
       "8. 407\n",
       "9. 449\n",
       "10. 126\n",
       "11. 91\n",
       "12. 194\n",
       "13. 408\n",
       "14. 401\n",
       "15. 280\n",
       "16. 266\n",
       "17. 495\n",
       "18. 107\n",
       "19. 489\n",
       "20. 153\n",
       "21. 10\n",
       "22. 315\n",
       "23. 17\n",
       "24. 375\n",
       "25. 322\n",
       "26. 155\n",
       "27. 305\n",
       "28. 463\n",
       "29. 364\n",
       "30. 268\n",
       "31. 81\n",
       "32. 444\n",
       "33. 300\n",
       "34. 333\n",
       "35. 66\n",
       "36. 183\n",
       "37. 292\n",
       "38. 403\n",
       "39. 264\n",
       "40. 436\n",
       "41. 211\n",
       "42. 250\n",
       "43. 252\n",
       "44. 448\n",
       "45. 298\n",
       "46. 44\n",
       "47. 412\n",
       "48. 214\n",
       "49. 209\n",
       "50. 454\n",
       "51. 291\n",
       "52. 19\n",
       "53. 8\n",
       "54. 485\n",
       "55. 445\n",
       "56. 154\n",
       "57. 152\n",
       "58. 498\n",
       "59. 371\n",
       "60. 22\n",
       "61. 386\n",
       "62. 201\n",
       "63. 263\n",
       "64. 492\n",
       "65. 2\n",
       "66. 193\n",
       "67. 359\n",
       "68. 212\n",
       "69. 90\n",
       "70. 396\n",
       "71. 21\n",
       "72. 295\n",
       "73. 23\n",
       "74. 377\n",
       "75. 33\n",
       "76. 171\n",
       "77. 235\n",
       "78. 272\n",
       "79. 347\n",
       "80. 502\n",
       "81. 481\n",
       "82. 317\n",
       "83. 110\n",
       "84. 490\n",
       "85. 440\n",
       "86. 12\n",
       "87. 142\n",
       "88. 427\n",
       "89. 230\n",
       "90. 71\n",
       "91. 328\n",
       "92. 220\n",
       "93. 330\n",
       "94. 415\n",
       "95. 179\n",
       "96. 28\n",
       "97. 58\n",
       "98. 397\n",
       "99. 114\n",
       "100. 97\n",
       "101. 290\n",
       "102. 20\n",
       "103. 354\n",
       "104. 202\n",
       "105. 163\n",
       "106. 284\n",
       "107. 418\n",
       "108. 68\n",
       "109. 182\n",
       "110. 311\n",
       "111. 132\n",
       "112. 13\n",
       "113. 120\n",
       "114. 447\n",
       "115. 18\n",
       "116. 257\n",
       "117. 228\n",
       "118. 269\n",
       "119. 410\n",
       "120. 416\n",
       "121. 398\n",
       "122. 186\n",
       "123. 122\n",
       "124. 491\n",
       "125. 1\n",
       "126. 24\n",
       "\n",
       "\n"
      ],
      "text/plain": [
       "  [1] 453 210 429 424  87 394 351 407 449 126  91 194 408 401 280 266 495 107\n",
       " [19] 489 153  10 315  17 375 322 155 305 463 364 268  81 444 300 333  66 183\n",
       " [37] 292 403 264 436 211 250 252 448 298  44 412 214 209 454 291  19   8 485\n",
       " [55] 445 154 152 498 371  22 386 201 263 492   2 193 359 212  90 396  21 295\n",
       " [73]  23 377  33 171 235 272 347 502 481 317 110 490 440  12 142 427 230  71\n",
       " [91] 328 220 330 415 179  28  58 397 114  97 290  20 354 202 163 284 418  68\n",
       "[109] 182 311 132  13 120 447  18 257 228 269 410 416 398 186 122 491   1  24"
      ]
     },
     "metadata": {},
     "output_type": "display_data"
    }
   ],
   "source": [
    "all.test.id[,1]"
   ]
  },
  {
   "cell_type": "markdown",
   "id": "5a4435f8",
   "metadata": {},
   "source": [
    "#### Seven Procedures"
   ]
  },
  {
   "cell_type": "code",
   "execution_count": 7,
   "id": "42810e13",
   "metadata": {},
   "outputs": [],
   "source": [
    "test.id = all.test.id[,1] \n",
    "\n",
    "MSPE = rep(0, 7)\n",
    "names(MSPE) = c(\"Full\", \"R_min\", \"R_1se\", \"L_min\", \"L_1se\", \"L_Refit\", \"PCR\")\n",
    "\n",
    "trn = X_bsd2[-test.id,-1]\n",
    "ytrn = Y_bsd2[-test.id]\n",
    "tst = X_bsd2[test.id,-1]\n",
    "ytst = Y_bsd2[test.id]"
   ]
  },
  {
   "cell_type": "markdown",
   "id": "e58ebe30",
   "metadata": {},
   "source": [
    "### <a id='part2_1'>Part II 1. Linear Regression Full Model</a>"
   ]
  },
  {
   "cell_type": "code",
   "execution_count": 8,
   "id": "cf938971",
   "metadata": {},
   "outputs": [],
   "source": [
    "full.model = function(trn, ytrn, tst, ytst){\n",
    "    mod = lm(ytrn ~ ., data = data.frame(trn, ytrn))\n",
    "    Ytest.pred = predict(mod, newdata = data.frame(tst))\n",
    "    mean((ytst - Ytest.pred)^2)   \n",
    "}"
   ]
  },
  {
   "cell_type": "code",
   "execution_count": 9,
   "id": "45874ced",
   "metadata": {},
   "outputs": [],
   "source": [
    "MSPE[1] = full.model(trn, ytrn, tst, ytst)"
   ]
  },
  {
   "cell_type": "markdown",
   "id": "cf2b205a",
   "metadata": {},
   "source": [
    "### <a id='part2_2'>Part II 2. Ridge Regression with $\\lambda_{min}$ and $\\lambda_{1se}$</a>"
   ]
  },
  {
   "cell_type": "code",
   "execution_count": 10,
   "id": "003af366",
   "metadata": {},
   "outputs": [],
   "source": [
    "cv.out = cv.glmnet(X_bsd2[-test.id, ], Y_bsd2[-test.id], alpha = 0)\n",
    "best.lam = cv.out$lambda.min\n",
    "Ytest.pred = predict(cv.out, s = best.lam, newx = X_bsd2[test.id, ])\n",
    "MSPE[2] = mean((Y_bsd2[test.id] - Ytest.pred)^2)"
   ]
  },
  {
   "cell_type": "code",
   "execution_count": 11,
   "id": "fe2a42fe",
   "metadata": {},
   "outputs": [
    {
     "data": {
      "text/html": [
       "<strong>R_min:</strong> 0.0355761819153424"
      ],
      "text/latex": [
       "\\textbf{R\\textbackslash{}\\_min:} 0.0355761819153424"
      ],
      "text/markdown": [
       "**R_min:** 0.0355761819153424"
      ],
      "text/plain": [
       "     R_min \n",
       "0.03557618 "
      ]
     },
     "metadata": {},
     "output_type": "display_data"
    }
   ],
   "source": [
    "MSPE[2]"
   ]
  },
  {
   "cell_type": "code",
   "execution_count": 12,
   "id": "10080e72",
   "metadata": {},
   "outputs": [
    {
     "data": {
      "text/html": [
       "0"
      ],
      "text/latex": [
       "0"
      ],
      "text/markdown": [
       "0"
      ],
      "text/plain": [
       "[1] 0"
      ]
     },
     "metadata": {},
     "output_type": "display_data"
    }
   ],
   "source": [
    "sum(cv.out$lambda < best.lam)"
   ]
  },
  {
   "cell_type": "code",
   "execution_count": 13,
   "id": "bf2d8f71",
   "metadata": {},
   "outputs": [
    {
     "data": {
      "image/png": "[encoded data removed]",
      "text/plain": [
       "plot without title"
      ]
     },
     "metadata": {},
     "output_type": "display_data"
    }
   ],
   "source": [
    "options(repr.plot.width=6, repr.plot.height=4)\n",
    "plot(cv.out)"
   ]
  },
  {
   "cell_type": "code",
   "execution_count": 14,
   "id": "549aeecc",
   "metadata": {},
   "outputs": [
    {
     "data": {
      "image/png": "[encoded data removed]",
      "text/plain": [
       "plot without title"
      ]
     },
     "metadata": {},
     "output_type": "display_data"
    }
   ],
   "source": [
    "mylasso.lambda.seq = exp(seq(-4, 1, length.out = 100))\n",
    "cv.out = cv.glmnet(X_bsd2[-test.id, ], Y_bsd2[-test.id], alpha = 0, \n",
    "                   lambda = mylasso.lambda.seq)\n",
    "plot(cv.out)"
   ]
  },
  {
   "cell_type": "code",
   "execution_count": 15,
   "id": "099614f1",
   "metadata": {},
   "outputs": [],
   "source": [
    "myridge.lambda.seq = exp(seq(-10, -2, length.out = 100))\n",
    "cv.out = cv.glmnet(X_bsd2[-test.id, -1], Y_bsd2[-test.id], alpha = 0, \n",
    "                   lambda = myridge.lambda.seq)\n",
    "\n",
    "best.lam = cv.out$lambda.min\n",
    "Ytest.pred = predict(cv.out, s = best.lam, newx = X_bsd2[test.id, -1])\n",
    "MSPE[2] = mean((Y_bsd2[test.id] - Ytest.pred)^2)\n",
    "\n",
    "best.lam = cv.out$lambda.1se\n",
    "Ytest.pred = predict(cv.out, s = best.lam, newx = X_bsd2[test.id, -1])\n",
    "MSPE[3] = mean((Y_bsd2[test.id] - Ytest.pred)^2)"
   ]
  },
  {
   "cell_type": "code",
   "execution_count": 16,
   "id": "d3dcd0a0",
   "metadata": {},
   "outputs": [
    {
     "data": {
      "image/png": "[encoded data removed]",
      "text/plain": [
       "plot without title"
      ]
     },
     "metadata": {},
     "output_type": "display_data"
    }
   ],
   "source": [
    "plot(cv.out)"
   ]
  },
  {
   "cell_type": "markdown",
   "id": "e46b4735",
   "metadata": {},
   "source": [
    "> We see that the mean sqaured error has converged somewhere between -6 and -7, hence this is the lambda sequence we will use."
   ]
  },
  {
   "cell_type": "markdown",
   "id": "f6fadd5a",
   "metadata": {},
   "source": [
    "#### Wrapping ridge regression in function"
   ]
  },
  {
   "cell_type": "code",
   "execution_count": 17,
   "id": "5e0020a2",
   "metadata": {},
   "outputs": [],
   "source": [
    "ridge_reg_mod = function(trn, ytrn, tst, ytst, lambda_sequence){\n",
    "    mod = cv.glmnet(trn, ytrn, alpha = 0, lambda = lambda_sequence)\n",
    "    \n",
    "    # using min lambda\n",
    "    best.lam = mod$lambda.min\n",
    "    Ytest.pred = predict(mod, s = best.lam, newx = tst)\n",
    "    lam_min_MSPE = mean((ytst - Ytest.pred)^2)\n",
    "\n",
    "    # using 1se lambda\n",
    "    best.lam = mod$lambda.1se\n",
    "    Ytest.pred = predict(mod, s = best.lam, newx = tst)\n",
    "    lam_1se_MSPE = mean((ytst - Ytest.pred)^2)\n",
    "    \n",
    "    return (c(lam_min_MSPE, lam_1se_MSPE))\n",
    "}"
   ]
  },
  {
   "cell_type": "code",
   "execution_count": 18,
   "id": "cda4e1c3",
   "metadata": {},
   "outputs": [],
   "source": [
    "myridge.lambda.seq = exp(seq(-10, -2, length.out = 100))\n",
    "\n",
    "ridge_MSPE = ridge_reg_mod(trn, ytrn, tst, ytst, myridge.lambda.seq)\n",
    "MSPE[2] = ridge_MSPE[1]\n",
    "MSPE[3] = ridge_MSPE[2]"
   ]
  },
  {
   "cell_type": "markdown",
   "id": "d27ee52e",
   "metadata": {},
   "source": [
    "### <a id='part2_3'>Part II 3. Lasso Regression with $\\lambda_{min}$ and $\\lambda_{1se}$</a>\n",
    "and \n",
    "### <a id='part2_3'>Part II 4. Refit using Lasso $\\lambda_{1se}$</a>"
   ]
  },
  {
   "cell_type": "code",
   "execution_count": 19,
   "id": "1ba0525d",
   "metadata": {},
   "outputs": [],
   "source": [
    "lasso_reg_mod = function(trn, ytrn, tst, ytst, lambda_sequence){\n",
    "    mod = cv.glmnet(trn, ytrn, alpha = 1, lambda = lambda_sequence)\n",
    "    \n",
    "    # using min lambda\n",
    "    best.lam = mod$lambda.min\n",
    "    Ytest.pred = predict(mod, s = best.lam, newx = tst)\n",
    "    lam_min_MSPE = mean((ytst - Ytest.pred)^2)\n",
    "\n",
    "    # using 1se lambda\n",
    "    best.lam = mod$lambda.1se\n",
    "    Ytest.pred = predict(mod, s = best.lam, newx = tst)\n",
    "    lam_1se_MSPE = mean((ytst - Ytest.pred)^2)\n",
    "    \n",
    "    # refit using variables selected by lasso\n",
    "    coef = predict(mod, s = best.lam, type = \"coefficients\")\n",
    "    var.sel = row.names(coef)[which(coef != 0)[-1]]\n",
    "    \n",
    "    # lasso refit model    \n",
    "    lasso.refit = lm(ytrn ~ ., data.frame(trn[, c(var.sel)], ytrn))\n",
    "    Ytest.pred = predict(lasso.refit, newdata = data.frame(tst))\n",
    "    lasso_refit_MSPE = mean((Ytest.pred - ytst)^2)\n",
    "    \n",
    "    return (c(lam_min_MSPE, lam_1se_MSPE, lasso_refit_MSPE))\n",
    "}"
   ]
  },
  {
   "cell_type": "code",
   "execution_count": 20,
   "id": "01af5ba0",
   "metadata": {},
   "outputs": [],
   "source": [
    "lasso_MSPE = lasso_reg_mod(trn, ytrn, tst, ytst, myridge.lambda.seq)\n",
    "MSPE[4] = lasso_MSPE[1]\n",
    "MSPE[5] = lasso_MSPE[2]\n",
    "MSPE[6] = lasso_MSPE[3]"
   ]
  },
  {
   "cell_type": "code",
   "execution_count": 21,
   "id": "ad98729d",
   "metadata": {},
   "outputs": [
    {
     "data": {
      "image/png": "[encoded data removed]",
      "text/plain": [
       "plot without title"
      ]
     },
     "metadata": {},
     "output_type": "display_data"
    }
   ],
   "source": [
    "lasso = cv.glmnet(trn, ytrn, alpha = 1, lambda = myridge.lambda.seq)\n",
    "plot(lasso)"
   ]
  },
  {
   "cell_type": "markdown",
   "id": "4bd42d98",
   "metadata": {},
   "source": [
    "> The above plot shows that our lambda sequence does include convergence of mean squeared error. Hence, we will be sticking withi this lambda sequence."
   ]
  },
  {
   "cell_type": "markdown",
   "id": "f8313103",
   "metadata": {},
   "source": [
    "### <a id='part2_5'>Part II 5. Principle Component Regression with 10-fold cross validation</a>"
   ]
  },
  {
   "cell_type": "code",
   "execution_count": 22,
   "id": "587675f7",
   "metadata": {},
   "outputs": [],
   "source": [
    "pcr_mod = function(trn, ytrn, tst, ytst){\n",
    "    mod = pcr(ytrn ~ ., data= data.frame(trn, ytrn), validation=\"CV\")\n",
    "    CVerr = RMSEP(mod)$val[1, , ]\n",
    "    adjCVerr = RMSEP(mod)$val[2, , ]\n",
    "    best.ncomp = which.min(CVerr) - 1\n",
    "    \n",
    "    if (best.ncomp==0) {\n",
    "        Ytest.pred = mean(ytrn)\n",
    "          } else {\n",
    "            Ytest.pred = predict(mod, data.frame(tst), ncomp=best.ncomp)\n",
    "          }\n",
    "    \n",
    "    return (mean((Ytest.pred - ytst)^2))\n",
    "}"
   ]
  },
  {
   "cell_type": "code",
   "execution_count": 23,
   "id": "b5966180",
   "metadata": {},
   "outputs": [],
   "source": [
    "MSPE[7] = pcr_mod(trn, ytrn, tst, ytst)"
   ]
  },
  {
   "cell_type": "markdown",
   "id": "1ee2f938",
   "metadata": {},
   "source": [
    "### <a id='part2_6'>Part II 6. Simulation on BostonData2.csv</a>"
   ]
  },
  {
   "cell_type": "code",
   "execution_count": 24,
   "id": "c55fa8ee",
   "metadata": {},
   "outputs": [],
   "source": [
    "bsd2_mspe = data.frame(matrix(ncol = 7, nrow = 0))\n",
    "names(bsd2_mspe) = c(\"Full\", \"R_min\", \"R_1se\", \"L_min\", \"L_1se\", \"L_Refit\", \"PCR\")"
   ]
  },
  {
   "cell_type": "code",
   "execution_count": 25,
   "id": "cbf85404",
   "metadata": {},
   "outputs": [],
   "source": [
    "for (i in 1:50){\n",
    "    trn = X_bsd2[-all.test.id[,i],-1]\n",
    "    ytrn = Y_bsd2[-all.test.id[,i]]\n",
    "    tst = X_bsd2[all.test.id[,i],-1]\n",
    "    ytst = Y_bsd2[all.test.id[,i]]\n",
    "    myridge.lambda.seq = exp(seq(-10, -2, length.out = 100))\n",
    "\n",
    "    # get linear full model MSPE\n",
    "    full_mod_MSPE = full.model(trn, ytrn, tst, ytst)\n",
    "    \n",
    "    # get ridge regression MSPE\n",
    "    ridge_MSPE = ridge_reg_mod(trn, ytrn, tst, ytst, myridge.lambda.seq)\n",
    "    ridge_min_lam_MSPE = ridge_MSPE[1]\n",
    "    ridge_1se_lam = ridge_MSPE[2]\n",
    "    \n",
    "    # get lasso regression MSPE\n",
    "    lasso_MSPE = lasso_reg_mod(trn, ytrn, tst, ytst, myridge.lambda.seq)\n",
    "    ridge_min_lam_MSPE = lasso_MSPE[1]\n",
    "    ridge_1se_lam = lasso_MSPE[2]\n",
    "    lm_coef_by_lasso = lasso_MSPE[3]\n",
    "    \n",
    "    #get pcr MSPE\n",
    "    pcr_mspe = pcr_mod(trn, ytrn, tst, ytst)\n",
    "    \n",
    "    bsd2_mspe[i, ] = (c(full_mod_MSPE, ridge_min_lam_MSPE, ridge_1se_lam, ridge_min_lam_MSPE, \n",
    "           ridge_1se_lam, lm_coef_by_lasso, pcr_mspe))\n",
    "    \n",
    "}"
   ]
  },
  {
   "cell_type": "code",
   "execution_count": 26,
   "id": "9970e4a8",
   "metadata": {
    "scrolled": true
   },
   "outputs": [
    {
     "data": {
      "text/html": [
       "<table>\n",
       "<thead><tr><th scope=col>Full</th><th scope=col>R_min</th><th scope=col>R_1se</th><th scope=col>L_min</th><th scope=col>L_1se</th><th scope=col>L_Refit</th><th scope=col>PCR</th></tr></thead>\n",
       "<tbody>\n",
       "\t<tr><td>0.04053788</td><td>0.03444941</td><td>0.03316166</td><td>0.03444941</td><td>0.03316166</td><td>0.03614341</td><td>0.03864002</td></tr>\n",
       "\t<tr><td>0.02958547</td><td>0.02394157</td><td>0.02666824</td><td>0.02394157</td><td>0.02666824</td><td>0.02780697</td><td>0.02606226</td></tr>\n",
       "\t<tr><td>0.04396523</td><td>0.03640127</td><td>0.03676592</td><td>0.03640127</td><td>0.03676592</td><td>0.04109177</td><td>0.04296312</td></tr>\n",
       "\t<tr><td>0.02394863</td><td>0.02671897</td><td>0.03363290</td><td>0.02671897</td><td>0.03363290</td><td>0.03140306</td><td>0.02531125</td></tr>\n",
       "\t<tr><td>0.02802986</td><td>0.03113314</td><td>0.02690664</td><td>0.03113314</td><td>0.02690664</td><td>0.03411280</td><td>0.02763480</td></tr>\n",
       "</tbody>\n",
       "</table>\n"
      ],
      "text/latex": [
       "\\begin{tabular}{r|lllllll}\n",
       " Full & R\\_min & R\\_1se & L\\_min & L\\_1se & L\\_Refit & PCR\\\\\n",
       "\\hline\n",
       "\t 0.04053788 & 0.03444941 & 0.03316166 & 0.03444941 & 0.03316166 & 0.03614341 & 0.03864002\\\\\n",
       "\t 0.02958547 & 0.02394157 & 0.02666824 & 0.02394157 & 0.02666824 & 0.02780697 & 0.02606226\\\\\n",
       "\t 0.04396523 & 0.03640127 & 0.03676592 & 0.03640127 & 0.03676592 & 0.04109177 & 0.04296312\\\\\n",
       "\t 0.02394863 & 0.02671897 & 0.03363290 & 0.02671897 & 0.03363290 & 0.03140306 & 0.02531125\\\\\n",
       "\t 0.02802986 & 0.03113314 & 0.02690664 & 0.03113314 & 0.02690664 & 0.03411280 & 0.02763480\\\\\n",
       "\\end{tabular}\n"
      ],
      "text/markdown": [
       "\n",
       "| Full | R_min | R_1se | L_min | L_1se | L_Refit | PCR |\n",
       "|---|---|---|---|---|---|---|\n",
       "| 0.04053788 | 0.03444941 | 0.03316166 | 0.03444941 | 0.03316166 | 0.03614341 | 0.03864002 |\n",
       "| 0.02958547 | 0.02394157 | 0.02666824 | 0.02394157 | 0.02666824 | 0.02780697 | 0.02606226 |\n",
       "| 0.04396523 | 0.03640127 | 0.03676592 | 0.03640127 | 0.03676592 | 0.04109177 | 0.04296312 |\n",
       "| 0.02394863 | 0.02671897 | 0.03363290 | 0.02671897 | 0.03363290 | 0.03140306 | 0.02531125 |\n",
       "| 0.02802986 | 0.03113314 | 0.02690664 | 0.03113314 | 0.02690664 | 0.03411280 | 0.02763480 |\n",
       "\n"
      ],
      "text/plain": [
       "  Full       R_min      R_1se      L_min      L_1se      L_Refit    PCR       \n",
       "1 0.04053788 0.03444941 0.03316166 0.03444941 0.03316166 0.03614341 0.03864002\n",
       "2 0.02958547 0.02394157 0.02666824 0.02394157 0.02666824 0.02780697 0.02606226\n",
       "3 0.04396523 0.03640127 0.03676592 0.03640127 0.03676592 0.04109177 0.04296312\n",
       "4 0.02394863 0.02671897 0.03363290 0.02671897 0.03363290 0.03140306 0.02531125\n",
       "5 0.02802986 0.03113314 0.02690664 0.03113314 0.02690664 0.03411280 0.02763480"
      ]
     },
     "metadata": {},
     "output_type": "display_data"
    }
   ],
   "source": [
    "head(bsd2_mspe, 5)"
   ]
  },
  {
   "cell_type": "code",
   "execution_count": 28,
   "id": "18d0506e",
   "metadata": {},
   "outputs": [],
   "source": [
    "# reorder the dataframe for boxplot\n",
    "bsd2_box = data.frame(matrix(ncol = 2, nrow = 0))\n",
    "names(bsd2_box) = c(\"Method\", 'MSPE')\n",
    "\n",
    "for (col in names(bsd2_mspe)){\n",
    "    bsd2_col = data.frame(rep(col, 50), bsd2_mspe[, col])\n",
    "    names(bsd2_col) = c(\"Method\", 'MSPE')\n",
    "    bsd2_box = rbind(bsd2_box, bsd2_col)\n",
    "}"
   ]
  },
  {
   "cell_type": "code",
   "execution_count": 35,
   "id": "02d2b7c8",
   "metadata": {},
   "outputs": [
    {
     "data": {
      "image/png": "[encoded data removed]",
      "text/plain": [
       "plot without title"
      ]
     },
     "metadata": {},
     "output_type": "display_data"
    }
   ],
   "source": [
    "library('ggplot2')\n",
    "ggplot(bsd2_box, aes(x = Method, y = MSPE, fill = Method)) + \n",
    "  geom_boxplot()"
   ]
  },
  {
   "cell_type": "markdown",
   "id": "051a7248",
   "metadata": {},
   "source": [
    "### <a id='part2_7'>Part II 7. Simulation on BostonData3.csv</a>"
   ]
  },
  {
   "cell_type": "code",
   "execution_count": 30,
   "id": "c63ed8fa",
   "metadata": {
    "scrolled": true
   },
   "outputs": [
    {
     "data": {
      "text/html": [
       "<ol class=list-inline>\n",
       "\t<li>506</li>\n",
       "\t<li>592</li>\n",
       "</ol>\n"
      ],
      "text/latex": [
       "\\begin{enumerate*}\n",
       "\\item 506\n",
       "\\item 592\n",
       "\\end{enumerate*}\n"
      ],
      "text/markdown": [
       "1. 506\n",
       "2. 592\n",
       "\n",
       "\n"
      ],
      "text/plain": [
       "[1] 506 592"
      ]
     },
     "metadata": {},
     "output_type": "display_data"
    }
   ],
   "source": [
    "# load data for this simulation\n",
    "df_bsd3 = read.csv(\"BostonData3.csv\")\n",
    "df_bsd3 = df_bsd3[, -1]\n",
    "dim(df_bsd3)"
   ]
  },
  {
   "cell_type": "code",
   "execution_count": 31,
   "id": "f4249627",
   "metadata": {},
   "outputs": [
    {
     "data": {
      "text/html": [
       "<table>\n",
       "<thead><tr><th scope=col>Y</th><th scope=col>crim</th><th scope=col>zn</th><th scope=col>indus</th><th scope=col>chas</th><th scope=col>nox</th><th scope=col>rm</th><th scope=col>age</th><th scope=col>dis</th><th scope=col>rad</th><th scope=col>...</th><th scope=col>V491</th><th scope=col>V492</th><th scope=col>V493</th><th scope=col>V494</th><th scope=col>V495</th><th scope=col>V496</th><th scope=col>V497</th><th scope=col>V498</th><th scope=col>V499</th><th scope=col>V500</th></tr></thead>\n",
       "<tbody>\n",
       "\t<tr><td>3.178054    </td><td>-5.064036   </td><td>1.8         </td><td>0.8372475   </td><td>0           </td><td>-0.6198967  </td><td>1.883275    </td><td>3.432567    </td><td>1.408545    </td><td>0.0000000   </td><td>...         </td><td>9.311734    </td><td>42.34041    </td><td>-98.23702   </td><td>-0.218876414</td><td>242.3782    </td><td>22.91441    </td><td>2.833203    </td><td>-0.7315671  </td><td>188.33876   </td><td> 5.603043   </td></tr>\n",
       "\t<tr><td>3.072693    </td><td>-3.600502   </td><td>0.0         </td><td>1.9558605   </td><td>0           </td><td>-0.7571525  </td><td>1.859574    </td><td>5.529585    </td><td>1.602836    </td><td>0.6931472   </td><td>...         </td><td>2.483401    </td><td>42.54168    </td><td>-78.16123   </td><td> 0.006359093</td><td>230.5006    </td><td>21.37800    </td><td>7.343570    </td><td>-0.7721275  </td><td> 54.12018   </td><td>12.177419   </td></tr>\n",
       "</tbody>\n",
       "</table>\n"
      ],
      "text/latex": [
       "\\begin{tabular}{r|llllllllllllllllllllllllllllllllllllllllllllllllllllllllllllllllllllllllllllllllllllllllllllllllllllllllllllllllllllllllllllllllllllllllllllllllllllllllllllllllllllllllllllllllllllllllllllllllllllllllllllllllllllllllllllllllllllllllllllllllllllllllllllllllllllllllllllllllllllllllllllllllllllllllllllllllllllllllllllllllllllllllllllllllllllllllllllllllllllllllllllllllllllllllllllllllllllllllllllllllllllllllllllllllllllllllllllllllllllllllllllllllllllllllllllllllllllllllllllllllllllllllllllllllllllllllllllllllllllllllllllllllllllllllllllllllllllllllllllllllllllllllllllllllllllllllllllllll}\n",
       " Y & crim & zn & indus & chas & nox & rm & age & dis & rad & ... & V491 & V492 & V493 & V494 & V495 & V496 & V497 & V498 & V499 & V500\\\\\n",
       "\\hline\n",
       "\t 3.178054     & -5.064036    & 1.8          & 0.8372475    & 0            & -0.6198967   & 1.883275     & 3.432567     & 1.408545     & 0.0000000    & ...          & 9.311734     & 42.34041     & -98.23702    & -0.218876414 & 242.3782     & 22.91441     & 2.833203     & -0.7315671   & 188.33876    &  5.603043   \\\\\n",
       "\t 3.072693     & -3.600502    & 0.0          & 1.9558605    & 0            & -0.7571525   & 1.859574     & 5.529585     & 1.602836     & 0.6931472    & ...          & 2.483401     & 42.54168     & -78.16123    &  0.006359093 & 230.5006     & 21.37800     & 7.343570     & -0.7721275   &  54.12018    & 12.177419   \\\\\n",
       "\\end{tabular}\n"
      ],
      "text/markdown": [
       "\n",
       "| Y | crim | zn | indus | chas | nox | rm | age | dis | rad | ... | V491 | V492 | V493 | V494 | V495 | V496 | V497 | V498 | V499 | V500 |\n",
       "|---|---|---|---|---|---|---|---|---|---|---|---|---|---|---|---|---|---|---|---|---|\n",
       "| 3.178054     | -5.064036    | 1.8          | 0.8372475    | 0            | -0.6198967   | 1.883275     | 3.432567     | 1.408545     | 0.0000000    | ...          | 9.311734     | 42.34041     | -98.23702    | -0.218876414 | 242.3782     | 22.91441     | 2.833203     | -0.7315671   | 188.33876    |  5.603043    |\n",
       "| 3.072693     | -3.600502    | 0.0          | 1.9558605    | 0            | -0.7571525   | 1.859574     | 5.529585     | 1.602836     | 0.6931472    | ...          | 2.483401     | 42.54168     | -78.16123    |  0.006359093 | 230.5006     | 21.37800     | 7.343570     | -0.7721275   |  54.12018    | 12.177419    |\n",
       "\n"
      ],
      "text/plain": [
       "  Y        crim      zn  indus     chas nox        rm       age      dis     \n",
       "1 3.178054 -5.064036 1.8 0.8372475 0    -0.6198967 1.883275 3.432567 1.408545\n",
       "2 3.072693 -3.600502 0.0 1.9558605 0    -0.7571525 1.859574 5.529585 1.602836\n",
       "  rad       ... V491     V492     V493      V494         V495     V496    \n",
       "1 0.0000000 ... 9.311734 42.34041 -98.23702 -0.218876414 242.3782 22.91441\n",
       "2 0.6931472 ... 2.483401 42.54168 -78.16123  0.006359093 230.5006 21.37800\n",
       "  V497     V498       V499      V500     \n",
       "1 2.833203 -0.7315671 188.33876  5.603043\n",
       "2 7.343570 -0.7721275  54.12018 12.177419"
      ]
     },
     "metadata": {},
     "output_type": "display_data"
    }
   ],
   "source": [
    "head(df_bsd3,2)"
   ]
  },
  {
   "cell_type": "code",
   "execution_count": 32,
   "id": "1280c9e5",
   "metadata": {},
   "outputs": [],
   "source": [
    "X_bsd3 = data.matrix(df_bsd3[,-1])  \n",
    "Y_bsd3 = data.matrix(df_bsd3[,1])"
   ]
  },
  {
   "cell_type": "code",
   "execution_count": 36,
   "id": "7c9743d6",
   "metadata": {},
   "outputs": [],
   "source": [
    "bsd3_mspe = data.frame(matrix(ncol = 6, nrow = 0))\n",
    "names(bsd3_mspe) = c(\"R_min\", \"R_1se\", \"L_min\", \"L_1se\", \"L_Refit\", \"PCR\")"
   ]
  },
  {
   "cell_type": "code",
   "execution_count": 37,
   "id": "c57aadff",
   "metadata": {},
   "outputs": [],
   "source": [
    "for (i in 1:50){\n",
    "    trn = X_bsd3[-all.test.id[,i],-1]\n",
    "    ytrn = Y_bsd3[-all.test.id[,i]]\n",
    "    tst = X_bsd3[all.test.id[,i],-1]\n",
    "    ytst = Y_bsd3[all.test.id[,i]]\n",
    "    myridge.lambda.seq = exp(seq(-10, -2, length.out = 100))\n",
    "     \n",
    "    # get ridge regression MSPE\n",
    "    ridge_MSPE = ridge_reg_mod(trn, ytrn, tst, ytst, myridge.lambda.seq)\n",
    "    ridge_min_lam_MSPE = ridge_MSPE[1]\n",
    "    ridge_1se_lam = ridge_MSPE[2]\n",
    "        \n",
    "    # get lasso regression MSPE\n",
    "    lasso_MSPE = lasso_reg_mod(trn, ytrn, tst, ytst, myridge.lambda.seq)\n",
    "    ridge_min_lam_MSPE = lasso_MSPE[1]\n",
    "    ridge_1se_lam = lasso_MSPE[2]\n",
    "    lm_coef_by_lasso = lasso_MSPE[3]\n",
    "        \n",
    "    #get pcr MSPE\n",
    "    pcr_mspe = pcr_mod(trn, ytrn, tst, ytst)\n",
    "    \n",
    "    bsd3_mspe[i, ] = c(ridge_min_lam_MSPE, ridge_1se_lam, ridge_min_lam_MSPE, \n",
    "           ridge_1se_lam, lm_coef_by_lasso, pcr_mspe)\n",
    "    \n",
    "}"
   ]
  },
  {
   "cell_type": "code",
   "execution_count": 38,
   "id": "7848ccc4",
   "metadata": {},
   "outputs": [],
   "source": [
    "# reorder the dataframe for boxplot\n",
    "bsd3_box = data.frame(matrix(ncol = 2, nrow = 0))\n",
    "names(bsd3_box) = c(\"Method\", 'MSPE')\n",
    "\n",
    "for (col in names(bsd3_mspe)){\n",
    "    bsd3_col = data.frame(rep(col, 50), bsd3_mspe[, col])\n",
    "    names(bsd3_col) = c(\"Method\", 'MSPE')\n",
    "    bsd3_box = rbind(bsd3_box, bsd3_col)\n",
    "}"
   ]
  },
  {
   "cell_type": "code",
   "execution_count": 39,
   "id": "36a55502",
   "metadata": {},
   "outputs": [
    {
     "data": {
      "image/png": "[encoded data removed]",
      "text/plain": [
       "plot without title"
      ]
     },
     "metadata": {},
     "output_type": "display_data"
    }
   ],
   "source": [
    "library('ggplot2')\n",
    "ggplot(bsd3_box, aes(x = Method, y = MSPE, fill = Method)) + \n",
    "  geom_boxplot()"
   ]
  },
  {
   "cell_type": "markdown",
   "id": "79226995",
   "metadata": {},
   "source": [
    "> Insights:\n",
    "\n",
    "> Full model is performing worse with boston data 3 since there is multicolinearity.\n",
    "\n",
    "> PCR works well on boston data 2 vs boston data 3.\n",
    "\n",
    "> Mean Prediction Error of minimum lamba option is less compared to 1se lambda."
   ]
  },
  {
   "cell_type": "code",
   "execution_count": null,
   "id": "c5567bdb",
   "metadata": {},
   "outputs": [],
   "source": []
  },
  {
   "cell_type": "code",
   "execution_count": null,
   "id": "5153f00f",
   "metadata": {},
   "outputs": [],
   "source": []
  }
 ],
 "metadata": {
  "kernelspec": {
   "display_name": "R",
   "language": "R",
   "name": "ir"
  },
  "language_info": {
   "codemirror_mode": "r",
   "file_extension": ".r",
   "mimetype": "text/x-r-source",
   "name": "R",
   "pygments_lexer": "r",
   "version": "3.6.1"
  }
 },
 "nbformat": 4,
 "nbformat_minor": 5
}
