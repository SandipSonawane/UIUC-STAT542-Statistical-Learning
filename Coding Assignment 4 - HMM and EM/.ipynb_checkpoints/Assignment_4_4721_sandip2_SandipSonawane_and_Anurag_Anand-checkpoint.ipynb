{
 "cells": [
  {
   "cell_type": "markdown",
   "id": "russian-settlement",
   "metadata": {},
   "source": [
    "# Coding Assignment 4 (Part II) "
   ]
  },
  {
   "cell_type": "markdown",
   "id": "comparable-pattern",
   "metadata": {},
   "source": [
    "## The Baum-Welch algorihtm\n",
    "\n",
    "The Baum-Welch Algorihtm is the EM algorithm for HMM. You should prepare a function BW.onestep to perform the E-step and M-step, and then iteratively call that function in myBW."
   ]
  },
  {
   "cell_type": "code",
   "execution_count": 20,
   "id": "terminal-brooklyn",
   "metadata": {},
   "outputs": [],
   "source": [
    "# The Baum-Welch algorihtm\n",
    "\n",
    "myBW = function(x, para, n.iter = 100){\n",
    "  # Input:\n",
    "  # x: T-by-1 observation sequence\n",
    "  # para: initial parameter value\n",
    "  # Output updated para value (A and B; we do not update w)\n",
    "\n",
    "  for(i in 1:n.iter){\n",
    "    para = BW.onestep(x, para)\n",
    "  }\n",
    "  return(para)\n",
    "}"
   ]
  },
  {
   "cell_type": "code",
   "execution_count": 21,
   "id": "standing-humidity",
   "metadata": {},
   "outputs": [],
   "source": [
    "####### Your function BW.onestep, in which we operate the E-step and M-step for one iteration, should look as follows.\n",
    "\n",
    "BW.onestep = function(x, para){\n",
    "  # Input: \n",
    "  # x: T-by-1 observation sequence\n",
    "  # para: mx, mz, and current para values for\n",
    "  #    A: initial estimate for mz-by-mz transition matrix\n",
    "  #    B: initial estimate for mz-by-mx emission matrix\n",
    "  #    w: initial estimate for mz-by-1 initial distribution over Z_1\n",
    "  # Output the updated parameters after one iteration\n",
    "  # We DO NOT update the initial distribution w\n",
    "\n",
    "  # Initialization step\n",
    "  T = length(x)\n",
    "  mz = para$mz\n",
    "  mx = para$mx\n",
    "  A = para$A\n",
    "  B = para$B\n",
    "  w = para$w\n",
    "  alp = forward.prob(x, para)\n",
    "  beta = backward.prob(x, para)\n",
    "  \n",
    "  myGamma = array(0, dim=c(mz, mz, T-1))\n",
    "  #######################################\n",
    "  ## YOUR CODE: \n",
    "  ## Compute gamma_t(i,j) P(Z[t] = i, Z[t+1]=j), \n",
    "  ## for t=1:T-1, i=1:mz, j=1:mz, \n",
    "  ## which are stored in an array, myGamma\n",
    "  \n",
    "  #######################################\n",
    "  \n",
    "  # M-step for parameter A\n",
    "  #######################################\n",
    "  ## YOUR CODE: \n",
    "  ## A = ....\n",
    "  #######################################\n",
    "  \n",
    "  for(t in 1:T-1){\n",
    "    denominator = ((alp[t,] %*% A) * B[,x[t+1]]) %*% matrix(beta[t+1,]) \n",
    "    for(s in 1:mz){\n",
    "      numerator = alp[t,s] * A[s,] * B[,x[t+1]] * beta[t+1,]\n",
    "      myGamma[s,,t]=numerator/as.vector(denominator)\n",
    "    }\n",
    "  }\n",
    "  \n",
    "  myGamma.all.t = rowSums(myGamma, dims = 2)\n",
    "  A = myGamma.all.t/rowSums(myGamma.all.t)\n",
    "  \n",
    "  # M-step for parameter B\n",
    "  #######################################\n",
    "  ## YOUR CODE: \n",
    "  ## B = ....\n",
    "  #######################################\n",
    "  \n",
    "  gamma = apply(myGamma, c(1, 3), sum)  \n",
    "  gamma = cbind(gamma, colSums(myGamma[, , T-1]))\n",
    "  for(l in 1:mx){\n",
    "    B[, l] = rowSums(gamma[, which(x==l)])\n",
    "  }\n",
    "  B = B/rowSums(B)\n",
    "  \n",
    "  para$A = A\n",
    "  para$B = B\n",
    "  return(para)\n",
    "}"
   ]
  },
  {
   "cell_type": "markdown",
   "id": "casual-statistics",
   "metadata": {},
   "source": [
    "Calculate forward and backward probabilities"
   ]
  },
  {
   "cell_type": "code",
   "execution_count": 22,
   "id": "mediterranean-nebraska",
   "metadata": {},
   "outputs": [],
   "source": [
    "\n",
    "# forward-backward probabilities\n",
    "\n",
    "forward.prob = function(x, para){\n",
    "  # Output the forward probability matrix alp \n",
    "  # alp: T by mz, (t, i) entry = P(x_{1:t}, Z_t = i)\n",
    "  T = length(x)\n",
    "  mz = para$mz\n",
    "  A = para$A\n",
    "  B = para$B\n",
    "  w = para$w\n",
    "  alp = matrix(0, T, mz)\n",
    "  \n",
    "  # fill in the first row of alp\n",
    "  alp[1, ] = w * B[, x[1]]\n",
    "  # Recursively compute the remaining rows of alp\n",
    "  for(t in 2:T){\n",
    "    tmp = alp[t-1, ] %*% A\n",
    "    alp[t, ] = tmp * B[, x[t]]\n",
    "  }\n",
    "  return(alp)\n",
    "}\n",
    "\n",
    "backward.prob = function(x, para){\n",
    "  # Output the backward probability matrix beta\n",
    "  # beta: T by mz, (t, i) entry = P(x_{1:t}, Z_t = i)\n",
    "  T = length(x)\n",
    "  mz = para$mz\n",
    "  A = para$A\n",
    "  B = para$B\n",
    "  w = para$w\n",
    "  beta = matrix(1, T, mz)\n",
    "  \n",
    "  # The last row of beta is all 1.\n",
    "  # Recursively compute the previous rows of beta\n",
    "  for(t in (T-1):1){\n",
    "    tmp = as.matrix(beta[t+1, ] * B[, x[t+1]])  # make tmp a column vector\n",
    "    beta[t, ] = t(A %*% tmp)\n",
    "  }\n",
    "  return(beta)\n",
    "}\n"
   ]
  },
  {
   "cell_type": "markdown",
   "id": "exterior-wealth",
   "metadata": {},
   "source": [
    "## The Viterbi algorihtm"
   ]
  },
  {
   "cell_type": "code",
   "execution_count": 23,
   "id": "becoming-involvement",
   "metadata": {},
   "outputs": [],
   "source": [
    "myViterbi = function(x, para){\n",
    "  # Output: most likely sequence of Z (T-by-1)\n",
    "  T = length(x)\n",
    "  mz = para$mz\n",
    "  A = para$A\n",
    "  B = para$B\n",
    "  w = para$w\n",
    "  log.A = log(A)\n",
    "  log.w = log(w)\n",
    "  log.B = log(B)\n",
    "  \n",
    "  previous = matrix(0, T-1, mz)\n",
    "  # Compute delta (in log-scale)\n",
    "  delta = matrix(0, mz, T) \n",
    "  # fill in the first row of delta\n",
    "  delta[, 1] = log.w + log.B[, x[1]]\n",
    "  \n",
    "  #######################################\n",
    "  ## YOUR CODE: \n",
    "  ## Recursively compute the remaining rows of delta\n",
    "  #######################################\n",
    "  for(t in 2:T){\n",
    "    for(s in 1:mz) {\n",
    "      probs = delta[, t - 1] + log.A[, s] + log.B[s, x[t]]\n",
    "      previous[t - 1, s] = which.max(probs)\n",
    "      delta[s, t] = max(probs)\n",
    "    }\n",
    "  }\n",
    "  \n",
    "  \n",
    "  # Compute the most prob sequence Z\n",
    "  Z = rep(0, T)\n",
    "  # start with the last entry of Z\n",
    "  last_state=which.max(delta[,ncol(delta)])\n",
    "  Z[1]=last_state\n",
    "  \n",
    "  #######################################\n",
    "  ## YOUR CODE: \n",
    "  ## Recursively compute the remaining entries of Z\n",
    "  #######################################\n",
    "\n",
    "  j=2\n",
    "  for(i in (T-1):1){\n",
    "    Z[j]=previous[i,last_state] \n",
    "    last_state=previous[i,last_state] \n",
    "    j=j+1\n",
    "  }\n",
    "  \n",
    "  Z[which(Z==1)]='A'\n",
    "  Z[which(Z==2)]='B'\n",
    "  \n",
    "  Z=rev(Z)\n",
    "  \n",
    "\n",
    "  return(Z)\n",
    "}"
   ]
  },
  {
   "cell_type": "markdown",
   "id": "equipped-three",
   "metadata": {},
   "source": [
    "## Test function\n",
    "\n",
    "### Result\n",
    "Try your code on the data provided on Campuswire. You can (i) use the initial values specified below or (ii) use your own initial values. For the latter, remember to set the seed as the last four digits of your UIN."
   ]
  },
  {
   "cell_type": "code",
   "execution_count": 24,
   "id": "compressed-gallery",
   "metadata": {},
   "outputs": [],
   "source": [
    "# Test your function\n",
    "\n",
    "data = scan(\"coding4_part2_data.txt\")\n",
    "\n",
    "mz = 2\n",
    "mx = 3\n",
    "ini.w = rep(1, mz); ini.w = ini.w / sum(ini.w)\n",
    "ini.A = matrix(1, 2, 2); ini.A = ini.A / rowSums(ini.A)\n",
    "ini.B = matrix(1:6, 2, 3); ini.B = ini.B / rowSums(ini.B)\n",
    "ini.para = list(mz = 2, mx = 3, w = ini.w,\n",
    "                A = ini.A, B = ini.B)\n",
    "\n",
    "myout = myBW(data, ini.para, n.iter = 100)\n",
    "myout.Z = myViterbi(data, myout)\n",
    "myout.Z[myout.Z==1] = 'A'\n",
    "myout.Z[myout.Z==2] = 'B'"
   ]
  },
  {
   "cell_type": "markdown",
   "id": "tracked-gambling",
   "metadata": {},
   "source": [
    "### Result from HMM"
   ]
  },
  {
   "cell_type": "code",
   "execution_count": 25,
   "id": "charming-atlas",
   "metadata": {},
   "outputs": [],
   "source": [
    "library(HMM)\n",
    "hmm0 =initHMM(c(\"A\", \"B\"), c(1, 2, 3),\n",
    "              startProbs = ini.w,\n",
    "              transProbs = ini.A, \n",
    "              emissionProbs = ini.B)\n",
    "Rout = baumWelch(hmm0, data, maxIterations=100, delta=1E-9, pseudoCount=0)\n",
    "Rout.Z = viterbi(Rout$hmm, data)"
   ]
  },
  {
   "cell_type": "markdown",
   "id": "verified-metabolism",
   "metadata": {},
   "source": [
    "### Compare two results"
   ]
  },
  {
   "cell_type": "markdown",
   "id": "major-gnome",
   "metadata": {},
   "source": [
    "Compare estimates for transition prob matrix A"
   ]
  },
  {
   "cell_type": "code",
   "execution_count": 26,
   "id": "passing-holocaust",
   "metadata": {},
   "outputs": [
    {
     "data": {
      "text/html": [
       "8"
      ],
      "text/latex": [
       "8"
      ],
      "text/markdown": [
       "8"
      ],
      "text/plain": [
       "[1] 8"
      ]
     },
     "metadata": {},
     "output_type": "display_data"
    },
    {
     "data": {
      "text/html": [
       "<table>\n",
       "<tbody>\n",
       "\t<tr><td>0.49793938</td><td>0.50206062</td></tr>\n",
       "\t<tr><td>0.44883431</td><td>0.55116569</td></tr>\n",
       "</tbody>\n",
       "</table>\n"
      ],
      "text/latex": [
       "\\begin{tabular}{ll}\n",
       "\t 0.49793938 & 0.50206062\\\\\n",
       "\t 0.44883431 & 0.55116569\\\\\n",
       "\\end{tabular}\n"
      ],
      "text/markdown": [
       "\n",
       "| 0.49793938 | 0.50206062 |\n",
       "| 0.44883431 | 0.55116569 |\n",
       "\n"
      ],
      "text/plain": [
       "     [,1]       [,2]      \n",
       "[1,] 0.49793938 0.50206062\n",
       "[2,] 0.44883431 0.55116569"
      ]
     },
     "metadata": {},
     "output_type": "display_data"
    },
    {
     "data": {
      "text/html": [
       "<table>\n",
       "<thead><tr><th></th><th scope=col>A</th><th scope=col>B</th></tr></thead>\n",
       "<tbody>\n",
       "\t<tr><th scope=row>A</th><td>0.49793938</td><td>0.50206062</td></tr>\n",
       "\t<tr><th scope=row>B</th><td>0.44883431</td><td>0.55116569</td></tr>\n",
       "</tbody>\n",
       "</table>\n"
      ],
      "text/latex": [
       "\\begin{tabular}{r|ll}\n",
       "  & A & B\\\\\n",
       "\\hline\n",
       "\tA & 0.49793938 & 0.50206062\\\\\n",
       "\tB & 0.44883431 & 0.55116569\\\\\n",
       "\\end{tabular}\n"
      ],
      "text/markdown": [
       "\n",
       "| <!--/--> | A | B |\n",
       "|---|---|---|\n",
       "| A | 0.49793938 | 0.50206062 |\n",
       "| B | 0.44883431 | 0.55116569 |\n",
       "\n"
      ],
      "text/plain": [
       "    to\n",
       "from A          B         \n",
       "   A 0.49793938 0.50206062\n",
       "   B 0.44883431 0.55116569"
      ]
     },
     "metadata": {},
     "output_type": "display_data"
    }
   ],
   "source": [
    "# Compare two results\n",
    "options(digits=8)\n",
    "options()$digits\n",
    "\n",
    "myout$A\n",
    "Rout$hmm$transProbs"
   ]
  },
  {
   "cell_type": "markdown",
   "id": "expected-entry",
   "metadata": {},
   "source": [
    "Compare estimates for emission prob matrix B"
   ]
  },
  {
   "cell_type": "code",
   "execution_count": 27,
   "id": "decimal-hardwood",
   "metadata": {},
   "outputs": [
    {
     "data": {
      "text/html": [
       "<table>\n",
       "<tbody>\n",
       "\t<tr><td>0.22159897</td><td>0.20266127</td><td>0.57573976</td></tr>\n",
       "\t<tr><td>0.34175148</td><td>0.17866665</td><td>0.47958186</td></tr>\n",
       "</tbody>\n",
       "</table>\n"
      ],
      "text/latex": [
       "\\begin{tabular}{lll}\n",
       "\t 0.22159897 & 0.20266127 & 0.57573976\\\\\n",
       "\t 0.34175148 & 0.17866665 & 0.47958186\\\\\n",
       "\\end{tabular}\n"
      ],
      "text/markdown": [
       "\n",
       "| 0.22159897 | 0.20266127 | 0.57573976 |\n",
       "| 0.34175148 | 0.17866665 | 0.47958186 |\n",
       "\n"
      ],
      "text/plain": [
       "     [,1]       [,2]       [,3]      \n",
       "[1,] 0.22159897 0.20266127 0.57573976\n",
       "[2,] 0.34175148 0.17866665 0.47958186"
      ]
     },
     "metadata": {},
     "output_type": "display_data"
    },
    {
     "data": {
      "text/html": [
       "<table>\n",
       "<thead><tr><th></th><th scope=col>1</th><th scope=col>2</th><th scope=col>3</th></tr></thead>\n",
       "<tbody>\n",
       "\t<tr><th scope=row>A</th><td>0.22159897</td><td>0.20266127</td><td>0.57573976</td></tr>\n",
       "\t<tr><th scope=row>B</th><td>0.34175148</td><td>0.17866665</td><td>0.47958186</td></tr>\n",
       "</tbody>\n",
       "</table>\n"
      ],
      "text/latex": [
       "\\begin{tabular}{r|lll}\n",
       "  & 1 & 2 & 3\\\\\n",
       "\\hline\n",
       "\tA & 0.22159897 & 0.20266127 & 0.57573976\\\\\n",
       "\tB & 0.34175148 & 0.17866665 & 0.47958186\\\\\n",
       "\\end{tabular}\n"
      ],
      "text/markdown": [
       "\n",
       "| <!--/--> | 1 | 2 | 3 |\n",
       "|---|---|---|---|\n",
       "| A | 0.22159897 | 0.20266127 | 0.57573976 |\n",
       "| B | 0.34175148 | 0.17866665 | 0.47958186 |\n",
       "\n"
      ],
      "text/plain": [
       "      symbols\n",
       "states 1          2          3         \n",
       "     A 0.22159897 0.20266127 0.57573976\n",
       "     B 0.34175148 0.17866665 0.47958186"
      ]
     },
     "metadata": {},
     "output_type": "display_data"
    }
   ],
   "source": [
    "myout$B\n",
    "Rout$hmm$emissionProbs"
   ]
  },
  {
   "cell_type": "markdown",
   "id": "subjective-reynolds",
   "metadata": {},
   "source": [
    "Compare the most probable Z sequence."
   ]
  },
  {
   "cell_type": "code",
   "execution_count": 28,
   "id": "harmful-scale",
   "metadata": {},
   "outputs": [
    {
     "data": {
      "text/html": [
       "<table>\n",
       "<thead><tr><th scope=col>Rout.Z</th><th scope=col>myout.Z</th></tr></thead>\n",
       "<tbody>\n",
       "\t<tr><td>A</td><td>A</td></tr>\n",
       "\t<tr><td>A</td><td>A</td></tr>\n",
       "\t<tr><td>A</td><td>A</td></tr>\n",
       "\t<tr><td>A</td><td>A</td></tr>\n",
       "\t<tr><td>A</td><td>A</td></tr>\n",
       "\t<tr><td>A</td><td>A</td></tr>\n",
       "\t<tr><td>A</td><td>A</td></tr>\n",
       "\t<tr><td>B</td><td>B</td></tr>\n",
       "\t<tr><td>A</td><td>A</td></tr>\n",
       "\t<tr><td>A</td><td>A</td></tr>\n",
       "\t<tr><td>B</td><td>B</td></tr>\n",
       "\t<tr><td>A</td><td>A</td></tr>\n",
       "\t<tr><td>A</td><td>A</td></tr>\n",
       "\t<tr><td>A</td><td>A</td></tr>\n",
       "\t<tr><td>A</td><td>A</td></tr>\n",
       "\t<tr><td>A</td><td>A</td></tr>\n",
       "\t<tr><td>A</td><td>A</td></tr>\n",
       "\t<tr><td>A</td><td>A</td></tr>\n",
       "\t<tr><td>A</td><td>A</td></tr>\n",
       "\t<tr><td>B</td><td>B</td></tr>\n",
       "\t<tr><td>B</td><td>B</td></tr>\n",
       "\t<tr><td>B</td><td>B</td></tr>\n",
       "\t<tr><td>B</td><td>B</td></tr>\n",
       "\t<tr><td>B</td><td>B</td></tr>\n",
       "\t<tr><td>A</td><td>A</td></tr>\n",
       "\t<tr><td>A</td><td>A</td></tr>\n",
       "\t<tr><td>A</td><td>A</td></tr>\n",
       "\t<tr><td>A</td><td>A</td></tr>\n",
       "\t<tr><td>A</td><td>A</td></tr>\n",
       "\t<tr><td>A</td><td>A</td></tr>\n",
       "\t<tr><td>A</td><td>A</td></tr>\n",
       "</tbody>\n",
       "</table>\n"
      ],
      "text/latex": [
       "\\begin{tabular}{ll}\n",
       " Rout.Z & myout.Z\\\\\n",
       "\\hline\n",
       "\t A & A\\\\\n",
       "\t A & A\\\\\n",
       "\t A & A\\\\\n",
       "\t A & A\\\\\n",
       "\t A & A\\\\\n",
       "\t A & A\\\\\n",
       "\t A & A\\\\\n",
       "\t B & B\\\\\n",
       "\t A & A\\\\\n",
       "\t A & A\\\\\n",
       "\t B & B\\\\\n",
       "\t A & A\\\\\n",
       "\t A & A\\\\\n",
       "\t A & A\\\\\n",
       "\t A & A\\\\\n",
       "\t A & A\\\\\n",
       "\t A & A\\\\\n",
       "\t A & A\\\\\n",
       "\t A & A\\\\\n",
       "\t B & B\\\\\n",
       "\t B & B\\\\\n",
       "\t B & B\\\\\n",
       "\t B & B\\\\\n",
       "\t B & B\\\\\n",
       "\t A & A\\\\\n",
       "\t A & A\\\\\n",
       "\t A & A\\\\\n",
       "\t A & A\\\\\n",
       "\t A & A\\\\\n",
       "\t A & A\\\\\n",
       "\t A & A\\\\\n",
       "\\end{tabular}\n"
      ],
      "text/markdown": [
       "\n",
       "| Rout.Z | myout.Z |\n",
       "|---|---|\n",
       "| A | A |\n",
       "| A | A |\n",
       "| A | A |\n",
       "| A | A |\n",
       "| A | A |\n",
       "| A | A |\n",
       "| A | A |\n",
       "| B | B |\n",
       "| A | A |\n",
       "| A | A |\n",
       "| B | B |\n",
       "| A | A |\n",
       "| A | A |\n",
       "| A | A |\n",
       "| A | A |\n",
       "| A | A |\n",
       "| A | A |\n",
       "| A | A |\n",
       "| A | A |\n",
       "| B | B |\n",
       "| B | B |\n",
       "| B | B |\n",
       "| B | B |\n",
       "| B | B |\n",
       "| A | A |\n",
       "| A | A |\n",
       "| A | A |\n",
       "| A | A |\n",
       "| A | A |\n",
       "| A | A |\n",
       "| A | A |\n",
       "\n"
      ],
      "text/plain": [
       "      Rout.Z myout.Z\n",
       " [1,] A      A      \n",
       " [2,] A      A      \n",
       " [3,] A      A      \n",
       " [4,] A      A      \n",
       " [5,] A      A      \n",
       " [6,] A      A      \n",
       " [7,] A      A      \n",
       " [8,] B      B      \n",
       " [9,] A      A      \n",
       "[10,] A      A      \n",
       "[11,] B      B      \n",
       "[12,] A      A      \n",
       "[13,] A      A      \n",
       "[14,] A      A      \n",
       "[15,] A      A      \n",
       "[16,] A      A      \n",
       "[17,] A      A      \n",
       "[18,] A      A      \n",
       "[19,] A      A      \n",
       "[20,] B      B      \n",
       "[21,] B      B      \n",
       "[22,] B      B      \n",
       "[23,] B      B      \n",
       "[24,] B      B      \n",
       "[25,] A      A      \n",
       "[26,] A      A      \n",
       "[27,] A      A      \n",
       "[28,] A      A      \n",
       "[29,] A      A      \n",
       "[30,] A      A      \n",
       "[31,] A      A      "
      ]
     },
     "metadata": {},
     "output_type": "display_data"
    }
   ],
   "source": [
    "cbind(Rout.Z, myout.Z)[c(1:10, 180:200), ]"
   ]
  },
  {
   "cell_type": "code",
   "execution_count": 29,
   "id": "robust-touch",
   "metadata": {},
   "outputs": [
    {
     "data": {
      "text/html": [
       "0"
      ],
      "text/latex": [
       "0"
      ],
      "text/markdown": [
       "0"
      ],
      "text/plain": [
       "[1] 0"
      ]
     },
     "metadata": {},
     "output_type": "display_data"
    }
   ],
   "source": [
    "sum(Rout.Z != myout.Z)"
   ]
  }
 ],
 "metadata": {
  "kernelspec": {
   "display_name": "R",
   "language": "R",
   "name": "ir"
  },
  "language_info": {
   "codemirror_mode": "r",
   "file_extension": ".r",
   "mimetype": "text/x-r-source",
   "name": "R",
   "pygments_lexer": "r",
   "version": "3.6.1"
  }
 },
 "nbformat": 4,
 "nbformat_minor": 5
}
